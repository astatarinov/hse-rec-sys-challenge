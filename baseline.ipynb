{
 "cells": [
  {
   "cell_type": "markdown",
   "metadata": {},
   "source": [
    "Overview\n",
    "Задача рекомендаций фильмов пользователям на основе истории оценок.\n",
    "В качестве сабмита необходимо предоставить 10 рекомендуемых фильмов для каждого пользователя (см. submission_sample.csv).\n",
    "\n",
    "Метрика: recall@10\n",
    "\n",
    "Для зачета домашнего задания необходимо:\n",
    "\n",
    "Предоставить командный git репозиторий. В репозитории должна быть указана роль каждого члена команды (отмечен скрипт/часть скрипта каждого члена команды).\n",
    "Метрики в репозитории должны быть воспроизводимы\n",
    "\n",
    "**Данные**:\n",
    "1. events.csv - интеракции пользователей (история оценок)\n",
    "2. user_features.csv - признаки пользователя\n",
    "3. item_features.csv - признаки фильмов\n",
    "4. submission_sample.csv - пример сабмита\n",
    "5. Формат сабмита: user_id[str], item_id[str] - см submission_sample.csv"
   ]
  },
  {
   "cell_type": "code",
   "execution_count": 81,
   "metadata": {},
   "outputs": [
    {
     "name": "stdout",
     "output_type": "stream",
     "text": [
      "Requirement already satisfied: pandas in /Users/oanovitskij/.pyenv/versions/3.12.5/lib/python3.12/site-packages (2.2.3)\n",
      "Requirement already satisfied: catboost in /Users/oanovitskij/.pyenv/versions/3.12.5/lib/python3.12/site-packages (1.2.7)\n",
      "Requirement already satisfied: implicit in /Users/oanovitskij/.pyenv/versions/3.12.5/lib/python3.12/site-packages (0.7.2)\n",
      "Requirement already satisfied: seaborn in /Users/oanovitskij/.pyenv/versions/3.12.5/lib/python3.12/site-packages (0.13.2)\n",
      "Requirement already satisfied: recbole in /Users/oanovitskij/.pyenv/versions/3.12.5/lib/python3.12/site-packages (1.2.0)\n",
      "Requirement already satisfied: lightgbm in /Users/oanovitskij/.pyenv/versions/3.12.5/lib/python3.12/site-packages (4.5.0)\n",
      "Requirement already satisfied: ray in /Users/oanovitskij/.pyenv/versions/3.12.5/lib/python3.12/site-packages (2.38.0)\n",
      "Requirement already satisfied: pyarrow in /Users/oanovitskij/.pyenv/versions/3.12.5/lib/python3.12/site-packages (17.0.0)\n",
      "Requirement already satisfied: kmeans_pytorch in /Users/oanovitskij/.pyenv/versions/3.12.5/lib/python3.12/site-packages (0.3)\n",
      "Requirement already satisfied: ipywidgets in /Users/oanovitskij/.pyenv/versions/3.12.5/lib/python3.12/site-packages (8.1.5)\n",
      "Requirement already satisfied: numpy>=1.26.0 in /Users/oanovitskij/.pyenv/versions/3.12.5/lib/python3.12/site-packages (from pandas) (1.26.4)\n",
      "Requirement already satisfied: python-dateutil>=2.8.2 in /Users/oanovitskij/.pyenv/versions/3.12.5/lib/python3.12/site-packages (from pandas) (2.9.0.post0)\n",
      "Requirement already satisfied: pytz>=2020.1 in /Users/oanovitskij/.pyenv/versions/3.12.5/lib/python3.12/site-packages (from pandas) (2024.2)\n",
      "Requirement already satisfied: tzdata>=2022.7 in /Users/oanovitskij/.pyenv/versions/3.12.5/lib/python3.12/site-packages (from pandas) (2024.2)\n",
      "Requirement already satisfied: graphviz in /Users/oanovitskij/.pyenv/versions/3.12.5/lib/python3.12/site-packages (from catboost) (0.20.3)\n",
      "Requirement already satisfied: matplotlib in /Users/oanovitskij/.pyenv/versions/3.12.5/lib/python3.12/site-packages (from catboost) (3.9.2)\n",
      "Requirement already satisfied: scipy in /Users/oanovitskij/.pyenv/versions/3.12.5/lib/python3.12/site-packages (from catboost) (1.14.1)\n",
      "Requirement already satisfied: plotly in /Users/oanovitskij/.pyenv/versions/3.12.5/lib/python3.12/site-packages (from catboost) (5.24.1)\n",
      "Requirement already satisfied: six in /Users/oanovitskij/.pyenv/versions/3.12.5/lib/python3.12/site-packages (from catboost) (1.16.0)\n",
      "Requirement already satisfied: tqdm>=4.27 in /Users/oanovitskij/.pyenv/versions/3.12.5/lib/python3.12/site-packages (from implicit) (4.66.5)\n",
      "Requirement already satisfied: threadpoolctl in /Users/oanovitskij/.pyenv/versions/3.12.5/lib/python3.12/site-packages (from implicit) (3.5.0)\n",
      "Requirement already satisfied: torch>=1.10.0 in /Users/oanovitskij/.pyenv/versions/3.12.5/lib/python3.12/site-packages (from recbole) (2.5.0)\n",
      "Requirement already satisfied: colorlog==4.7.2 in /Users/oanovitskij/.pyenv/versions/3.12.5/lib/python3.12/site-packages (from recbole) (4.7.2)\n",
      "Requirement already satisfied: colorama==0.4.4 in /Users/oanovitskij/.pyenv/versions/3.12.5/lib/python3.12/site-packages (from recbole) (0.4.4)\n",
      "Requirement already satisfied: scikit-learn>=0.23.2 in /Users/oanovitskij/.pyenv/versions/3.12.5/lib/python3.12/site-packages (from recbole) (1.5.2)\n",
      "Requirement already satisfied: pyyaml>=5.1.0 in /Users/oanovitskij/.pyenv/versions/3.12.5/lib/python3.12/site-packages (from recbole) (6.0.2)\n",
      "Requirement already satisfied: tensorboard>=2.5.0 in /Users/oanovitskij/.pyenv/versions/3.12.5/lib/python3.12/site-packages (from recbole) (2.18.0)\n",
      "Requirement already satisfied: thop>=0.1.1.post2207130030 in /Users/oanovitskij/.pyenv/versions/3.12.5/lib/python3.12/site-packages (from recbole) (0.1.1.post2209072238)\n",
      "Requirement already satisfied: tabulate>=0.8.10 in /Users/oanovitskij/.pyenv/versions/3.12.5/lib/python3.12/site-packages (from recbole) (0.9.0)\n",
      "Requirement already satisfied: texttable>=0.9.0 in /Users/oanovitskij/.pyenv/versions/3.12.5/lib/python3.12/site-packages (from recbole) (1.7.0)\n",
      "Requirement already satisfied: click>=7.0 in /Users/oanovitskij/.pyenv/versions/3.12.5/lib/python3.12/site-packages (from ray) (8.1.7)\n",
      "Requirement already satisfied: filelock in /Users/oanovitskij/.pyenv/versions/3.12.5/lib/python3.12/site-packages (from ray) (3.16.1)\n",
      "Requirement already satisfied: jsonschema in /Users/oanovitskij/.pyenv/versions/3.12.5/lib/python3.12/site-packages (from ray) (4.23.0)\n",
      "Requirement already satisfied: msgpack<2.0.0,>=1.0.0 in /Users/oanovitskij/.pyenv/versions/3.12.5/lib/python3.12/site-packages (from ray) (1.1.0)\n",
      "Requirement already satisfied: packaging in /Users/oanovitskij/.pyenv/versions/3.12.5/lib/python3.12/site-packages (from ray) (24.1)\n",
      "Requirement already satisfied: protobuf!=3.19.5,>=3.15.3 in /Users/oanovitskij/.pyenv/versions/3.12.5/lib/python3.12/site-packages (from ray) (5.28.3)\n",
      "Requirement already satisfied: aiosignal in /Users/oanovitskij/.pyenv/versions/3.12.5/lib/python3.12/site-packages (from ray) (1.3.1)\n",
      "Requirement already satisfied: frozenlist in /Users/oanovitskij/.pyenv/versions/3.12.5/lib/python3.12/site-packages (from ray) (1.5.0)\n",
      "Requirement already satisfied: requests in /Users/oanovitskij/.pyenv/versions/3.12.5/lib/python3.12/site-packages (from ray) (2.32.3)\n",
      "Requirement already satisfied: comm>=0.1.3 in /Users/oanovitskij/.pyenv/versions/3.12.5/lib/python3.12/site-packages (from ipywidgets) (0.2.2)\n",
      "Requirement already satisfied: ipython>=6.1.0 in /Users/oanovitskij/.pyenv/versions/3.12.5/lib/python3.12/site-packages (from ipywidgets) (8.29.0)\n",
      "Requirement already satisfied: traitlets>=4.3.1 in /Users/oanovitskij/.pyenv/versions/3.12.5/lib/python3.12/site-packages (from ipywidgets) (5.14.3)\n",
      "Requirement already satisfied: widgetsnbextension~=4.0.12 in /Users/oanovitskij/.pyenv/versions/3.12.5/lib/python3.12/site-packages (from ipywidgets) (4.0.13)\n",
      "Requirement already satisfied: jupyterlab-widgets~=3.0.12 in /Users/oanovitskij/.pyenv/versions/3.12.5/lib/python3.12/site-packages (from ipywidgets) (3.0.13)\n",
      "Requirement already satisfied: decorator in /Users/oanovitskij/.pyenv/versions/3.12.5/lib/python3.12/site-packages (from ipython>=6.1.0->ipywidgets) (5.1.1)\n",
      "Requirement already satisfied: jedi>=0.16 in /Users/oanovitskij/.pyenv/versions/3.12.5/lib/python3.12/site-packages (from ipython>=6.1.0->ipywidgets) (0.19.1)\n",
      "Requirement already satisfied: matplotlib-inline in /Users/oanovitskij/.pyenv/versions/3.12.5/lib/python3.12/site-packages (from ipython>=6.1.0->ipywidgets) (0.1.7)\n",
      "Requirement already satisfied: prompt-toolkit<3.1.0,>=3.0.41 in /Users/oanovitskij/.pyenv/versions/3.12.5/lib/python3.12/site-packages (from ipython>=6.1.0->ipywidgets) (3.0.48)\n",
      "Requirement already satisfied: pygments>=2.4.0 in /Users/oanovitskij/.pyenv/versions/3.12.5/lib/python3.12/site-packages (from ipython>=6.1.0->ipywidgets) (2.18.0)\n",
      "Requirement already satisfied: stack-data in /Users/oanovitskij/.pyenv/versions/3.12.5/lib/python3.12/site-packages (from ipython>=6.1.0->ipywidgets) (0.6.3)\n",
      "Requirement already satisfied: pexpect>4.3 in /Users/oanovitskij/.pyenv/versions/3.12.5/lib/python3.12/site-packages (from ipython>=6.1.0->ipywidgets) (4.9.0)\n",
      "Requirement already satisfied: contourpy>=1.0.1 in /Users/oanovitskij/.pyenv/versions/3.12.5/lib/python3.12/site-packages (from matplotlib->catboost) (1.3.0)\n",
      "Requirement already satisfied: cycler>=0.10 in /Users/oanovitskij/.pyenv/versions/3.12.5/lib/python3.12/site-packages (from matplotlib->catboost) (0.12.1)\n",
      "Requirement already satisfied: fonttools>=4.22.0 in /Users/oanovitskij/.pyenv/versions/3.12.5/lib/python3.12/site-packages (from matplotlib->catboost) (4.54.1)\n",
      "Requirement already satisfied: kiwisolver>=1.3.1 in /Users/oanovitskij/.pyenv/versions/3.12.5/lib/python3.12/site-packages (from matplotlib->catboost) (1.4.7)\n",
      "Requirement already satisfied: pillow>=8 in /Users/oanovitskij/.pyenv/versions/3.12.5/lib/python3.12/site-packages (from matplotlib->catboost) (11.0.0)\n",
      "Requirement already satisfied: pyparsing>=2.3.1 in /Users/oanovitskij/.pyenv/versions/3.12.5/lib/python3.12/site-packages (from matplotlib->catboost) (3.2.0)\n",
      "Requirement already satisfied: tenacity>=6.2.0 in /Users/oanovitskij/.pyenv/versions/3.12.5/lib/python3.12/site-packages (from plotly->catboost) (9.0.0)\n",
      "Requirement already satisfied: joblib>=1.2.0 in /Users/oanovitskij/.pyenv/versions/3.12.5/lib/python3.12/site-packages (from scikit-learn>=0.23.2->recbole) (1.4.2)\n",
      "Requirement already satisfied: absl-py>=0.4 in /Users/oanovitskij/.pyenv/versions/3.12.5/lib/python3.12/site-packages (from tensorboard>=2.5.0->recbole) (2.1.0)\n",
      "Requirement already satisfied: grpcio>=1.48.2 in /Users/oanovitskij/.pyenv/versions/3.12.5/lib/python3.12/site-packages (from tensorboard>=2.5.0->recbole) (1.67.0)\n",
      "Requirement already satisfied: markdown>=2.6.8 in /Users/oanovitskij/.pyenv/versions/3.12.5/lib/python3.12/site-packages (from tensorboard>=2.5.0->recbole) (3.7)\n",
      "Requirement already satisfied: setuptools>=41.0.0 in /Users/oanovitskij/.pyenv/versions/3.12.5/lib/python3.12/site-packages (from tensorboard>=2.5.0->recbole) (75.2.0)\n",
      "Requirement already satisfied: tensorboard-data-server<0.8.0,>=0.7.0 in /Users/oanovitskij/.pyenv/versions/3.12.5/lib/python3.12/site-packages (from tensorboard>=2.5.0->recbole) (0.7.2)\n",
      "Requirement already satisfied: werkzeug>=1.0.1 in /Users/oanovitskij/.pyenv/versions/3.12.5/lib/python3.12/site-packages (from tensorboard>=2.5.0->recbole) (3.0.5)\n",
      "Requirement already satisfied: typing-extensions>=4.8.0 in /Users/oanovitskij/.pyenv/versions/3.12.5/lib/python3.12/site-packages (from torch>=1.10.0->recbole) (4.12.2)\n",
      "Requirement already satisfied: networkx in /Users/oanovitskij/.pyenv/versions/3.12.5/lib/python3.12/site-packages (from torch>=1.10.0->recbole) (3.4.2)\n",
      "Requirement already satisfied: jinja2 in /Users/oanovitskij/.pyenv/versions/3.12.5/lib/python3.12/site-packages (from torch>=1.10.0->recbole) (3.1.4)\n",
      "Requirement already satisfied: fsspec in /Users/oanovitskij/.pyenv/versions/3.12.5/lib/python3.12/site-packages (from torch>=1.10.0->recbole) (2024.10.0)\n",
      "Requirement already satisfied: sympy==1.13.1 in /Users/oanovitskij/.pyenv/versions/3.12.5/lib/python3.12/site-packages (from torch>=1.10.0->recbole) (1.13.1)\n",
      "Requirement already satisfied: mpmath<1.4,>=1.1.0 in /Users/oanovitskij/.pyenv/versions/3.12.5/lib/python3.12/site-packages (from sympy==1.13.1->torch>=1.10.0->recbole) (1.3.0)\n",
      "Requirement already satisfied: attrs>=22.2.0 in /Users/oanovitskij/.pyenv/versions/3.12.5/lib/python3.12/site-packages (from jsonschema->ray) (24.2.0)\n",
      "Requirement already satisfied: jsonschema-specifications>=2023.03.6 in /Users/oanovitskij/.pyenv/versions/3.12.5/lib/python3.12/site-packages (from jsonschema->ray) (2024.10.1)\n",
      "Requirement already satisfied: referencing>=0.28.4 in /Users/oanovitskij/.pyenv/versions/3.12.5/lib/python3.12/site-packages (from jsonschema->ray) (0.35.1)\n",
      "Requirement already satisfied: rpds-py>=0.7.1 in /Users/oanovitskij/.pyenv/versions/3.12.5/lib/python3.12/site-packages (from jsonschema->ray) (0.20.0)\n",
      "Requirement already satisfied: charset-normalizer<4,>=2 in /Users/oanovitskij/.pyenv/versions/3.12.5/lib/python3.12/site-packages (from requests->ray) (3.4.0)\n",
      "Requirement already satisfied: idna<4,>=2.5 in /Users/oanovitskij/.pyenv/versions/3.12.5/lib/python3.12/site-packages (from requests->ray) (3.10)\n",
      "Requirement already satisfied: urllib3<3,>=1.21.1 in /Users/oanovitskij/.pyenv/versions/3.12.5/lib/python3.12/site-packages (from requests->ray) (2.2.3)\n",
      "Requirement already satisfied: certifi>=2017.4.17 in /Users/oanovitskij/.pyenv/versions/3.12.5/lib/python3.12/site-packages (from requests->ray) (2024.8.30)\n",
      "Requirement already satisfied: parso<0.9.0,>=0.8.3 in /Users/oanovitskij/.pyenv/versions/3.12.5/lib/python3.12/site-packages (from jedi>=0.16->ipython>=6.1.0->ipywidgets) (0.8.4)\n",
      "Requirement already satisfied: ptyprocess>=0.5 in /Users/oanovitskij/.pyenv/versions/3.12.5/lib/python3.12/site-packages (from pexpect>4.3->ipython>=6.1.0->ipywidgets) (0.7.0)\n",
      "Requirement already satisfied: wcwidth in /Users/oanovitskij/.pyenv/versions/3.12.5/lib/python3.12/site-packages (from prompt-toolkit<3.1.0,>=3.0.41->ipython>=6.1.0->ipywidgets) (0.2.13)\n",
      "Requirement already satisfied: MarkupSafe>=2.1.1 in /Users/oanovitskij/.pyenv/versions/3.12.5/lib/python3.12/site-packages (from werkzeug>=1.0.1->tensorboard>=2.5.0->recbole) (3.0.2)\n",
      "Requirement already satisfied: executing>=1.2.0 in /Users/oanovitskij/.pyenv/versions/3.12.5/lib/python3.12/site-packages (from stack-data->ipython>=6.1.0->ipywidgets) (2.1.0)\n",
      "Requirement already satisfied: asttokens>=2.1.0 in /Users/oanovitskij/.pyenv/versions/3.12.5/lib/python3.12/site-packages (from stack-data->ipython>=6.1.0->ipywidgets) (2.4.1)\n",
      "Requirement already satisfied: pure-eval in /Users/oanovitskij/.pyenv/versions/3.12.5/lib/python3.12/site-packages (from stack-data->ipython>=6.1.0->ipywidgets) (0.2.3)\n"
     ]
    }
   ],
   "source": [
    "!pip install pandas catboost implicit seaborn recbole lightgbm ray pyarrow kmeans_pytorch ipywidgets\n"
   ]
  },
  {
   "cell_type": "markdown",
   "metadata": {},
   "source": [
    "# EDA"
   ]
  },
  {
   "cell_type": "code",
   "execution_count": 139,
   "metadata": {},
   "outputs": [],
   "source": [
    "import warnings\n",
    "warnings.filterwarnings('ignore')"
   ]
  },
  {
   "cell_type": "code",
   "execution_count": 174,
   "metadata": {},
   "outputs": [],
   "source": [
    "# Импорт необходимых библиотек\n",
    "import pandas as pd\n",
    "import numpy as np\n",
    "import matplotlib.pyplot as plt\n",
    "import seaborn as sns\n",
    "from recbole.utils.case_study import full_sort_topk\n",
    "# Установка стилей для визуализаций\n",
    "sns.set_theme(style='whitegrid', palette='muted')\n",
    "%matplotlib inline\n"
   ]
  },
  {
   "cell_type": "code",
   "execution_count": 34,
   "metadata": {},
   "outputs": [],
   "source": [
    "# Загрузка данных из CSV файлов\n",
    "events = pd.read_csv('data/events.csv')\n",
    "user_features = pd.read_csv('data/user_features.csv')\n",
    "item_features = pd.read_csv('data/item_features.csv')\n"
   ]
  },
  {
   "cell_type": "markdown",
   "metadata": {},
   "source": [
    "# Events"
   ]
  },
  {
   "cell_type": "code",
   "execution_count": 13,
   "metadata": {},
   "outputs": [
    {
     "name": "stdout",
     "output_type": "stream",
     "text": [
      "Events DataFrame:\n",
      "   user_id  item_id  rating  timestamp\n",
      "0        0     1505       4          0\n",
      "1        0     3669       3          1\n",
      "2        0      584       4          2\n",
      "3        0     3390       3          3\n",
      "4        0     2885       4          4\n",
      "<class 'pandas.core.frame.DataFrame'>\n",
      "RangeIndex: 894149 entries, 0 to 894148\n",
      "Data columns (total 4 columns):\n",
      " #   Column     Non-Null Count   Dtype\n",
      "---  ------     --------------   -----\n",
      " 0   user_id    894149 non-null  int64\n",
      " 1   item_id    894149 non-null  int64\n",
      " 2   rating     894149 non-null  int64\n",
      " 3   timestamp  894149 non-null  int64\n",
      "dtypes: int64(4)\n",
      "memory usage: 27.3 MB\n",
      "None\n",
      "             user_id        item_id         rating      timestamp\n",
      "count  894149.000000  894149.000000  894149.000000  894149.000000\n",
      "mean     3000.009516    1844.262022       3.580947     194.684738\n",
      "std      1732.316153    1077.520786       1.116696     218.812300\n",
      "min         0.000000       0.000000       1.000000       0.000000\n",
      "25%      1512.000000     906.000000       3.000000      45.000000\n",
      "50%      2987.000000    1831.000000       4.000000     119.000000\n",
      "75%      4481.000000    2774.000000       4.000000     267.000000\n",
      "max      6039.000000    3705.000000       5.000000    2312.000000\n"
     ]
    }
   ],
   "source": [
    "print(\"Events DataFrame:\")\n",
    "print(events.head())\n",
    "print(events.info())\n",
    "print(events.describe())\n"
   ]
  },
  {
   "cell_type": "markdown",
   "metadata": {},
   "source": [
    "# User"
   ]
  },
  {
   "cell_type": "code",
   "execution_count": 14,
   "metadata": {},
   "outputs": [
    {
     "name": "stdout",
     "output_type": "stream",
     "text": [
      "User Features DataFrame:\n",
      "   user_id gender  age\n",
      "0     4855      F    1\n",
      "1     4065      M   56\n",
      "2     3331      M   25\n",
      "3     5373      M   45\n",
      "4     2032      M   25\n",
      "<class 'pandas.core.frame.DataFrame'>\n",
      "RangeIndex: 6040 entries, 0 to 6039\n",
      "Data columns (total 3 columns):\n",
      " #   Column   Non-Null Count  Dtype \n",
      "---  ------   --------------  ----- \n",
      " 0   user_id  6040 non-null   int64 \n",
      " 1   gender   6040 non-null   object\n",
      " 2   age      6040 non-null   int64 \n",
      "dtypes: int64(2), object(1)\n",
      "memory usage: 141.7+ KB\n",
      "None\n",
      "           user_id          age\n",
      "count  6040.000000  6040.000000\n",
      "mean   3019.500000    30.639238\n",
      "std    1743.742145    12.895962\n",
      "min       0.000000     1.000000\n",
      "25%    1509.750000    25.000000\n",
      "50%    3019.500000    25.000000\n",
      "75%    4529.250000    35.000000\n",
      "max    6039.000000    56.000000\n"
     ]
    }
   ],
   "source": [
    "print(\"User Features DataFrame:\")\n",
    "print(user_features.head())\n",
    "print(user_features.info())\n",
    "print(user_features.describe())\n"
   ]
  },
  {
   "cell_type": "markdown",
   "metadata": {},
   "source": [
    "# Item"
   ]
  },
  {
   "cell_type": "code",
   "execution_count": 15,
   "metadata": {},
   "outputs": [
    {
     "name": "stdout",
     "output_type": "stream",
     "text": [
      "Item Features DataFrame:\n",
      "   item_id  genre_0  genre_1  genre_2  genre_3  genre_4  genre_5  genre_6  \\\n",
      "0        0        0        1        0        1        1        0        0   \n",
      "1        1        0        0        0        0        0        0        0   \n",
      "2        2        0        0        0        0        0        0        0   \n",
      "3        3        0        0        0        0        0        0        0   \n",
      "4        4        0        0        0        0        0        0        0   \n",
      "\n",
      "   genre_7  genre_8  genre_9  genre_10  genre_11  genre_12  genre_13  \\\n",
      "0        0        1        0         0         0         0         1   \n",
      "1        1        0        0         0         0         0         0   \n",
      "2        1        0        0         0         0         0         0   \n",
      "3        1        0        0         0         0         0         1   \n",
      "4        1        0        0         0         0         0         0   \n",
      "\n",
      "   genre_14  genre_15  genre_16  genre_17  \n",
      "0         0         0         0         0  \n",
      "1         0         0         0         0  \n",
      "2         0         0         0         0  \n",
      "3         0         0         0         0  \n",
      "4         0         0         0         0  \n",
      "<class 'pandas.core.frame.DataFrame'>\n",
      "RangeIndex: 3706 entries, 0 to 3705\n",
      "Data columns (total 19 columns):\n",
      " #   Column    Non-Null Count  Dtype\n",
      "---  ------    --------------  -----\n",
      " 0   item_id   3706 non-null   int64\n",
      " 1   genre_0   3706 non-null   int64\n",
      " 2   genre_1   3706 non-null   int64\n",
      " 3   genre_2   3706 non-null   int64\n",
      " 4   genre_3   3706 non-null   int64\n",
      " 5   genre_4   3706 non-null   int64\n",
      " 6   genre_5   3706 non-null   int64\n",
      " 7   genre_6   3706 non-null   int64\n",
      " 8   genre_7   3706 non-null   int64\n",
      " 9   genre_8   3706 non-null   int64\n",
      " 10  genre_9   3706 non-null   int64\n",
      " 11  genre_10  3706 non-null   int64\n",
      " 12  genre_11  3706 non-null   int64\n",
      " 13  genre_12  3706 non-null   int64\n",
      " 14  genre_13  3706 non-null   int64\n",
      " 15  genre_14  3706 non-null   int64\n",
      " 16  genre_15  3706 non-null   int64\n",
      " 17  genre_16  3706 non-null   int64\n",
      " 18  genre_17  3706 non-null   int64\n",
      "dtypes: int64(19)\n",
      "memory usage: 550.2 KB\n",
      "None\n",
      "           item_id      genre_0      genre_1      genre_2      genre_3  \\\n",
      "count  3706.000000  3706.000000  3706.000000  3706.000000  3706.000000   \n",
      "mean   1852.500000     0.133567     0.075823     0.028332     0.067458   \n",
      "std    1069.974377     0.340233     0.264750     0.165943     0.250848   \n",
      "min       0.000000     0.000000     0.000000     0.000000     0.000000   \n",
      "25%     926.250000     0.000000     0.000000     0.000000     0.000000   \n",
      "50%    1852.500000     0.000000     0.000000     0.000000     0.000000   \n",
      "75%    2778.750000     0.000000     0.000000     0.000000     0.000000   \n",
      "max    3705.000000     1.000000     1.000000     1.000000     1.000000   \n",
      "\n",
      "           genre_4      genre_5      genre_6      genre_7      genre_8  \\\n",
      "count  3706.000000  3706.000000  3706.000000  3706.000000  3706.000000   \n",
      "mean      0.313815     0.054236     0.029682     0.402860     0.018349   \n",
      "std       0.464105     0.226514     0.169730     0.490539     0.134227   \n",
      "min       0.000000     0.000000     0.000000     0.000000     0.000000   \n",
      "25%       0.000000     0.000000     0.000000     0.000000     0.000000   \n",
      "50%       0.000000     0.000000     0.000000     0.000000     0.000000   \n",
      "75%       1.000000     0.000000     0.000000     1.000000     0.000000   \n",
      "max       1.000000     1.000000     1.000000     1.000000     1.000000   \n",
      "\n",
      "           genre_9     genre_10     genre_11     genre_12     genre_13  \\\n",
      "count  3706.000000  3706.000000  3706.000000  3706.000000  3706.000000   \n",
      "mean      0.011873     0.091473     0.030491     0.028063     0.123853   \n",
      "std       0.108327     0.288320     0.171957     0.165174     0.329458   \n",
      "min       0.000000     0.000000     0.000000     0.000000     0.000000   \n",
      "25%       0.000000     0.000000     0.000000     0.000000     0.000000   \n",
      "50%       0.000000     0.000000     0.000000     0.000000     0.000000   \n",
      "75%       0.000000     0.000000     0.000000     0.000000     0.000000   \n",
      "max       1.000000     1.000000     1.000000     1.000000     1.000000   \n",
      "\n",
      "          genre_14     genre_15     genre_16     genre_17  \n",
      "count  3706.000000  3706.000000  3706.000000  3706.000000  \n",
      "mean      0.073934     0.130869     0.038046     0.018079  \n",
      "std       0.261699     0.337302     0.191334     0.133254  \n",
      "min       0.000000     0.000000     0.000000     0.000000  \n",
      "25%       0.000000     0.000000     0.000000     0.000000  \n",
      "50%       0.000000     0.000000     0.000000     0.000000  \n",
      "75%       0.000000     0.000000     0.000000     0.000000  \n",
      "max       1.000000     1.000000     1.000000     1.000000  \n"
     ]
    }
   ],
   "source": [
    "print(\"Item Features DataFrame:\")\n",
    "print(item_features.head())\n",
    "print(item_features.info())\n",
    "print(item_features.describe())\n"
   ]
  },
  {
   "cell_type": "markdown",
   "metadata": {},
   "source": [
    "# Rating distribution"
   ]
  },
  {
   "cell_type": "code",
   "execution_count": 19,
   "metadata": {},
   "outputs": [
    {
     "name": "stdout",
     "output_type": "stream",
     "text": [
      "Unique ratings: [4 3 5 2 1]\n"
     ]
    },
    {
     "name": "stderr",
     "output_type": "stream",
     "text": [
      "/var/folders/9y/9f_dlksd3zq7q65kpsdpdmg00000gn/T/ipykernel_48053/54101763.py:6: FutureWarning: \n",
      "\n",
      "Passing `palette` without assigning `hue` is deprecated and will be removed in v0.14.0. Assign the `x` variable to `hue` and set `legend=False` for the same effect.\n",
      "\n",
      "  sns.countplot(x='rating', data=events, palette='viridis')\n"
     ]
    },
    {
     "data": {
      "image/png": "[encoded data removed]",
      "text/plain": [
       "<Figure size 800x600 with 1 Axes>"
      ]
     },
     "metadata": {},
     "output_type": "display_data"
    }
   ],
   "source": [
    "# Проверка уникальных значений в рейтингах\n",
    "print(\"Unique ratings:\", events['rating'].unique())\n",
    "\n",
    "# Гистограмма распределения оценок\n",
    "plt.figure(figsize=(8,6))\n",
    "sns.countplot(x='rating', data=events, palette='viridis')\n",
    "plt.title('Распределение оценок пользователей')\n",
    "plt.xlabel('Оценка')\n",
    "plt.ylabel('Количество')\n",
    "plt.show()\n"
   ]
  },
  {
   "cell_type": "code",
   "execution_count": 42,
   "metadata": {},
   "outputs": [
    {
     "data": {
      "text/plain": [
       "rating\n",
       "1     50256\n",
       "2     96001\n",
       "3    233824\n",
       "4    312170\n",
       "5    201898\n",
       "Name: timestamp, dtype: int64"
      ]
     },
     "execution_count": 42,
     "metadata": {},
     "output_type": "execute_result"
    }
   ],
   "source": [
    "events.groupby('rating')['timestamp'].count()"
   ]
  },
  {
   "cell_type": "markdown",
   "metadata": {},
   "source": [
    "# Rating-user distribution"
   ]
  },
  {
   "cell_type": "code",
   "execution_count": 44,
   "metadata": {},
   "outputs": [
    {
     "data": {
      "image/png": "[encoded data removed]",
      "text/plain": [
       "<Figure size 1000x600 with 1 Axes>"
      ]
     },
     "metadata": {},
     "output_type": "display_data"
    },
    {
     "name": "stdout",
     "output_type": "stream",
     "text": [
      "count    6040.000000\n",
      "mean      148.037914\n",
      "std       173.461681\n",
      "min        14.000000\n",
      "10%        24.000000\n",
      "20%        33.000000\n",
      "30%        45.000000\n",
      "40%        62.000000\n",
      "50%        84.500000\n",
      "60%       114.000000\n",
      "70%       154.000000\n",
      "80%       227.000000\n",
      "90%       357.000000\n",
      "100%     2056.000000\n",
      "max      2056.000000\n",
      "Name: num_ratings, dtype: float64\n"
     ]
    }
   ],
   "source": [
    "# Подсчет количества оценок каждым пользователем\n",
    "user_activity = events.groupby('user_id')['rating'].count().reset_index()\n",
    "user_activity.columns = ['user_id', 'num_ratings']\n",
    "\n",
    "# Распределение количества оценок на пользователя\n",
    "plt.figure(figsize=(10,6))\n",
    "sns.histplot(user_activity['num_ratings'], bins=50, kde=True)\n",
    "plt.title('Распределение количества оценок на пользователя')\n",
    "plt.xlabel('Количество оценок')\n",
    "plt.ylabel('Количество пользователей')\n",
    "plt.show()\n",
    "\n",
    "# Статистики по активности пользователей\n",
    "print(user_activity['num_ratings'].describe([0.1, 0.2, 0.3, 0.4, 0.5, 0.6, 0.7, 0.8, 0.9, 1]))\n"
   ]
  },
  {
   "cell_type": "markdown",
   "metadata": {},
   "source": [
    "# Rating-item distribution"
   ]
  },
  {
   "cell_type": "code",
   "execution_count": 45,
   "metadata": {},
   "outputs": [
    {
     "name": "stdout",
     "output_type": "stream",
     "text": [
      "Топ-10 самых популярных фильмов:\n",
      "      item_id  num_ratings\n",
      "469       472         3067\n",
      "1574     1583         2699\n",
      "3009     3022         2639\n",
      "2285     2297         2612\n",
      "581       584         2423\n",
      "3513     3529         2384\n",
      "635       640         2363\n",
      "2720     2732         2328\n",
      "1821     1831         2313\n",
      "1217     1223         2310\n"
     ]
    },
    {
     "data": {
      "image/png": "[encoded data removed]",
      "text/plain": [
       "<Figure size 1000x600 with 1 Axes>"
      ]
     },
     "metadata": {},
     "output_type": "display_data"
    },
    {
     "name": "stdout",
     "output_type": "stream",
     "text": [
      "count    3690.000000\n",
      "mean      242.316802\n",
      "std       343.984762\n",
      "min         1.000000\n",
      "10%         6.000000\n",
      "20%        21.000000\n",
      "30%        40.000000\n",
      "40%        68.000000\n",
      "50%       111.000000\n",
      "60%       168.000000\n",
      "70%       250.000000\n",
      "80%       384.200000\n",
      "90%       656.100000\n",
      "100%     3067.000000\n",
      "max      3067.000000\n",
      "Name: num_ratings, dtype: float64\n"
     ]
    }
   ],
   "source": [
    "# Подсчет количества оценок для каждого фильма\n",
    "item_popularity = events.groupby('item_id')['rating'].count().reset_index()\n",
    "item_popularity.columns = ['item_id', 'num_ratings']\n",
    "\n",
    "# Топ-10 самых популярных фильмов\n",
    "top_items = item_popularity.sort_values('num_ratings', ascending=False).head(10)\n",
    "print(\"Топ-10 самых популярных фильмов:\")\n",
    "print(top_items)\n",
    "\n",
    "# Распределение количества оценок на фильм\n",
    "plt.figure(figsize=(10,6))\n",
    "sns.histplot(item_popularity['num_ratings'], bins=50, kde=True)\n",
    "plt.title('Распределение количества оценок на фильм')\n",
    "plt.xlabel('Количество оценок')\n",
    "plt.ylabel('Количество фильмов')\n",
    "plt.show()\n",
    "\n",
    "# Статистики по популярности фильмов\n",
    "print(item_popularity['num_ratings'].describe([0.1, 0.2, 0.3, 0.4, 0.5, 0.6, 0.7, 0.8, 0.9, 1]))\n"
   ]
  },
  {
   "cell_type": "code",
   "execution_count": null,
   "metadata": {},
   "outputs": [],
   "source": []
  },
  {
   "cell_type": "markdown",
   "metadata": {},
   "source": [
    "# User features"
   ]
  },
  {
   "cell_type": "code",
   "execution_count": 22,
   "metadata": {},
   "outputs": [
    {
     "name": "stdout",
     "output_type": "stream",
     "text": [
      "Числовые признаки пользователей: ['user_id', 'age']\n",
      "Категориальные признаки пользователей: ['gender']\n"
     ]
    }
   ],
   "source": [
    "# Разделение признаков на числовые и категориальные\n",
    "numeric_features = user_features.select_dtypes(include=[np.number]).columns.tolist()\n",
    "categorical_features = user_features.select_dtypes(exclude=[np.number]).columns.tolist()\n",
    "\n",
    "print(\"Числовые признаки пользователей:\", numeric_features)\n",
    "print(\"Категориальные признаки пользователей:\", categorical_features)\n"
   ]
  },
  {
   "cell_type": "code",
   "execution_count": 24,
   "metadata": {},
   "outputs": [
    {
     "data": {
      "image/png": "[encoded data removed]",
      "text/plain": [
       "<Figure size 800x600 with 1 Axes>"
      ]
     },
     "metadata": {},
     "output_type": "display_data"
    }
   ],
   "source": [
    "# Распределение числовых признаков\n",
    "for feature in numeric_features[1:]:\n",
    "    plt.figure(figsize=(8,6))\n",
    "    sns.histplot(user_features[feature], bins=30, kde=True)\n",
    "    plt.title(f'Распределение признака {feature}')\n",
    "    plt.xlabel(feature)\n",
    "    plt.ylabel('Количество пользователей')\n",
    "    plt.show()\n"
   ]
  },
  {
   "cell_type": "code",
   "execution_count": 49,
   "metadata": {},
   "outputs": [
    {
     "data": {
      "text/plain": [
       "age\n",
       "25    2096\n",
       "35    1193\n",
       "18    1103\n",
       "45     550\n",
       "50     496\n",
       "56     380\n",
       "1      222\n",
       "Name: count, dtype: int64"
      ]
     },
     "execution_count": 49,
     "metadata": {},
     "output_type": "execute_result"
    }
   ],
   "source": [
    "user_features['age'].value_counts()"
   ]
  },
  {
   "cell_type": "code",
   "execution_count": 25,
   "metadata": {},
   "outputs": [
    {
     "data": {
      "image/png": "[encoded data removed]",
      "text/plain": [
       "<Figure size 800x600 with 1 Axes>"
      ]
     },
     "metadata": {},
     "output_type": "display_data"
    }
   ],
   "source": [
    "# Распределение категориальных признаков\n",
    "for feature in categorical_features:\n",
    "    plt.figure(figsize=(8,6))\n",
    "    sns.countplot(y=feature, data=user_features, order=user_features[feature].value_counts().index)\n",
    "    plt.title(f'Распределение признака {feature}')\n",
    "    plt.xlabel('Количество')\n",
    "    plt.ylabel(feature)\n",
    "    plt.show()\n"
   ]
  },
  {
   "cell_type": "code",
   "execution_count": 50,
   "metadata": {},
   "outputs": [
    {
     "data": {
      "text/plain": [
       "gender\n",
       "M    4331\n",
       "F    1709\n",
       "Name: count, dtype: int64"
      ]
     },
     "execution_count": 50,
     "metadata": {},
     "output_type": "execute_result"
    }
   ],
   "source": [
    "user_features['gender'].value_counts()"
   ]
  },
  {
   "cell_type": "markdown",
   "metadata": {},
   "source": [
    "# Item features"
   ]
  },
  {
   "cell_type": "code",
   "execution_count": 27,
   "metadata": {},
   "outputs": [
    {
     "name": "stdout",
     "output_type": "stream",
     "text": [
      "Числовые признаки фильмов: ['item_id', 'genre_0', 'genre_1', 'genre_2', 'genre_3', 'genre_4', 'genre_5', 'genre_6', 'genre_7', 'genre_8', 'genre_9', 'genre_10', 'genre_11', 'genre_12', 'genre_13', 'genre_14', 'genre_15', 'genre_16', 'genre_17']\n",
      "Категориальные признаки фильмов: []\n"
     ]
    }
   ],
   "source": [
    "# Разделение признаков на числовые и категориальные\n",
    "numeric_features_items = item_features.select_dtypes(include=[np.number]).columns.tolist()\n",
    "categorical_features_items = item_features.select_dtypes(exclude=[np.number]).columns.tolist()\n",
    "\n",
    "print(\"Числовые признаки фильмов:\", numeric_features_items)\n",
    "print(\"Категориальные признаки фильмов:\", categorical_features_items)\n"
   ]
  },
  {
   "cell_type": "code",
   "execution_count": 57,
   "metadata": {},
   "outputs": [
    {
     "name": "stdout",
     "output_type": "stream",
     "text": [
      "genre_0\n",
      "0    3211\n",
      "1     495\n",
      "Name: count, dtype: int64\n",
      "genre_1\n",
      "0    3425\n",
      "1     281\n",
      "Name: count, dtype: int64\n",
      "genre_2\n",
      "0    3601\n",
      "1     105\n",
      "Name: count, dtype: int64\n",
      "genre_3\n",
      "0    3456\n",
      "1     250\n",
      "Name: count, dtype: int64\n",
      "genre_4\n",
      "0    2543\n",
      "1    1163\n",
      "Name: count, dtype: int64\n",
      "genre_5\n",
      "0    3505\n",
      "1     201\n",
      "Name: count, dtype: int64\n",
      "genre_6\n",
      "0    3596\n",
      "1     110\n",
      "Name: count, dtype: int64\n",
      "genre_7\n",
      "0    2213\n",
      "1    1493\n",
      "Name: count, dtype: int64\n",
      "genre_8\n",
      "0    3638\n",
      "1      68\n",
      "Name: count, dtype: int64\n",
      "genre_9\n",
      "0    3662\n",
      "1      44\n",
      "Name: count, dtype: int64\n",
      "genre_10\n",
      "0    3367\n",
      "1     339\n",
      "Name: count, dtype: int64\n",
      "genre_11\n",
      "0    3593\n",
      "1     113\n",
      "Name: count, dtype: int64\n",
      "genre_12\n",
      "0    3602\n",
      "1     104\n",
      "Name: count, dtype: int64\n",
      "genre_13\n",
      "0    3247\n",
      "1     459\n",
      "Name: count, dtype: int64\n",
      "genre_14\n",
      "0    3432\n",
      "1     274\n",
      "Name: count, dtype: int64\n",
      "genre_15\n",
      "0    3221\n",
      "1     485\n",
      "Name: count, dtype: int64\n",
      "genre_16\n",
      "0    3565\n",
      "1     141\n",
      "Name: count, dtype: int64\n",
      "genre_17\n",
      "0    3639\n",
      "1      67\n",
      "Name: count, dtype: int64\n"
     ]
    }
   ],
   "source": [
    "for feature in numeric_features_items[1:]:\n",
    "    print(item_features[feature].value_counts())"
   ]
  },
  {
   "cell_type": "markdown",
   "metadata": {},
   "source": [
    "# Correlations"
   ]
  },
  {
   "cell_type": "code",
   "execution_count": 30,
   "metadata": {},
   "outputs": [
    {
     "name": "stdout",
     "output_type": "stream",
     "text": [
      "Корреляционная матрица:\n",
      "rating      1.000000\n",
      "genre_7     0.122675\n",
      "genre_16    0.075753\n",
      "genre_9     0.060380\n",
      "genre_5     0.033169\n",
      "genre_6     0.028262\n",
      "genre_2     0.019175\n",
      "genre_12    0.015871\n",
      "genre_11    0.015266\n",
      "genre_13    0.009702\n",
      "item_id     0.008097\n",
      "genre_17    0.007020\n",
      "genre_15   -0.004879\n",
      "genre_8    -0.023505\n",
      "genre_1    -0.036892\n",
      "genre_4    -0.040167\n",
      "genre_3    -0.040481\n",
      "genre_14   -0.043994\n",
      "genre_0    -0.047415\n",
      "genre_10   -0.094018\n",
      "Name: rating, dtype: float64\n"
     ]
    }
   ],
   "source": [
    "events_items = pd.merge(events, item_features, on='item_id', how='left')\n",
    "\n",
    "corr_matrix = events_items[['rating'] + numeric_features_items].corr()\n",
    "print(\"Корреляционная матрица:\")\n",
    "print(corr_matrix['rating'].sort_values(ascending=False))\n"
   ]
  },
  {
   "cell_type": "code",
   "execution_count": 63,
   "metadata": {},
   "outputs": [
    {
     "name": "stdout",
     "output_type": "stream",
     "text": [
      "genre_0\n",
      "0    3.612132\n",
      "1    3.491048\n",
      "Name: rating, dtype: float64\n",
      "genre_1\n",
      "0    3.597153\n",
      "1    3.476219\n",
      "Name: rating, dtype: float64\n",
      "genre_2\n",
      "0    3.576389\n",
      "1    3.681547\n",
      "Name: rating, dtype: float64\n",
      "genre_3\n",
      "0    3.593568\n",
      "1    3.419043\n",
      "Name: rating, dtype: float64\n",
      "genre_4\n",
      "0    3.614340\n",
      "1    3.520699\n",
      "Name: rating, dtype: float64\n",
      "genre_5\n",
      "0    3.570042\n",
      "1    3.706751\n",
      "Name: rating, dtype: float64\n",
      "genre_6\n",
      "0    3.578140\n",
      "1    3.935852\n",
      "Name: rating, dtype: float64\n",
      "genre_7\n",
      "0    3.479370\n",
      "1    3.765698\n",
      "Name: rating, dtype: float64\n",
      "genre_8\n",
      "0    3.58603\n",
      "1    3.44540\n",
      "Name: rating, dtype: float64\n",
      "genre_9\n",
      "0    3.571762\n",
      "1    4.075945\n",
      "Name: rating, dtype: float64\n",
      "genre_10\n",
      "0    3.611114\n",
      "1    3.215561\n",
      "Name: rating, dtype: float64\n",
      "genre_11\n",
      "0    3.577396\n",
      "1    3.662794\n",
      "Name: rating, dtype: float64\n",
      "genre_12\n",
      "0    3.577324\n",
      "1    3.667642\n",
      "Name: rating, dtype: float64\n",
      "genre_13\n",
      "0    3.576442\n",
      "1    3.607003\n",
      "Name: rating, dtype: float64\n",
      "genre_14\n",
      "0    3.602171\n",
      "1    3.467226\n",
      "Name: rating, dtype: float64\n",
      "genre_15\n",
      "0    3.583581\n",
      "1    3.569680\n",
      "Name: rating, dtype: float64\n",
      "genre_16\n",
      "0    3.557985\n",
      "1    3.892598\n",
      "Name: rating, dtype: float64\n",
      "genre_17\n",
      "0    3.579807\n",
      "1    3.634879\n",
      "Name: rating, dtype: float64\n"
     ]
    }
   ],
   "source": [
    "for feature in numeric_features_items[1:]:\n",
    "    print(events_items.groupby(feature)['rating'].mean())"
   ]
  },
  {
   "cell_type": "markdown",
   "metadata": {},
   "source": [
    "# Timestamp analysis"
   ]
  },
  {
   "cell_type": "code",
   "execution_count": 70,
   "metadata": {},
   "outputs": [
    {
     "data": {
      "text/plain": [
       "count    2256.000000\n",
       "mean      396.342642\n",
       "std       922.590881\n",
       "min         1.000000\n",
       "10%         1.000000\n",
       "20%         2.000000\n",
       "30%         3.000000\n",
       "40%         6.000000\n",
       "50%        24.000000\n",
       "60%        56.000000\n",
       "70%       173.000000\n",
       "80%       426.000000\n",
       "90%      1227.500000\n",
       "95%      2370.500000\n",
       "98%      3962.100000\n",
       "100%     5489.000000\n",
       "max      5489.000000\n",
       "Name: rating, dtype: float64"
      ]
     },
     "execution_count": 70,
     "metadata": {},
     "output_type": "execute_result"
    }
   ],
   "source": [
    "events.groupby('timestamp')['rating'].count().describe([0.1, 0.2, 0.3, 0.4, 0.5, 0.6, 0.7, 0.8, 0.9, 0.95, 0.98, 1])\n"
   ]
  },
  {
   "cell_type": "code",
   "execution_count": 40,
   "metadata": {},
   "outputs": [
    {
     "name": "stdout",
     "output_type": "stream",
     "text": [
      "Разреженность матрицы взаимодействий: 95.99%\n"
     ]
    }
   ],
   "source": [
    "# Создание сводной таблицы (матрицы взаимодействий)\n",
    "interaction_matrix = events.pivot_table(index='user_id', columns='item_id', values='rating')\n",
    "\n",
    "# Проверка разреженности матрицы\n",
    "sparsity = 1.0 - len(events) / float(interaction_matrix.shape[0] * interaction_matrix.shape[1])\n",
    "print('Разреженность матрицы взаимодействий: {:.2%}'.format(sparsity))\n"
   ]
  },
  {
   "cell_type": "markdown",
   "metadata": {},
   "source": [
    "# Models"
   ]
  },
  {
   "cell_type": "code",
   "execution_count": 95,
   "metadata": {},
   "outputs": [],
   "source": [
    "import os\n",
    "import pandas as pd\n",
    "import numpy as np\n",
    "import torch\n",
    "from recbole.config import Config\n",
    "from recbole.utils import init_seed, init_logger, get_trainer, get_model\n",
    "from recbole.data import create_dataset, data_preparation\n",
    "from recbole.trainer import Trainer\n",
    "import logging\n",
    "from logging import getLogger\n"
   ]
  },
  {
   "cell_type": "code",
   "execution_count": 96,
   "metadata": {},
   "outputs": [],
   "source": [
    "data_path = './data'\n",
    "events_file = os.path.join(data_path, 'events.csv')\n",
    "user_features_file = os.path.join(data_path, 'user_features.csv')\n",
    "item_features_file = os.path.join(data_path, 'item_features.csv')\n",
    "\n",
    "\n",
    "events = pd.read_csv(events_file)\n",
    "user_features = pd.read_csv(user_features_file)\n",
    "item_features = pd.read_csv(item_features_file)\n"
   ]
  },
  {
   "cell_type": "code",
   "execution_count": 97,
   "metadata": {},
   "outputs": [],
   "source": [
    "user_features['gender'] = user_features['gender'].map({'M': 0, 'F': 1}).astype(int)\n",
    "user_features['age'] = user_features['age'].astype(int)\n",
    "genre_cols = [col for col in item_features.columns if 'genre_' in col]\n",
    "\n",
    "\n",
    "def get_genre_ids(row):\n",
    "    return [i for i, col in enumerate(genre_cols) if row[col] == 1]\n",
    "\n",
    "item_features['genre_ids'] = item_features.apply(get_genre_ids, axis=1)\n",
    "\n",
    "\n",
    "item_features = item_features[['item_id', 'genre_ids']]\n",
    "\n",
    "item_features['genre_ids'] = item_features['genre_ids'].apply(lambda x: ' '.join(map(str, x)))"
   ]
  },
  {
   "cell_type": "markdown",
   "metadata": {},
   "source": [
    "## Inter"
   ]
  },
  {
   "cell_type": "code",
   "execution_count": 117,
   "metadata": {},
   "outputs": [],
   "source": [
    "recbole_data_path = './recbole_data'\n",
    "dataset_name = 'movies'\n",
    "dataset_path = os.path.join(recbole_data_path, dataset_name)\n",
    "if not os.path.exists(dataset_path):\n",
    "    os.makedirs(dataset_path)\n",
    "\n",
    "interactions = events[['user_id', 'item_id', 'rating', 'timestamp']]\n",
    "inter_file = os.path.join(dataset_path, f'{dataset_name}.inter')\n",
    "interactions.to_csv(inter_file, sep='\\t', index=False)\n",
    "\n",
    "user_file = os.path.join(dataset_path, f'{dataset_name}.user')\n",
    "user_features.to_csv(user_file, sep='\\t', index=False)\n",
    "\n",
    "item_file = os.path.join(dataset_path, f'{dataset_name}.item')\n",
    "item_features.to_csv(item_file, sep='\\t', index=False)\n"
   ]
  },
  {
   "cell_type": "markdown",
   "metadata": {},
   "source": [
    "## Config"
   ]
  },
  {
   "cell_type": "code",
   "execution_count": null,
   "metadata": {},
   "outputs": [],
   "source": [
    "\n",
    "parameter_dict = {\n",
    "    'data_path': recbole_data_path,\n",
    "    'dataset': dataset_name,\n",
    "    'USER_ID_FIELD': 'user_id',\n",
    "    'ITEM_ID_FIELD': 'item_id',\n",
    "    'RATING_FIELD': 'rating',\n",
    "    'TIME_FIELD': 'timestamp',\n",
    "    'load_col': {\n",
    "        'inter': ['user_id', 'item_id', 'rating', 'timestamp'],\n",
    "        'user': ['user_id', 'gender', 'age'],\n",
    "        'item': ['item_id', 'genre_ids'],\n",
    "    },\n",
    "    'train_neg_sample_args': {\n",
    "        'distribution': 'uniform',\n",
    "        'sample_num': 1,\n",
    "        'dynamic': False,\n",
    "        'candidate_num': 0,\n",
    "        'alpha': 1.0,  # Дополнительно для некоторых моделей с негативным семплированием\n",
    "    },\n",
    "    'eval_args': {\n",
    "        'split': {'RS': [0.8, 0.1, 0.1]},\n",
    "        'group_by': 'user',\n",
    "        'order': 'TO',\n",
    "        'mode': {'valid': 'full', 'test': 'full'},  # Задано поэтапно для каждого этапа\n",
    "    },\n",
    "    'metrics': ['Recall', 'NDCG', 'Hit', 'Precision', 'MAP'],\n",
    "    'topk': 10,\n",
    "    'valid_metric': 'Recall@10',  # Указан для ранней остановки на этапе валидации\n",
    "    'epochs': 1,\n",
    "    'stopping_step': 3,\n",
    "    'seed': 42,\n",
    "    'device': 'cuda' if torch.cuda.is_available() else 'cpu',\n",
    "    'show_progress': True,\n",
    "    'checkpoint_dir': './saved',\n",
    "    'checkpoint_save_steps': 1,  # Частое сохранение контрольной точки для долгих эпох\n",
    "    'logging_level': 'INFO',\n",
    "    'worker': 10,\n",
    "    'reproducibility': True,\n",
    "    'state': 'INFO',  # Уровень логов для вывода\n",
    "}"
   ]
  },
  {
   "cell_type": "markdown",
   "metadata": {},
   "source": [
    "# Train and evaluate"
   ]
  },
  {
   "cell_type": "code",
   "execution_count": 204,
   "metadata": {},
   "outputs": [],
   "source": [
    "models_single_epoch = [\n",
    "    'Pop',        # Популярностная модель\n",
    "    'ItemKNN',    # Модель ближайших соседей по элементам\n",
    "    'SLIMElastic', # Модель SLIM с эластичным регуляризатором\n",
    "    'EASE',       # Модель EASE для рекомендаций\n",
    "]\n",
    "\n",
    "# Функция тренировки и оценки\n",
    "def train_and_evaluate(model_name, parameter_dict):\n",
    "    config_dict = parameter_dict.copy()\n",
    "    \n",
    "    # Настройка параметров для моделей без семплирования\n",
    "    if model_name in models_need_no_neg_sampling:\n",
    "        config_dict.pop('train_neg_sample_args', None)\n",
    "    \n",
    "    # Установка 1 эпохи для моделей из списка\n",
    "    config_dict['epochs'] = 1 if model_name in models_single_epoch else parameter_dict['epochs']\n",
    "    \n",
    "    # Инициализация конфигурации и логгера\n",
    "    config = Config(model=model_name, config_dict=config_dict)\n",
    "    init_seed(config['seed'], config['reproducibility'])\n",
    "    init_logger(config)\n",
    "    logger = getLogger()\n",
    "    \n",
    "    # Загрузка датасета\n",
    "    dataset = create_dataset(config)\n",
    "    logger.info(dataset)\n",
    "    \n",
    "    # Разделение данных\n",
    "    train_data, valid_data, test_data = data_preparation(config, dataset)\n",
    "    \n",
    "    # Инициализация модели и тренера\n",
    "    model = get_model(config['model'])(config, train_data.dataset).to(config['device'])\n",
    "    trainer = get_trainer(config['MODEL_TYPE'], config['model'])(config, model)\n",
    "    \n",
    "    # Запуск тренировки\n",
    "    best_valid_score, best_valid_result = trainer.fit(train_data, valid_data)\n",
    "    \n",
    "    # Оценка модели\n",
    "    test_result = trainer.evaluate(test_data, load_best_model=True)\n",
    "    \n",
    "\n",
    "    return model, dataset, config, best_valid_result, test_result"
   ]
  },
  {
   "cell_type": "code",
   "execution_count": 206,
   "metadata": {},
   "outputs": [],
   "source": [
    "models_need_no_neg_sampling = [\n",
    "    'MultiVAE', 'MultiDAE', 'MacridVAE', 'RecVAE', 'GRU4Rec', 'NARM', 'STAMP', \n",
    "    'NextItNet', 'TransRec', 'SASRec', 'BERT4Rec', 'SRGNN', 'GCSAN', 'GRU4RecF', \n",
    "    'FOSSIL', 'SHAN', 'RepeatNet', 'HRM', 'NPE'\n",
    "]\n",
    "\n",
    "# Модели для обучения\n",
    "models_to_train = [\n",
    "    'Pop', \n",
    "    'ItemKNN', \n",
    "    'BPR', \n",
    "    # 'NeuMF', \n",
    "    'LightGCN', \n",
    "    # 'NGCF', \n",
    "    # 'xDeepFM', \n",
    "    'AutoInt', \n",
    "    # 'RecVAE'\n",
    "]"
   ]
  },
  {
   "cell_type": "code",
   "execution_count": 207,
   "metadata": {},
   "outputs": [
    {
     "name": "stdout",
     "output_type": "stream",
     "text": [
      "\n",
      "Training Pop...\n"
     ]
    },
    {
     "name": "stderr",
     "output_type": "stream",
     "text": [
      "25 Oct 18:24    INFO  movies\n",
      "The number of users: 6041\n",
      "Average actions of users: 148.03791390728477\n",
      "The number of items: 3707\n",
      "Average actions of items: 242.31680216802167\n",
      "The number of inters: 894149\n",
      "The sparsity of the dataset: 96.00719157334512%\n",
      "Remain Fields: ['user_id', 'item_id', 'rating', 'timestamp', 'gender', 'age', 'genre_ids']\n",
      "25 Oct 18:24    INFO  [Training]: train_batch_size = [2048] train_neg_sample_args: [{'distribution': 'uniform', 'sample_num': 1, 'dynamic': False, 'candidate_num': 0, 'alpha': 1.0}]\n",
      "25 Oct 18:24    INFO  [Evaluation]: eval_batch_size = [4096] eval_args: [{'split': {'RS': [0.8, 0.1, 0.1]}, 'order': 'TO', 'group_by': 'user', 'mode': {'valid': 'full', 'test': 'full'}}]\n",
      "25 Oct 18:24    INFO  epoch 0 training [time: 35.39s, train loss: 0.0000]\n",
      "25 Oct 18:25    INFO  epoch 0 evaluating [time: 45.89s, valid_score: 0.035400]\n",
      "25 Oct 18:25    INFO  valid result: \n",
      "recall@10 : 0.0354    ndcg@10 : 0.0475    hit@10 : 0.2523    precision@10 : 0.0392    map@10 : 0.0206\n",
      "25 Oct 18:25    INFO  Saving current: ./saved/Pop-Oct-25-2024_18-24-03.pth\n",
      "25 Oct 18:25    INFO  Loading model structure and parameters from ./saved/Pop-Oct-25-2024_18-24-03.pth\n"
     ]
    },
    {
     "name": "stdout",
     "output_type": "stream",
     "text": [
      "\n",
      "Training ItemKNN...\n"
     ]
    },
    {
     "name": "stderr",
     "output_type": "stream",
     "text": [
      "25 Oct 18:26    INFO  movies\n",
      "The number of users: 6041\n",
      "Average actions of users: 148.03791390728477\n",
      "The number of items: 3707\n",
      "Average actions of items: 242.31680216802167\n",
      "The number of inters: 894149\n",
      "The sparsity of the dataset: 96.00719157334512%\n",
      "Remain Fields: ['user_id', 'item_id', 'rating', 'timestamp', 'gender', 'age', 'genre_ids']\n",
      "25 Oct 18:26    INFO  [Training]: train_batch_size = [2048] train_neg_sample_args: [{'distribution': 'uniform', 'sample_num': 1, 'dynamic': False, 'candidate_num': 0, 'alpha': 1.0}]\n",
      "25 Oct 18:26    INFO  [Evaluation]: eval_batch_size = [4096] eval_args: [{'split': {'RS': [0.8, 0.1, 0.1]}, 'order': 'TO', 'group_by': 'user', 'mode': {'valid': 'full', 'test': 'full'}}]\n",
      "25 Oct 18:26    INFO  epoch 0 training [time: 31.55s, train loss: 0.0000]\n",
      "25 Oct 18:27    INFO  epoch 0 evaluating [time: 48.69s, valid_score: 0.066900]\n",
      "25 Oct 18:27    INFO  valid result: \n",
      "recall@10 : 0.0669    ndcg@10 : 0.0612    hit@10 : 0.3048    precision@10 : 0.0437    map@10 : 0.0285\n",
      "25 Oct 18:27    INFO  Saving current: ./saved/ItemKNN-Oct-25-2024_18-26-19.pth\n",
      "25 Oct 18:27    INFO  Loading model structure and parameters from ./saved/ItemKNN-Oct-25-2024_18-26-19.pth\n"
     ]
    },
    {
     "name": "stdout",
     "output_type": "stream",
     "text": [
      "\n",
      "Training BPR...\n"
     ]
    },
    {
     "name": "stderr",
     "output_type": "stream",
     "text": [
      "25 Oct 18:28    INFO  movies\n",
      "The number of users: 6041\n",
      "Average actions of users: 148.03791390728477\n",
      "The number of items: 3707\n",
      "Average actions of items: 242.31680216802167\n",
      "The number of inters: 894149\n",
      "The sparsity of the dataset: 96.00719157334512%\n",
      "Remain Fields: ['user_id', 'item_id', 'rating', 'timestamp', 'gender', 'age', 'genre_ids']\n",
      "25 Oct 18:28    INFO  [Training]: train_batch_size = [2048] train_neg_sample_args: [{'distribution': 'uniform', 'sample_num': 1, 'dynamic': False, 'candidate_num': 0, 'alpha': 1.0}]\n",
      "25 Oct 18:28    INFO  [Evaluation]: eval_batch_size = [4096] eval_args: [{'split': {'RS': [0.8, 0.1, 0.1]}, 'order': 'TO', 'group_by': 'user', 'mode': {'valid': 'full', 'test': 'full'}}]\n",
      "25 Oct 18:29    INFO  epoch 0 training [time: 34.39s, train loss: 213.4300]\n",
      "25 Oct 18:30    INFO  epoch 0 evaluating [time: 49.30s, valid_score: 0.037500]\n",
      "25 Oct 18:30    INFO  valid result: \n",
      "recall@10 : 0.0375    ndcg@10 : 0.0492    hit@10 : 0.2624    precision@10 : 0.0413    map@10 : 0.021\n",
      "25 Oct 18:30    INFO  Saving current: ./saved/BPR-Oct-25-2024_18-28-43.pth\n",
      "25 Oct 18:30    INFO  epoch 1 training [time: 33.29s, train loss: 120.7857]\n",
      "25 Oct 18:31    INFO  epoch 1 evaluating [time: 44.51s, valid_score: 0.037700]\n",
      "25 Oct 18:31    INFO  valid result: \n",
      "recall@10 : 0.0377    ndcg@10 : 0.0496    hit@10 : 0.2662    precision@10 : 0.0413    map@10 : 0.0212\n",
      "25 Oct 18:31    INFO  Saving current: ./saved/BPR-Oct-25-2024_18-28-43.pth\n",
      "25 Oct 18:31    INFO  epoch 2 training [time: 32.03s, train loss: 107.4887]\n"
     ]
    }
   ],
   "source": [
    "results = []\n",
    "for model_name in models_to_train:\n",
    "    print(f'\\nTraining {model_name}...')\n",
    "    model, dataset, config, best_valid_result, test_result = train_and_evaluate(model_name, parameter_dict)\n",
    "    results.append({'Model': model_name, 'Best Valid Result': best_valid_result, 'Test Result': test_result})\n",
    "\n",
    "# Сохранение и вывод результатов\n",
    "results_df = pd.DataFrame(results)\n",
    "results_df.to_csv('./model_comparison_results.csv', index=False)\n",
    "print(\"Final Results:\\n\", results_df)"
   ]
  },
  {
   "cell_type": "markdown",
   "metadata": {},
   "source": []
  },
  {
   "cell_type": "code",
   "execution_count": 179,
   "metadata": {},
   "outputs": [
    {
     "ename": "NameError",
     "evalue": "name 'results_df' is not defined",
     "output_type": "error",
     "traceback": [
      "\u001b[0;31m---------------------------------------------------------------------------\u001b[0m",
      "\u001b[0;31mNameError\u001b[0m                                 Traceback (most recent call last)",
      "Cell \u001b[0;32mIn[179], line 1\u001b[0m\n\u001b[0;32m----> 1\u001b[0m \u001b[43mresults_df\u001b[49m\n",
      "\u001b[0;31mNameError\u001b[0m: name 'results_df' is not defined"
     ]
    }
   ],
   "source": [
    "results_df"
   ]
  }
 ],
 "metadata": {
  "kernelspec": {
   "display_name": "Python 3",
   "language": "python",
   "name": "python3"
  },
  "language_info": {
   "codemirror_mode": {
    "name": "ipython",
    "version": 3
   },
   "file_extension": ".py",
   "mimetype": "text/x-python",
   "name": "python",
   "nbconvert_exporter": "python",
   "pygments_lexer": "ipython3",
   "version": "3.12.5"
  }
 },
 "nbformat": 4,
 "nbformat_minor": 2
}
