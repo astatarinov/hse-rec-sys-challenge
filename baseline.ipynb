{
 "cells": [
  {
   "cell_type": "markdown",
   "metadata": {},
   "source": [
    "Overview\n",
    "Задача рекомендаций фильмов пользователям на основе истории оценок.\n",
    "В качестве сабмита необходимо предоставить 10 рекомендуемых фильмов для каждого пользователя (см. submission_sample.csv).\n",
    "\n",
    "Метрика: recall@10\n",
    "\n",
    "Для зачета домашнего задания необходимо:\n",
    "\n",
    "Предоставить командный git репозиторий. В репозитории должна быть указана роль каждого члена команды (отмечен скрипт/часть скрипта каждого члена команды).\n",
    "Метрики в репозитории должны быть воспроизводимы\n",
    "\n",
    "**Данные**:\n",
    "1. events.csv - интеракции пользователей (история оценок)\n",
    "2. user_features.csv - признаки пользователя\n",
    "3. item_features.csv - признаки фильмов\n",
    "4. submission_sample.csv - пример сабмита\n",
    "5. Формат сабмита: user_id[str], item_id[str] - см submission_sample.csv"
   ]
  },
  {
   "cell_type": "code",
   "execution_count": 1,
   "metadata": {},
   "outputs": [
    {
     "name": "stdout",
     "output_type": "stream",
     "text": [
      "Requirement already satisfied: pandas in /opt/conda/lib/python3.11/site-packages (2.2.3)\n",
      "Requirement already satisfied: catboost in /opt/conda/lib/python3.11/site-packages (1.2.7)\n",
      "Requirement already satisfied: implicit in /opt/conda/lib/python3.11/site-packages (0.7.2)\n",
      "Requirement already satisfied: seaborn in /opt/conda/lib/python3.11/site-packages (0.13.2)\n",
      "Requirement already satisfied: recbole in /opt/conda/lib/python3.11/site-packages (1.2.0)\n",
      "Requirement already satisfied: lightgbm in /opt/conda/lib/python3.11/site-packages (4.5.0)\n",
      "Requirement already satisfied: ray in /opt/conda/lib/python3.11/site-packages (2.38.0)\n",
      "Requirement already satisfied: pyarrow in /opt/conda/lib/python3.11/site-packages (17.0.0)\n",
      "Requirement already satisfied: kmeans_pytorch in /opt/conda/lib/python3.11/site-packages (0.3)\n",
      "Requirement already satisfied: ipywidgets in /opt/conda/lib/python3.11/site-packages (8.1.5)\n",
      "Requirement already satisfied: numpy>=1.23.2 in /opt/conda/lib/python3.11/site-packages (from pandas) (1.26.4)\n",
      "Requirement already satisfied: python-dateutil>=2.8.2 in /opt/conda/lib/python3.11/site-packages (from pandas) (2.9.0.post0)\n",
      "Requirement already satisfied: pytz>=2020.1 in /opt/conda/lib/python3.11/site-packages (from pandas) (2024.1)\n",
      "Requirement already satisfied: tzdata>=2022.7 in /opt/conda/lib/python3.11/site-packages (from pandas) (2024.2)\n",
      "Requirement already satisfied: graphviz in /opt/conda/lib/python3.11/site-packages (from catboost) (0.20.3)\n",
      "Requirement already satisfied: matplotlib in /opt/conda/lib/python3.11/site-packages (from catboost) (3.9.2)\n",
      "Requirement already satisfied: scipy in /opt/conda/lib/python3.11/site-packages (from catboost) (1.14.1)\n",
      "Requirement already satisfied: plotly in /opt/conda/lib/python3.11/site-packages (from catboost) (5.24.1)\n",
      "Requirement already satisfied: six in /opt/conda/lib/python3.11/site-packages (from catboost) (1.16.0)\n",
      "Requirement already satisfied: tqdm>=4.27 in /opt/conda/lib/python3.11/site-packages (from implicit) (4.66.4)\n",
      "Requirement already satisfied: threadpoolctl in /opt/conda/lib/python3.11/site-packages (from implicit) (3.5.0)\n",
      "Requirement already satisfied: torch>=1.10.0 in /opt/conda/lib/python3.11/site-packages (from recbole) (2.4.0)\n",
      "Requirement already satisfied: colorlog==4.7.2 in /opt/conda/lib/python3.11/site-packages (from recbole) (4.7.2)\n",
      "Requirement already satisfied: colorama==0.4.4 in /opt/conda/lib/python3.11/site-packages (from recbole) (0.4.4)\n",
      "Requirement already satisfied: scikit-learn>=0.23.2 in /opt/conda/lib/python3.11/site-packages (from recbole) (1.5.2)\n",
      "Requirement already satisfied: pyyaml>=5.1.0 in /opt/conda/lib/python3.11/site-packages (from recbole) (6.0.1)\n",
      "Requirement already satisfied: tensorboard>=2.5.0 in /opt/conda/lib/python3.11/site-packages (from recbole) (2.18.0)\n",
      "Requirement already satisfied: thop>=0.1.1.post2207130030 in /opt/conda/lib/python3.11/site-packages (from recbole) (0.1.1.post2209072238)\n",
      "Requirement already satisfied: tabulate>=0.8.10 in /opt/conda/lib/python3.11/site-packages (from recbole) (0.9.0)\n",
      "Requirement already satisfied: texttable>=0.9.0 in /opt/conda/lib/python3.11/site-packages (from recbole) (1.7.0)\n",
      "Requirement already satisfied: click>=7.0 in /opt/conda/lib/python3.11/site-packages (from ray) (8.1.7)\n",
      "Requirement already satisfied: filelock in /opt/conda/lib/python3.11/site-packages (from ray) (3.13.1)\n",
      "Requirement already satisfied: jsonschema in /opt/conda/lib/python3.11/site-packages (from ray) (4.19.2)\n",
      "Requirement already satisfied: msgpack<2.0.0,>=1.0.0 in /opt/conda/lib/python3.11/site-packages (from ray) (1.1.0)\n",
      "Requirement already satisfied: packaging in /opt/conda/lib/python3.11/site-packages (from ray) (24.1)\n",
      "Requirement already satisfied: protobuf!=3.19.5,>=3.15.3 in /opt/conda/lib/python3.11/site-packages (from ray) (5.28.3)\n",
      "Requirement already satisfied: aiosignal in /opt/conda/lib/python3.11/site-packages (from ray) (1.3.1)\n",
      "Requirement already satisfied: frozenlist in /opt/conda/lib/python3.11/site-packages (from ray) (1.5.0)\n",
      "Requirement already satisfied: requests in /opt/conda/lib/python3.11/site-packages (from ray) (2.32.3)\n",
      "Requirement already satisfied: comm>=0.1.3 in /opt/conda/lib/python3.11/site-packages (from ipywidgets) (0.2.2)\n",
      "Requirement already satisfied: ipython>=6.1.0 in /opt/conda/lib/python3.11/site-packages (from ipywidgets) (8.25.0)\n",
      "Requirement already satisfied: traitlets>=4.3.1 in /opt/conda/lib/python3.11/site-packages (from ipywidgets) (5.14.3)\n",
      "Requirement already satisfied: widgetsnbextension~=4.0.12 in /opt/conda/lib/python3.11/site-packages (from ipywidgets) (4.0.13)\n",
      "Requirement already satisfied: jupyterlab-widgets~=3.0.12 in /opt/conda/lib/python3.11/site-packages (from ipywidgets) (3.0.13)\n",
      "Requirement already satisfied: decorator in /opt/conda/lib/python3.11/site-packages (from ipython>=6.1.0->ipywidgets) (5.1.1)\n",
      "Requirement already satisfied: jedi>=0.16 in /opt/conda/lib/python3.11/site-packages (from ipython>=6.1.0->ipywidgets) (0.19.1)\n",
      "Requirement already satisfied: matplotlib-inline in /opt/conda/lib/python3.11/site-packages (from ipython>=6.1.0->ipywidgets) (0.1.6)\n",
      "Requirement already satisfied: prompt-toolkit<3.1.0,>=3.0.41 in /opt/conda/lib/python3.11/site-packages (from ipython>=6.1.0->ipywidgets) (3.0.43)\n",
      "Requirement already satisfied: pygments>=2.4.0 in /opt/conda/lib/python3.11/site-packages (from ipython>=6.1.0->ipywidgets) (2.15.1)\n",
      "Requirement already satisfied: stack-data in /opt/conda/lib/python3.11/site-packages (from ipython>=6.1.0->ipywidgets) (0.2.0)\n",
      "Requirement already satisfied: typing-extensions>=4.6 in /opt/conda/lib/python3.11/site-packages (from ipython>=6.1.0->ipywidgets) (4.11.0)\n",
      "Requirement already satisfied: pexpect>4.3 in /opt/conda/lib/python3.11/site-packages (from ipython>=6.1.0->ipywidgets) (4.8.0)\n",
      "Requirement already satisfied: contourpy>=1.0.1 in /opt/conda/lib/python3.11/site-packages (from matplotlib->catboost) (1.3.0)\n",
      "Requirement already satisfied: cycler>=0.10 in /opt/conda/lib/python3.11/site-packages (from matplotlib->catboost) (0.12.1)\n",
      "Requirement already satisfied: fonttools>=4.22.0 in /opt/conda/lib/python3.11/site-packages (from matplotlib->catboost) (4.54.1)\n",
      "Requirement already satisfied: kiwisolver>=1.3.1 in /opt/conda/lib/python3.11/site-packages (from matplotlib->catboost) (1.4.7)\n",
      "Requirement already satisfied: pillow>=8 in /opt/conda/lib/python3.11/site-packages (from matplotlib->catboost) (10.4.0)\n",
      "Requirement already satisfied: pyparsing>=2.3.1 in /opt/conda/lib/python3.11/site-packages (from matplotlib->catboost) (3.2.0)\n",
      "Requirement already satisfied: tenacity>=6.2.0 in /opt/conda/lib/python3.11/site-packages (from plotly->catboost) (9.0.0)\n",
      "Requirement already satisfied: joblib>=1.2.0 in /opt/conda/lib/python3.11/site-packages (from scikit-learn>=0.23.2->recbole) (1.4.2)\n",
      "Requirement already satisfied: absl-py>=0.4 in /opt/conda/lib/python3.11/site-packages (from tensorboard>=2.5.0->recbole) (2.1.0)\n",
      "Requirement already satisfied: grpcio>=1.48.2 in /opt/conda/lib/python3.11/site-packages (from tensorboard>=2.5.0->recbole) (1.67.0)\n",
      "Requirement already satisfied: markdown>=2.6.8 in /opt/conda/lib/python3.11/site-packages (from tensorboard>=2.5.0->recbole) (3.7)\n",
      "Requirement already satisfied: setuptools>=41.0.0 in /opt/conda/lib/python3.11/site-packages (from tensorboard>=2.5.0->recbole) (69.5.1)\n",
      "Requirement already satisfied: tensorboard-data-server<0.8.0,>=0.7.0 in /opt/conda/lib/python3.11/site-packages (from tensorboard>=2.5.0->recbole) (0.7.2)\n",
      "Requirement already satisfied: werkzeug>=1.0.1 in /opt/conda/lib/python3.11/site-packages (from tensorboard>=2.5.0->recbole) (3.0.5)\n",
      "Requirement already satisfied: sympy in /opt/conda/lib/python3.11/site-packages (from torch>=1.10.0->recbole) (1.12)\n",
      "Requirement already satisfied: networkx in /opt/conda/lib/python3.11/site-packages (from torch>=1.10.0->recbole) (3.3)\n",
      "Requirement already satisfied: jinja2 in /opt/conda/lib/python3.11/site-packages (from torch>=1.10.0->recbole) (3.1.4)\n",
      "Requirement already satisfied: fsspec in /opt/conda/lib/python3.11/site-packages (from torch>=1.10.0->recbole) (2024.6.1)\n",
      "Requirement already satisfied: attrs>=22.2.0 in /opt/conda/lib/python3.11/site-packages (from jsonschema->ray) (23.1.0)\n",
      "Requirement already satisfied: jsonschema-specifications>=2023.03.6 in /opt/conda/lib/python3.11/site-packages (from jsonschema->ray) (2023.7.1)\n",
      "Requirement already satisfied: referencing>=0.28.4 in /opt/conda/lib/python3.11/site-packages (from jsonschema->ray) (0.30.2)\n",
      "Requirement already satisfied: rpds-py>=0.7.1 in /opt/conda/lib/python3.11/site-packages (from jsonschema->ray) (0.10.6)\n",
      "Requirement already satisfied: charset-normalizer<4,>=2 in /opt/conda/lib/python3.11/site-packages (from requests->ray) (2.0.4)\n",
      "Requirement already satisfied: idna<4,>=2.5 in /opt/conda/lib/python3.11/site-packages (from requests->ray) (3.7)\n",
      "Requirement already satisfied: urllib3<3,>=1.21.1 in /opt/conda/lib/python3.11/site-packages (from requests->ray) (2.2.2)\n",
      "Requirement already satisfied: certifi>=2017.4.17 in /opt/conda/lib/python3.11/site-packages (from requests->ray) (2024.7.4)\n",
      "Requirement already satisfied: parso<0.9.0,>=0.8.3 in /opt/conda/lib/python3.11/site-packages (from jedi>=0.16->ipython>=6.1.0->ipywidgets) (0.8.3)\n",
      "Requirement already satisfied: ptyprocess>=0.5 in /opt/conda/lib/python3.11/site-packages (from pexpect>4.3->ipython>=6.1.0->ipywidgets) (0.7.0)\n",
      "Requirement already satisfied: wcwidth in /opt/conda/lib/python3.11/site-packages (from prompt-toolkit<3.1.0,>=3.0.41->ipython>=6.1.0->ipywidgets) (0.2.5)\n",
      "Requirement already satisfied: MarkupSafe>=2.1.1 in /opt/conda/lib/python3.11/site-packages (from werkzeug>=1.0.1->tensorboard>=2.5.0->recbole) (2.1.3)\n",
      "Requirement already satisfied: executing in /opt/conda/lib/python3.11/site-packages (from stack-data->ipython>=6.1.0->ipywidgets) (0.8.3)\n",
      "Requirement already satisfied: asttokens in /opt/conda/lib/python3.11/site-packages (from stack-data->ipython>=6.1.0->ipywidgets) (2.0.5)\n",
      "Requirement already satisfied: pure-eval in /opt/conda/lib/python3.11/site-packages (from stack-data->ipython>=6.1.0->ipywidgets) (0.2.2)\n",
      "Requirement already satisfied: mpmath>=0.19 in /opt/conda/lib/python3.11/site-packages (from sympy->torch>=1.10.0->recbole) (1.3.0)\n",
      "\u001b[33mWARNING: Running pip as the 'root' user can result in broken permissions and conflicting behaviour with the system package manager. It is recommended to use a virtual environment instead: https://pip.pypa.io/warnings/venv\u001b[0m\u001b[33m\n",
      "\u001b[0m"
     ]
    }
   ],
   "source": [
    "!pip install pandas catboost implicit seaborn recbole lightgbm ray pyarrow kmeans_pytorch ipywidgets scipy==1.10.1\n"
   ]
  },
  {
   "cell_type": "markdown",
   "metadata": {},
   "source": [
    "# EDA"
   ]
  },
  {
   "cell_type": "code",
   "execution_count": 2,
   "metadata": {},
   "outputs": [],
   "source": [
    "import warnings\n",
    "warnings.filterwarnings('ignore')"
   ]
  },
  {
   "cell_type": "code",
   "execution_count": 3,
   "metadata": {},
   "outputs": [],
   "source": [
    "# Импорт необходимых библиотек\n",
    "import pandas as pd\n",
    "import numpy as np\n",
    "import matplotlib.pyplot as plt\n",
    "import seaborn as sns\n",
    "from recbole.utils.case_study import full_sort_topk\n",
    "# Установка стилей для визуализаций\n",
    "sns.set_theme(style='whitegrid', palette='muted')\n",
    "%matplotlib inline\n"
   ]
  },
  {
   "cell_type": "code",
   "execution_count": 4,
   "metadata": {},
   "outputs": [],
   "source": [
    "# Загрузка данных из CSV файлов\n",
    "events = pd.read_csv('data/events.csv')\n",
    "user_features = pd.read_csv('data/user_features.csv')\n",
    "item_features = pd.read_csv('data/item_features.csv')\n"
   ]
  },
  {
   "cell_type": "markdown",
   "metadata": {},
   "source": [
    "# Events"
   ]
  },
  {
   "cell_type": "code",
   "execution_count": 5,
   "metadata": {},
   "outputs": [
    {
     "name": "stdout",
     "output_type": "stream",
     "text": [
      "Events DataFrame:\n",
      "   user_id  item_id  rating  timestamp\n",
      "0        0     1505       4          0\n",
      "1        0     3669       3          1\n",
      "2        0      584       4          2\n",
      "3        0     3390       3          3\n",
      "4        0     2885       4          4\n",
      "<class 'pandas.core.frame.DataFrame'>\n",
      "RangeIndex: 894149 entries, 0 to 894148\n",
      "Data columns (total 4 columns):\n",
      " #   Column     Non-Null Count   Dtype\n",
      "---  ------     --------------   -----\n",
      " 0   user_id    894149 non-null  int64\n",
      " 1   item_id    894149 non-null  int64\n",
      " 2   rating     894149 non-null  int64\n",
      " 3   timestamp  894149 non-null  int64\n",
      "dtypes: int64(4)\n",
      "memory usage: 27.3 MB\n",
      "None\n",
      "             user_id        item_id         rating      timestamp\n",
      "count  894149.000000  894149.000000  894149.000000  894149.000000\n",
      "mean     3000.009516    1844.262022       3.580947     194.684738\n",
      "std      1732.316153    1077.520786       1.116696     218.812300\n",
      "min         0.000000       0.000000       1.000000       0.000000\n",
      "25%      1512.000000     906.000000       3.000000      45.000000\n",
      "50%      2987.000000    1831.000000       4.000000     119.000000\n",
      "75%      4481.000000    2774.000000       4.000000     267.000000\n",
      "max      6039.000000    3705.000000       5.000000    2312.000000\n"
     ]
    }
   ],
   "source": [
    "print(\"Events DataFrame:\")\n",
    "print(events.head())\n",
    "print(events.info())\n",
    "print(events.describe())\n"
   ]
  },
  {
   "cell_type": "markdown",
   "metadata": {},
   "source": [
    "# User"
   ]
  },
  {
   "cell_type": "code",
   "execution_count": 6,
   "metadata": {},
   "outputs": [
    {
     "name": "stdout",
     "output_type": "stream",
     "text": [
      "User Features DataFrame:\n",
      "   user_id gender  age\n",
      "0     4855      F    1\n",
      "1     4065      M   56\n",
      "2     3331      M   25\n",
      "3     5373      M   45\n",
      "4     2032      M   25\n",
      "<class 'pandas.core.frame.DataFrame'>\n",
      "RangeIndex: 6040 entries, 0 to 6039\n",
      "Data columns (total 3 columns):\n",
      " #   Column   Non-Null Count  Dtype \n",
      "---  ------   --------------  ----- \n",
      " 0   user_id  6040 non-null   int64 \n",
      " 1   gender   6040 non-null   object\n",
      " 2   age      6040 non-null   int64 \n",
      "dtypes: int64(2), object(1)\n",
      "memory usage: 141.7+ KB\n",
      "None\n",
      "           user_id          age\n",
      "count  6040.000000  6040.000000\n",
      "mean   3019.500000    30.639238\n",
      "std    1743.742145    12.895962\n",
      "min       0.000000     1.000000\n",
      "25%    1509.750000    25.000000\n",
      "50%    3019.500000    25.000000\n",
      "75%    4529.250000    35.000000\n",
      "max    6039.000000    56.000000\n"
     ]
    }
   ],
   "source": [
    "print(\"User Features DataFrame:\")\n",
    "print(user_features.head())\n",
    "print(user_features.info())\n",
    "print(user_features.describe())\n"
   ]
  },
  {
   "cell_type": "markdown",
   "metadata": {},
   "source": [
    "# Item"
   ]
  },
  {
   "cell_type": "code",
   "execution_count": 7,
   "metadata": {},
   "outputs": [
    {
     "name": "stdout",
     "output_type": "stream",
     "text": [
      "Item Features DataFrame:\n",
      "   item_id  genre_0  genre_1  genre_2  genre_3  genre_4  genre_5  genre_6  \\\n",
      "0        0        0        1        0        1        1        0        0   \n",
      "1        1        0        0        0        0        0        0        0   \n",
      "2        2        0        0        0        0        0        0        0   \n",
      "3        3        0        0        0        0        0        0        0   \n",
      "4        4        0        0        0        0        0        0        0   \n",
      "\n",
      "   genre_7  genre_8  genre_9  genre_10  genre_11  genre_12  genre_13  \\\n",
      "0        0        1        0         0         0         0         1   \n",
      "1        1        0        0         0         0         0         0   \n",
      "2        1        0        0         0         0         0         0   \n",
      "3        1        0        0         0         0         0         1   \n",
      "4        1        0        0         0         0         0         0   \n",
      "\n",
      "   genre_14  genre_15  genre_16  genre_17  \n",
      "0         0         0         0         0  \n",
      "1         0         0         0         0  \n",
      "2         0         0         0         0  \n",
      "3         0         0         0         0  \n",
      "4         0         0         0         0  \n",
      "<class 'pandas.core.frame.DataFrame'>\n",
      "RangeIndex: 3706 entries, 0 to 3705\n",
      "Data columns (total 19 columns):\n",
      " #   Column    Non-Null Count  Dtype\n",
      "---  ------    --------------  -----\n",
      " 0   item_id   3706 non-null   int64\n",
      " 1   genre_0   3706 non-null   int64\n",
      " 2   genre_1   3706 non-null   int64\n",
      " 3   genre_2   3706 non-null   int64\n",
      " 4   genre_3   3706 non-null   int64\n",
      " 5   genre_4   3706 non-null   int64\n",
      " 6   genre_5   3706 non-null   int64\n",
      " 7   genre_6   3706 non-null   int64\n",
      " 8   genre_7   3706 non-null   int64\n",
      " 9   genre_8   3706 non-null   int64\n",
      " 10  genre_9   3706 non-null   int64\n",
      " 11  genre_10  3706 non-null   int64\n",
      " 12  genre_11  3706 non-null   int64\n",
      " 13  genre_12  3706 non-null   int64\n",
      " 14  genre_13  3706 non-null   int64\n",
      " 15  genre_14  3706 non-null   int64\n",
      " 16  genre_15  3706 non-null   int64\n",
      " 17  genre_16  3706 non-null   int64\n",
      " 18  genre_17  3706 non-null   int64\n",
      "dtypes: int64(19)\n",
      "memory usage: 550.2 KB\n",
      "None\n",
      "           item_id      genre_0      genre_1      genre_2      genre_3  \\\n",
      "count  3706.000000  3706.000000  3706.000000  3706.000000  3706.000000   \n",
      "mean   1852.500000     0.133567     0.075823     0.028332     0.067458   \n",
      "std    1069.974377     0.340233     0.264750     0.165943     0.250848   \n",
      "min       0.000000     0.000000     0.000000     0.000000     0.000000   \n",
      "25%     926.250000     0.000000     0.000000     0.000000     0.000000   \n",
      "50%    1852.500000     0.000000     0.000000     0.000000     0.000000   \n",
      "75%    2778.750000     0.000000     0.000000     0.000000     0.000000   \n",
      "max    3705.000000     1.000000     1.000000     1.000000     1.000000   \n",
      "\n",
      "           genre_4      genre_5      genre_6      genre_7      genre_8  \\\n",
      "count  3706.000000  3706.000000  3706.000000  3706.000000  3706.000000   \n",
      "mean      0.313815     0.054236     0.029682     0.402860     0.018349   \n",
      "std       0.464105     0.226514     0.169730     0.490539     0.134227   \n",
      "min       0.000000     0.000000     0.000000     0.000000     0.000000   \n",
      "25%       0.000000     0.000000     0.000000     0.000000     0.000000   \n",
      "50%       0.000000     0.000000     0.000000     0.000000     0.000000   \n",
      "75%       1.000000     0.000000     0.000000     1.000000     0.000000   \n",
      "max       1.000000     1.000000     1.000000     1.000000     1.000000   \n",
      "\n",
      "           genre_9     genre_10     genre_11     genre_12     genre_13  \\\n",
      "count  3706.000000  3706.000000  3706.000000  3706.000000  3706.000000   \n",
      "mean      0.011873     0.091473     0.030491     0.028063     0.123853   \n",
      "std       0.108327     0.288320     0.171957     0.165174     0.329458   \n",
      "min       0.000000     0.000000     0.000000     0.000000     0.000000   \n",
      "25%       0.000000     0.000000     0.000000     0.000000     0.000000   \n",
      "50%       0.000000     0.000000     0.000000     0.000000     0.000000   \n",
      "75%       0.000000     0.000000     0.000000     0.000000     0.000000   \n",
      "max       1.000000     1.000000     1.000000     1.000000     1.000000   \n",
      "\n",
      "          genre_14     genre_15     genre_16     genre_17  \n",
      "count  3706.000000  3706.000000  3706.000000  3706.000000  \n",
      "mean      0.073934     0.130869     0.038046     0.018079  \n",
      "std       0.261699     0.337302     0.191334     0.133254  \n",
      "min       0.000000     0.000000     0.000000     0.000000  \n",
      "25%       0.000000     0.000000     0.000000     0.000000  \n",
      "50%       0.000000     0.000000     0.000000     0.000000  \n",
      "75%       0.000000     0.000000     0.000000     0.000000  \n",
      "max       1.000000     1.000000     1.000000     1.000000  \n"
     ]
    }
   ],
   "source": [
    "print(\"Item Features DataFrame:\")\n",
    "print(item_features.head())\n",
    "print(item_features.info())\n",
    "print(item_features.describe())\n"
   ]
  },
  {
   "cell_type": "markdown",
   "metadata": {},
   "source": [
    "# Rating distribution"
   ]
  },
  {
   "cell_type": "code",
   "execution_count": 8,
   "metadata": {},
   "outputs": [
    {
     "name": "stdout",
     "output_type": "stream",
     "text": [
      "Unique ratings: [4 3 5 2 1]\n"
     ]
    },
    {
     "data": {
      "image/png": "[encoded data removed]",
      "text/plain": [
       "<Figure size 800x600 with 1 Axes>"
      ]
     },
     "metadata": {},
     "output_type": "display_data"
    }
   ],
   "source": [
    "# Проверка уникальных значений в рейтингах\n",
    "print(\"Unique ratings:\", events['rating'].unique())\n",
    "\n",
    "# Гистограмма распределения оценок\n",
    "plt.figure(figsize=(8,6))\n",
    "sns.countplot(x='rating', data=events, palette='viridis')\n",
    "plt.title('Распределение оценок пользователей')\n",
    "plt.xlabel('Оценка')\n",
    "plt.ylabel('Количество')\n",
    "plt.show()\n"
   ]
  },
  {
   "cell_type": "code",
   "execution_count": 9,
   "metadata": {},
   "outputs": [
    {
     "data": {
      "text/plain": [
       "rating\n",
       "1     50256\n",
       "2     96001\n",
       "3    233824\n",
       "4    312170\n",
       "5    201898\n",
       "Name: timestamp, dtype: int64"
      ]
     },
     "execution_count": 9,
     "metadata": {},
     "output_type": "execute_result"
    }
   ],
   "source": [
    "events.groupby('rating')['timestamp'].count()"
   ]
  },
  {
   "cell_type": "markdown",
   "metadata": {},
   "source": [
    "# Rating-user distribution"
   ]
  },
  {
   "cell_type": "code",
   "execution_count": 10,
   "metadata": {},
   "outputs": [
    {
     "data": {
      "image/png": "[encoded data removed]",
      "text/plain": [
       "<Figure size 1000x600 with 1 Axes>"
      ]
     },
     "metadata": {},
     "output_type": "display_data"
    },
    {
     "name": "stdout",
     "output_type": "stream",
     "text": [
      "count    6040.000000\n",
      "mean      148.037914\n",
      "std       173.461681\n",
      "min        14.000000\n",
      "10%        24.000000\n",
      "20%        33.000000\n",
      "30%        45.000000\n",
      "40%        62.000000\n",
      "50%        84.500000\n",
      "60%       114.000000\n",
      "70%       154.000000\n",
      "80%       227.000000\n",
      "90%       357.000000\n",
      "100%     2056.000000\n",
      "max      2056.000000\n",
      "Name: num_ratings, dtype: float64\n"
     ]
    }
   ],
   "source": [
    "# Подсчет количества оценок каждым пользователем\n",
    "user_activity = events.groupby('user_id')['rating'].count().reset_index()\n",
    "user_activity.columns = ['user_id', 'num_ratings']\n",
    "\n",
    "# Распределение количества оценок на пользователя\n",
    "plt.figure(figsize=(10,6))\n",
    "sns.histplot(user_activity['num_ratings'], bins=50, kde=True)\n",
    "plt.title('Распределение количества оценок на пользователя')\n",
    "plt.xlabel('Количество оценок')\n",
    "plt.ylabel('Количество пользователей')\n",
    "plt.show()\n",
    "\n",
    "# Статистики по активности пользователей\n",
    "print(user_activity['num_ratings'].describe([0.1, 0.2, 0.3, 0.4, 0.5, 0.6, 0.7, 0.8, 0.9, 1]))\n"
   ]
  },
  {
   "cell_type": "markdown",
   "metadata": {},
   "source": [
    "# Rating-item distribution"
   ]
  },
  {
   "cell_type": "code",
   "execution_count": 11,
   "metadata": {},
   "outputs": [
    {
     "name": "stdout",
     "output_type": "stream",
     "text": [
      "Топ-10 самых популярных фильмов:\n",
      "      item_id  num_ratings\n",
      "469       472         3067\n",
      "1574     1583         2699\n",
      "3009     3022         2639\n",
      "2285     2297         2612\n",
      "581       584         2423\n",
      "3513     3529         2384\n",
      "635       640         2363\n",
      "2720     2732         2328\n",
      "1821     1831         2313\n",
      "1217     1223         2310\n"
     ]
    },
    {
     "data": {
      "image/png": "[encoded data removed]",
      "text/plain": [
       "<Figure size 1000x600 with 1 Axes>"
      ]
     },
     "metadata": {},
     "output_type": "display_data"
    },
    {
     "name": "stdout",
     "output_type": "stream",
     "text": [
      "count    3690.000000\n",
      "mean      242.316802\n",
      "std       343.984762\n",
      "min         1.000000\n",
      "10%         6.000000\n",
      "20%        21.000000\n",
      "30%        40.000000\n",
      "40%        68.000000\n",
      "50%       111.000000\n",
      "60%       168.000000\n",
      "70%       250.000000\n",
      "80%       384.200000\n",
      "90%       656.100000\n",
      "100%     3067.000000\n",
      "max      3067.000000\n",
      "Name: num_ratings, dtype: float64\n"
     ]
    }
   ],
   "source": [
    "# Подсчет количества оценок для каждого фильма\n",
    "item_popularity = events.groupby('item_id')['rating'].count().reset_index()\n",
    "item_popularity.columns = ['item_id', 'num_ratings']\n",
    "\n",
    "# Топ-10 самых популярных фильмов\n",
    "top_items = item_popularity.sort_values('num_ratings', ascending=False).head(10)\n",
    "print(\"Топ-10 самых популярных фильмов:\")\n",
    "print(top_items)\n",
    "\n",
    "# Распределение количества оценок на фильм\n",
    "plt.figure(figsize=(10,6))\n",
    "sns.histplot(item_popularity['num_ratings'], bins=50, kde=True)\n",
    "plt.title('Распределение количества оценок на фильм')\n",
    "plt.xlabel('Количество оценок')\n",
    "plt.ylabel('Количество фильмов')\n",
    "plt.show()\n",
    "\n",
    "# Статистики по популярности фильмов\n",
    "print(item_popularity['num_ratings'].describe([0.1, 0.2, 0.3, 0.4, 0.5, 0.6, 0.7, 0.8, 0.9, 1]))\n"
   ]
  },
  {
   "cell_type": "code",
   "execution_count": null,
   "metadata": {},
   "outputs": [],
   "source": []
  },
  {
   "cell_type": "markdown",
   "metadata": {},
   "source": [
    "# User features"
   ]
  },
  {
   "cell_type": "code",
   "execution_count": 12,
   "metadata": {},
   "outputs": [
    {
     "name": "stdout",
     "output_type": "stream",
     "text": [
      "Числовые признаки пользователей: ['user_id', 'age']\n",
      "Категориальные признаки пользователей: ['gender']\n"
     ]
    }
   ],
   "source": [
    "# Разделение признаков на числовые и категориальные\n",
    "numeric_features = user_features.select_dtypes(include=[np.number]).columns.tolist()\n",
    "categorical_features = user_features.select_dtypes(exclude=[np.number]).columns.tolist()\n",
    "\n",
    "print(\"Числовые признаки пользователей:\", numeric_features)\n",
    "print(\"Категориальные признаки пользователей:\", categorical_features)\n"
   ]
  },
  {
   "cell_type": "code",
   "execution_count": 13,
   "metadata": {},
   "outputs": [
    {
     "data": {
      "image/png": "[encoded data removed]",
      "text/plain": [
       "<Figure size 800x600 with 1 Axes>"
      ]
     },
     "metadata": {},
     "output_type": "display_data"
    }
   ],
   "source": [
    "# Распределение числовых признаков\n",
    "for feature in numeric_features[1:]:\n",
    "    plt.figure(figsize=(8,6))\n",
    "    sns.histplot(user_features[feature], bins=30, kde=True)\n",
    "    plt.title(f'Распределение признака {feature}')\n",
    "    plt.xlabel(feature)\n",
    "    plt.ylabel('Количество пользователей')\n",
    "    plt.show()\n"
   ]
  },
  {
   "cell_type": "code",
   "execution_count": 14,
   "metadata": {},
   "outputs": [
    {
     "data": {
      "text/plain": [
       "age\n",
       "25    2096\n",
       "35    1193\n",
       "18    1103\n",
       "45     550\n",
       "50     496\n",
       "56     380\n",
       "1      222\n",
       "Name: count, dtype: int64"
      ]
     },
     "execution_count": 14,
     "metadata": {},
     "output_type": "execute_result"
    }
   ],
   "source": [
    "user_features['age'].value_counts()"
   ]
  },
  {
   "cell_type": "code",
   "execution_count": 15,
   "metadata": {},
   "outputs": [
    {
     "data": {
      "image/png": "[encoded data removed]",
      "text/plain": [
       "<Figure size 800x600 with 1 Axes>"
      ]
     },
     "metadata": {},
     "output_type": "display_data"
    }
   ],
   "source": [
    "# Распределение категориальных признаков\n",
    "for feature in categorical_features:\n",
    "    plt.figure(figsize=(8,6))\n",
    "    sns.countplot(y=feature, data=user_features, order=user_features[feature].value_counts().index)\n",
    "    plt.title(f'Распределение признака {feature}')\n",
    "    plt.xlabel('Количество')\n",
    "    plt.ylabel(feature)\n",
    "    plt.show()\n"
   ]
  },
  {
   "cell_type": "code",
   "execution_count": 16,
   "metadata": {},
   "outputs": [
    {
     "data": {
      "text/plain": [
       "gender\n",
       "M    4331\n",
       "F    1709\n",
       "Name: count, dtype: int64"
      ]
     },
     "execution_count": 16,
     "metadata": {},
     "output_type": "execute_result"
    }
   ],
   "source": [
    "user_features['gender'].value_counts()"
   ]
  },
  {
   "cell_type": "markdown",
   "metadata": {},
   "source": [
    "# Item features"
   ]
  },
  {
   "cell_type": "code",
   "execution_count": 17,
   "metadata": {},
   "outputs": [
    {
     "name": "stdout",
     "output_type": "stream",
     "text": [
      "Числовые признаки фильмов: ['item_id', 'genre_0', 'genre_1', 'genre_2', 'genre_3', 'genre_4', 'genre_5', 'genre_6', 'genre_7', 'genre_8', 'genre_9', 'genre_10', 'genre_11', 'genre_12', 'genre_13', 'genre_14', 'genre_15', 'genre_16', 'genre_17']\n",
      "Категориальные признаки фильмов: []\n"
     ]
    }
   ],
   "source": [
    "# Разделение признаков на числовые и категориальные\n",
    "numeric_features_items = item_features.select_dtypes(include=[np.number]).columns.tolist()\n",
    "categorical_features_items = item_features.select_dtypes(exclude=[np.number]).columns.tolist()\n",
    "\n",
    "print(\"Числовые признаки фильмов:\", numeric_features_items)\n",
    "print(\"Категориальные признаки фильмов:\", categorical_features_items)\n"
   ]
  },
  {
   "cell_type": "code",
   "execution_count": 18,
   "metadata": {},
   "outputs": [
    {
     "name": "stdout",
     "output_type": "stream",
     "text": [
      "genre_0\n",
      "0    3211\n",
      "1     495\n",
      "Name: count, dtype: int64\n",
      "genre_1\n",
      "0    3425\n",
      "1     281\n",
      "Name: count, dtype: int64\n",
      "genre_2\n",
      "0    3601\n",
      "1     105\n",
      "Name: count, dtype: int64\n",
      "genre_3\n",
      "0    3456\n",
      "1     250\n",
      "Name: count, dtype: int64\n",
      "genre_4\n",
      "0    2543\n",
      "1    1163\n",
      "Name: count, dtype: int64\n",
      "genre_5\n",
      "0    3505\n",
      "1     201\n",
      "Name: count, dtype: int64\n",
      "genre_6\n",
      "0    3596\n",
      "1     110\n",
      "Name: count, dtype: int64\n",
      "genre_7\n",
      "0    2213\n",
      "1    1493\n",
      "Name: count, dtype: int64\n",
      "genre_8\n",
      "0    3638\n",
      "1      68\n",
      "Name: count, dtype: int64\n",
      "genre_9\n",
      "0    3662\n",
      "1      44\n",
      "Name: count, dtype: int64\n",
      "genre_10\n",
      "0    3367\n",
      "1     339\n",
      "Name: count, dtype: int64\n",
      "genre_11\n",
      "0    3593\n",
      "1     113\n",
      "Name: count, dtype: int64\n",
      "genre_12\n",
      "0    3602\n",
      "1     104\n",
      "Name: count, dtype: int64\n",
      "genre_13\n",
      "0    3247\n",
      "1     459\n",
      "Name: count, dtype: int64\n",
      "genre_14\n",
      "0    3432\n",
      "1     274\n",
      "Name: count, dtype: int64\n",
      "genre_15\n",
      "0    3221\n",
      "1     485\n",
      "Name: count, dtype: int64\n",
      "genre_16\n",
      "0    3565\n",
      "1     141\n",
      "Name: count, dtype: int64\n",
      "genre_17\n",
      "0    3639\n",
      "1      67\n",
      "Name: count, dtype: int64\n"
     ]
    }
   ],
   "source": [
    "for feature in numeric_features_items[1:]:\n",
    "    print(item_features[feature].value_counts())"
   ]
  },
  {
   "cell_type": "markdown",
   "metadata": {},
   "source": [
    "# Correlations"
   ]
  },
  {
   "cell_type": "code",
   "execution_count": 19,
   "metadata": {},
   "outputs": [
    {
     "name": "stdout",
     "output_type": "stream",
     "text": [
      "Корреляционная матрица:\n",
      "rating      1.000000\n",
      "genre_7     0.122675\n",
      "genre_16    0.075753\n",
      "genre_9     0.060380\n",
      "genre_5     0.033169\n",
      "genre_6     0.028262\n",
      "genre_2     0.019175\n",
      "genre_12    0.015871\n",
      "genre_11    0.015266\n",
      "genre_13    0.009702\n",
      "item_id     0.008097\n",
      "genre_17    0.007020\n",
      "genre_15   -0.004879\n",
      "genre_8    -0.023505\n",
      "genre_1    -0.036892\n",
      "genre_4    -0.040167\n",
      "genre_3    -0.040481\n",
      "genre_14   -0.043994\n",
      "genre_0    -0.047415\n",
      "genre_10   -0.094018\n",
      "Name: rating, dtype: float64\n"
     ]
    }
   ],
   "source": [
    "events_items = pd.merge(events, item_features, on='item_id', how='left')\n",
    "\n",
    "corr_matrix = events_items[['rating'] + numeric_features_items].corr()\n",
    "print(\"Корреляционная матрица:\")\n",
    "print(corr_matrix['rating'].sort_values(ascending=False))\n"
   ]
  },
  {
   "cell_type": "code",
   "execution_count": 20,
   "metadata": {},
   "outputs": [
    {
     "name": "stdout",
     "output_type": "stream",
     "text": [
      "genre_0\n",
      "0    3.612132\n",
      "1    3.491048\n",
      "Name: rating, dtype: float64\n",
      "genre_1\n",
      "0    3.597153\n",
      "1    3.476219\n",
      "Name: rating, dtype: float64\n",
      "genre_2\n",
      "0    3.576389\n",
      "1    3.681547\n",
      "Name: rating, dtype: float64\n",
      "genre_3\n",
      "0    3.593568\n",
      "1    3.419043\n",
      "Name: rating, dtype: float64\n",
      "genre_4\n",
      "0    3.614340\n",
      "1    3.520699\n",
      "Name: rating, dtype: float64\n",
      "genre_5\n",
      "0    3.570042\n",
      "1    3.706751\n",
      "Name: rating, dtype: float64\n",
      "genre_6\n",
      "0    3.578140\n",
      "1    3.935852\n",
      "Name: rating, dtype: float64\n",
      "genre_7\n",
      "0    3.479370\n",
      "1    3.765698\n",
      "Name: rating, dtype: float64\n",
      "genre_8\n",
      "0    3.58603\n",
      "1    3.44540\n",
      "Name: rating, dtype: float64\n",
      "genre_9\n",
      "0    3.571762\n",
      "1    4.075945\n",
      "Name: rating, dtype: float64\n",
      "genre_10\n",
      "0    3.611114\n",
      "1    3.215561\n",
      "Name: rating, dtype: float64\n",
      "genre_11\n",
      "0    3.577396\n",
      "1    3.662794\n",
      "Name: rating, dtype: float64\n",
      "genre_12\n",
      "0    3.577324\n",
      "1    3.667642\n",
      "Name: rating, dtype: float64\n",
      "genre_13\n",
      "0    3.576442\n",
      "1    3.607003\n",
      "Name: rating, dtype: float64\n",
      "genre_14\n",
      "0    3.602171\n",
      "1    3.467226\n",
      "Name: rating, dtype: float64\n",
      "genre_15\n",
      "0    3.583581\n",
      "1    3.569680\n",
      "Name: rating, dtype: float64\n",
      "genre_16\n",
      "0    3.557985\n",
      "1    3.892598\n",
      "Name: rating, dtype: float64\n",
      "genre_17\n",
      "0    3.579807\n",
      "1    3.634879\n",
      "Name: rating, dtype: float64\n"
     ]
    }
   ],
   "source": [
    "for feature in numeric_features_items[1:]:\n",
    "    print(events_items.groupby(feature)['rating'].mean())"
   ]
  },
  {
   "cell_type": "markdown",
   "metadata": {},
   "source": [
    "# Timestamp analysis"
   ]
  },
  {
   "cell_type": "code",
   "execution_count": 21,
   "metadata": {},
   "outputs": [
    {
     "data": {
      "text/plain": [
       "count    2256.000000\n",
       "mean      396.342642\n",
       "std       922.590881\n",
       "min         1.000000\n",
       "10%         1.000000\n",
       "20%         2.000000\n",
       "30%         3.000000\n",
       "40%         6.000000\n",
       "50%        24.000000\n",
       "60%        56.000000\n",
       "70%       173.000000\n",
       "80%       426.000000\n",
       "90%      1227.500000\n",
       "95%      2370.500000\n",
       "98%      3962.100000\n",
       "100%     5489.000000\n",
       "max      5489.000000\n",
       "Name: rating, dtype: float64"
      ]
     },
     "execution_count": 21,
     "metadata": {},
     "output_type": "execute_result"
    }
   ],
   "source": [
    "events.groupby('timestamp')['rating'].count().describe([0.1, 0.2, 0.3, 0.4, 0.5, 0.6, 0.7, 0.8, 0.9, 0.95, 0.98, 1])\n"
   ]
  },
  {
   "cell_type": "code",
   "execution_count": 22,
   "metadata": {},
   "outputs": [
    {
     "name": "stdout",
     "output_type": "stream",
     "text": [
      "Разреженность матрицы взаимодействий: 95.99%\n"
     ]
    }
   ],
   "source": [
    "# Создание сводной таблицы (матрицы взаимодействий)\n",
    "interaction_matrix = events.pivot_table(index='user_id', columns='item_id', values='rating')\n",
    "\n",
    "# Проверка разреженности матрицы\n",
    "sparsity = 1.0 - len(events) / float(interaction_matrix.shape[0] * interaction_matrix.shape[1])\n",
    "print('Разреженность матрицы взаимодействий: {:.2%}'.format(sparsity))\n"
   ]
  },
  {
   "cell_type": "markdown",
   "metadata": {},
   "source": [
    "# Models"
   ]
  },
  {
   "cell_type": "code",
   "execution_count": 1,
   "metadata": {},
   "outputs": [],
   "source": [
    "import os\n",
    "import pandas as pd\n",
    "import numpy as np\n",
    "import torch\n",
    "from recbole.config import Config\n",
    "from recbole.utils import init_seed, init_logger, get_trainer, get_model\n",
    "from recbole.data import create_dataset, data_preparation\n",
    "from recbole.trainer import Trainer\n",
    "import logging\n",
    "from logging import getLogger\n"
   ]
  },
  {
   "cell_type": "code",
   "execution_count": 2,
   "metadata": {},
   "outputs": [],
   "source": [
    "data_path = './data'\n",
    "events_file = os.path.join(data_path, 'events.csv')\n",
    "user_features_file = os.path.join(data_path, 'user_features.csv')\n",
    "item_features_file = os.path.join(data_path, 'item_features.csv')\n",
    "\n",
    "\n",
    "events = pd.read_csv(events_file)\n",
    "user_features = pd.read_csv(user_features_file)\n",
    "item_features = pd.read_csv(item_features_file)\n"
   ]
  },
  {
   "cell_type": "code",
   "execution_count": 3,
   "metadata": {},
   "outputs": [],
   "source": [
    "user_features['gender'] = user_features['gender'].map({'M': 0, 'F': 1}).astype(int)\n",
    "user_features['age'] = user_features['age'].astype(int)\n",
    "genre_cols = [col for col in item_features.columns if 'genre_' in col]\n",
    "\n",
    "\n",
    "def get_genre_ids(row):\n",
    "    return [i for i, col in enumerate(genre_cols) if row[col] == 1]\n",
    "\n",
    "item_features['genre_ids'] = item_features.apply(get_genre_ids, axis=1)\n",
    "\n",
    "\n",
    "item_features = item_features[['item_id', 'genre_ids']]\n",
    "\n",
    "item_features['genre_ids'] = item_features['genre_ids'].apply(lambda x: ' '.join(map(str, x)))"
   ]
  },
  {
   "cell_type": "markdown",
   "metadata": {},
   "source": [
    "## Inter"
   ]
  },
  {
   "cell_type": "code",
   "execution_count": 4,
   "metadata": {},
   "outputs": [],
   "source": [
    "recbole_data_path = './recbole_data'\n",
    "dataset_name = 'movies'\n",
    "dataset_path = os.path.join(recbole_data_path, dataset_name)\n",
    "if not os.path.exists(dataset_path):\n",
    "    os.makedirs(dataset_path)\n",
    "\n",
    "# interactions = events[['user_id', 'item_id', 'rating', 'timestamp']]\n",
    "# inter_file = os.path.join(dataset_path, f'{dataset_name}.inter')\n",
    "# interactions.to_csv(inter_file, sep='\\t', index=False)\n",
    "\n",
    "# user_file = os.path.join(dataset_path, f'{dataset_name}.user')\n",
    "# user_features.to_csv(user_file, sep='\\t', index=False)\n",
    "\n",
    "# item_file = os.path.join(dataset_path, f'{dataset_name}.item')\n",
    "# item_features.to_csv(item_file, sep='\\t', index=False)\n"
   ]
  },
  {
   "cell_type": "markdown",
   "metadata": {},
   "source": [
    "## Config"
   ]
  },
  {
   "cell_type": "code",
   "execution_count": 35,
   "metadata": {},
   "outputs": [],
   "source": [
    "\n",
    "parameter_dict = {\n",
    "    'data_path': recbole_data_path,\n",
    "    'dataset': dataset_name,\n",
    "    'USER_ID_FIELD': 'user_id',\n",
    "    'ITEM_ID_FIELD': 'item_id',\n",
    "    'RATING_FIELD': 'rating',\n",
    "    'TIME_FIELD': 'timestamp',\n",
    "    'load_col': {\n",
    "        'inter': ['user_id', 'item_id', 'rating', 'timestamp'],\n",
    "        'user': ['user_id', 'gender', 'age'],\n",
    "        'item': ['item_id', 'genre_ids'],\n",
    "    },\n",
    "    'train_neg_sample_args': {\n",
    "        'distribution': 'uniform',\n",
    "        'sample_num': 1,\n",
    "        'dynamic': False,\n",
    "        'candidate_num': 0,\n",
    "        'alpha': 1.0,  # Дополнительно для некоторых моделей с негативным семплированием\n",
    "    },\n",
    "#     'train_neg_sample_args': {\n",
    "#     'distribution': 'uniform',    \n",
    "#     'sample_num': 2,            \n",
    "#     'dynamic': True,             \n",
    "#     'candidate_num': 0,         \n",
    "#     'alpha': 1.0,             \n",
    "# },\n",
    "\n",
    "    'eval_args': {\n",
    "        'split': {'RS': [0.8, 0.1, 0.1]},\n",
    "        'group_by': 'user',\n",
    "        'order': 'TO',\n",
    "        'mode': {'valid': 'full', 'test': 'full'},  # Задано поэтапно для каждого этапа\n",
    "    },\n",
    "    'metrics': ['Recall', 'NDCG', 'Hit', 'Precision', 'MAP'],\n",
    "    'topk': 10,\n",
    "    'valid_metric': 'Recall@10',  # Указан для ранней остановки на этапе валидации\n",
    "    'epochs': 10,\n",
    "    'stopping_step': 3,\n",
    "    'seed': 42,\n",
    "    'device': 'cuda' if torch.cuda.is_available() else 'cpu',\n",
    "    'show_progress': True,\n",
    "    'checkpoint_dir': './saved',\n",
    "    'checkpoint_save_steps': 1,  # Частое сохранение контрольной точки для долгих эпох\n",
    "    'logging_level': 'INFO',\n",
    "    'worker': 10,\n",
    "    'reproducibility': True,\n",
    "    'state': 'INFO',  # Уровень логов для вывода\n",
    "}"
   ]
  },
  {
   "cell_type": "markdown",
   "metadata": {},
   "source": [
    "# Train and evaluate"
   ]
  },
  {
   "cell_type": "code",
   "execution_count": 36,
   "metadata": {},
   "outputs": [],
   "source": [
    "models_single_epoch = [\n",
    "    'Pop',        # Популярностная модель\n",
    "    'ItemKNN',    # Модель ближайших соседей по элементам\n",
    "    'SLIMElastic', # Модель SLIM с эластичным регуляризатором\n",
    "    'EASE',       # Модель EASE для рекомендаций\n",
    "]\n",
    "\n",
    "# Функция тренировки и оценки\n",
    "def train_and_evaluate(model_name, parameter_dict):\n",
    "    config_dict = parameter_dict.copy()\n",
    "    \n",
    "    # Настройка параметров для моделей без семплирования\n",
    "    if model_name in models_need_no_neg_sampling:\n",
    "        config_dict.pop('train_neg_sample_args', None)\n",
    "\n",
    "     \n",
    "    config_dict['epochs'] = 1 if model_name in models_single_epoch else parameter_dict['epochs']\n",
    "    \n",
    "    # Инициализация конфигурации и логгера\n",
    "    config = Config(model=model_name, config_dict=config_dict)\n",
    "    init_seed(config['seed'], config['reproducibility'])\n",
    "    init_logger(config)\n",
    "    logger = getLogger()\n",
    "    \n",
    "    # Загрузка датасета\n",
    "    dataset = create_dataset(config)\n",
    "    logger.info(dataset)\n",
    "    \n",
    "    # Разделение данных\n",
    "    train_data, valid_data, test_data = data_preparation(config, dataset)\n",
    "    \n",
    "    # Инициализация модели и тренера\n",
    "    model = get_model(config['model'])(config, train_data.dataset).to(config['device'])\n",
    "    trainer = get_trainer(config['MODEL_TYPE'], config['model'])(config, model)\n",
    "    \n",
    "    # Запуск тренировки\n",
    "    best_valid_score, best_valid_result = trainer.fit(train_data, valid_data)\n",
    "    \n",
    "    # Оценка модели\n",
    "    test_result = trainer.evaluate(test_data, load_best_model=True)\n",
    "    \n",
    "\n",
    "    return model, dataset, config, best_valid_result, test_result"
   ]
  },
  {
   "cell_type": "code",
   "execution_count": 37,
   "metadata": {},
   "outputs": [],
   "source": [
    "import warnings\n",
    "warnings.filterwarnings('ignore')"
   ]
  },
  {
   "cell_type": "code",
   "execution_count": 38,
   "metadata": {},
   "outputs": [],
   "source": [
    "# results = []"
   ]
  },
  {
   "cell_type": "code",
   "execution_count": 39,
   "metadata": {},
   "outputs": [],
   "source": [
    "models_need_no_neg_sampling = [\n",
    "    'BERT4Rec',\n",
    "    'GRU4RecF',\n",
    "    'MultiVAE', \n",
    "    'MultiDAE', \n",
    "    'MacridVAE',\n",
    "    'NARM', \n",
    "    'STAMP'\n",
    "    'CORE',\n",
    "    'RecVAE'\n",
    "]\n",
    "\n",
    "# Модели для обучения\n",
    "models_to_train = [\n",
    "    # 'Pop', \n",
    "    # 'ItemKNN', \n",
    "    \n",
    "    # 'BPR', #\n",
    "    # 'NeuMF', #+\n",
    "    # 'LightGCN', # -\n",
    "    # 'SimpleX', #+?y\n",
    "    # 'NGCF', # --\n",
    "    # 'SINE',  #--!!\n",
    "    # 'EulerNet', #+?\n",
    "    # 'DCNV2', #+?\n",
    "    # 'xDeepFM', #+?\n",
    "    # ----'SLIMElastic', # Модель SLIM с эластичным регуляризатором ??????\n",
    "    # 'EASE', # ++!\n",
    "    'AutoInt',\n",
    "    \n",
    "    'BERT4Rec',\n",
    "    'GRU4RecF',\n",
    "    'MultiVAE', \n",
    "    'MultiDAE', \n",
    "    'MacridVAE',\n",
    "    'NARM', \n",
    "    'STAMP'\n",
    "    'CORE',\n",
    "    'RecVAE'\n",
    "]"
   ]
  },
  {
   "cell_type": "code",
   "execution_count": null,
   "metadata": {},
   "outputs": [
    {
     "name": "stdout",
     "output_type": "stream",
     "text": [
      "\n",
      "Training Pop...\n"
     ]
    },
    {
     "name": "stderr",
     "output_type": "stream",
     "text": [
      "25 Oct 17:28    INFO  movies\n",
      "The number of users: 6041\n",
      "Average actions of users: 148.03791390728477\n",
      "The number of items: 3707\n",
      "Average actions of items: 242.31680216802167\n",
      "The number of inters: 894149\n",
      "The sparsity of the dataset: 96.00719157334512%\n",
      "Remain Fields: ['user_id', 'item_id', 'rating', 'timestamp', 'gender', 'age', 'genre_ids']\n",
      "25 Oct 17:28    INFO  [Training]: train_batch_size = [2048] train_neg_sample_args: [{'distribution': 'uniform', 'sample_num': 1, 'dynamic': False, 'candidate_num': 0, 'alpha': 1.0}]\n",
      "25 Oct 17:28    INFO  [Evaluation]: eval_batch_size = [4096] eval_args: [{'split': {'RS': [0.8, 0.1, 0.1]}, 'order': 'TO', 'group_by': 'user', 'mode': {'valid': 'full', 'test': 'full'}}]\n",
      "25 Oct 17:28    INFO  epoch 0 training [time: 3.45s, train loss: 0.0000]\n",
      "25 Oct 17:29    INFO  epoch 0 evaluating [time: 50.05s, valid_score: 0.035700]\n",
      "25 Oct 17:29    INFO  valid result: \n",
      "recall@10 : 0.0357    ndcg@10 : 0.0475    hit@10 : 0.2526    precision@10 : 0.0393    map@10 : 0.0205\n",
      "25 Oct 17:29    INFO  Saving current: ./saved/Pop-Oct-25-2024_17-28-21.pth\n",
      "25 Oct 17:29    INFO  Loading model structure and parameters from ./saved/Pop-Oct-25-2024_17-28-21.pth\n"
     ]
    },
    {
     "name": "stdout",
     "output_type": "stream",
     "text": [
      "\n",
      "Training ItemKNN...\n"
     ]
    },
    {
     "name": "stderr",
     "output_type": "stream",
     "text": [
      "25 Oct 17:30    INFO  movies\n",
      "The number of users: 6041\n",
      "Average actions of users: 148.03791390728477\n",
      "The number of items: 3707\n",
      "Average actions of items: 242.31680216802167\n",
      "The number of inters: 894149\n",
      "The sparsity of the dataset: 96.00719157334512%\n",
      "Remain Fields: ['user_id', 'item_id', 'rating', 'timestamp', 'gender', 'age', 'genre_ids']\n",
      "25 Oct 17:30    INFO  [Training]: train_batch_size = [2048] train_neg_sample_args: [{'distribution': 'uniform', 'sample_num': 1, 'dynamic': False, 'candidate_num': 0, 'alpha': 1.0}]\n",
      "25 Oct 17:30    INFO  [Evaluation]: eval_batch_size = [4096] eval_args: [{'split': {'RS': [0.8, 0.1, 0.1]}, 'order': 'TO', 'group_by': 'user', 'mode': {'valid': 'full', 'test': 'full'}}]\n",
      "25 Oct 17:30    INFO  epoch 0 training [time: 4.21s, train loss: 0.0000]\n",
      "25 Oct 17:31    INFO  epoch 0 evaluating [time: 75.48s, valid_score: 0.066900]\n",
      "25 Oct 17:31    INFO  valid result: \n",
      "recall@10 : 0.0669    ndcg@10 : 0.0612    hit@10 : 0.3048    precision@10 : 0.0437    map@10 : 0.0285\n",
      "25 Oct 17:31    INFO  Saving current: ./saved/ItemKNN-Oct-25-2024_17-30-17.pth\n",
      "25 Oct 17:31    INFO  Loading model structure and parameters from ./saved/ItemKNN-Oct-25-2024_17-30-17.pth\n"
     ]
    },
    {
     "name": "stdout",
     "output_type": "stream",
     "text": [
      "\n",
      "Training BPR...\n"
     ]
    },
    {
     "name": "stderr",
     "output_type": "stream",
     "text": [
      "25 Oct 17:33    INFO  movies\n",
      "The number of users: 6041\n",
      "Average actions of users: 148.03791390728477\n",
      "The number of items: 3707\n",
      "Average actions of items: 242.31680216802167\n",
      "The number of inters: 894149\n",
      "The sparsity of the dataset: 96.00719157334512%\n",
      "Remain Fields: ['user_id', 'item_id', 'rating', 'timestamp', 'gender', 'age', 'genre_ids']\n",
      "25 Oct 17:33    INFO  [Training]: train_batch_size = [2048] train_neg_sample_args: [{'distribution': 'uniform', 'sample_num': 1, 'dynamic': False, 'candidate_num': 0, 'alpha': 1.0}]\n",
      "25 Oct 17:33    INFO  [Evaluation]: eval_batch_size = [4096] eval_args: [{'split': {'RS': [0.8, 0.1, 0.1]}, 'order': 'TO', 'group_by': 'user', 'mode': {'valid': 'full', 'test': 'full'}}]\n",
      "25 Oct 17:33    INFO  epoch 0 training [time: 2.76s, train loss: 213.4300]\n",
      "25 Oct 17:33    INFO  epoch 0 evaluating [time: 45.34s, valid_score: 0.037500]\n",
      "25 Oct 17:33    INFO  valid result: \n",
      "recall@10 : 0.0375    ndcg@10 : 0.0492    hit@10 : 0.2624    precision@10 : 0.0413    map@10 : 0.021\n",
      "25 Oct 17:33    INFO  Saving current: ./saved/BPR-Oct-25-2024_17-33-04.pth\n",
      "25 Oct 17:33    INFO  epoch 1 training [time: 2.76s, train loss: 120.7857]\n",
      "25 Oct 17:34    INFO  epoch 1 evaluating [time: 44.03s, valid_score: 0.037700]\n",
      "25 Oct 17:34    INFO  valid result: \n",
      "recall@10 : 0.0377    ndcg@10 : 0.0496    hit@10 : 0.2662    precision@10 : 0.0413    map@10 : 0.0212\n",
      "25 Oct 17:34    INFO  Saving current: ./saved/BPR-Oct-25-2024_17-33-04.pth\n",
      "25 Oct 17:34    INFO  epoch 2 training [time: 2.87s, train loss: 107.4887]\n",
      "25 Oct 17:35    INFO  epoch 2 evaluating [time: 49.74s, valid_score: 0.037800]\n",
      "25 Oct 17:35    INFO  valid result: \n",
      "recall@10 : 0.0378    ndcg@10 : 0.0492    hit@10 : 0.2666    precision@10 : 0.0412    map@10 : 0.0211\n",
      "25 Oct 17:35    INFO  Saving current: ./saved/BPR-Oct-25-2024_17-33-04.pth\n",
      "25 Oct 17:35    INFO  epoch 3 training [time: 2.76s, train loss: 97.6516]\n"
     ]
    },
    {
     "name": "stdout",
     "output_type": "stream",
     "text": [
      "Fail\n",
      "\n",
      "Training NeuMF...\n"
     ]
    },
    {
     "name": "stderr",
     "output_type": "stream",
     "text": [
      "25 Oct 17:35    INFO  movies\n",
      "The number of users: 6041\n",
      "Average actions of users: 148.03791390728477\n",
      "The number of items: 3707\n",
      "Average actions of items: 242.31680216802167\n",
      "The number of inters: 894149\n",
      "The sparsity of the dataset: 96.00719157334512%\n",
      "Remain Fields: ['user_id', 'item_id', 'rating', 'timestamp', 'gender', 'age', 'genre_ids']\n",
      "25 Oct 17:35    INFO  [Training]: train_batch_size = [2048] train_neg_sample_args: [{'distribution': 'uniform', 'sample_num': 1, 'dynamic': False, 'candidate_num': 0, 'alpha': 1.0}]\n",
      "25 Oct 17:35    INFO  [Evaluation]: eval_batch_size = [4096] eval_args: [{'split': {'RS': [0.8, 0.1, 0.1]}, 'order': 'TO', 'group_by': 'user', 'mode': {'valid': 'full', 'test': 'full'}}]\n",
      "25 Oct 17:36    INFO  epoch 0 training [time: 4.38s, train loss: 335.8789]\n",
      "25 Oct 17:36    INFO  epoch 0 evaluating [time: 56.03s, valid_score: 0.041200]\n",
      "25 Oct 17:36    INFO  valid result: \n",
      "recall@10 : 0.0412    ndcg@10 : 0.0515    hit@10 : 0.2776    precision@10 : 0.0422    map@10 : 0.022\n",
      "25 Oct 17:36    INFO  Saving current: ./saved/NeuMF-Oct-25-2024_17-35-58.pth\n",
      "25 Oct 17:37    INFO  epoch 1 training [time: 4.59s, train loss: 274.5055]\n",
      "25 Oct 17:38    INFO  epoch 1 evaluating [time: 57.42s, valid_score: 0.050200]\n",
      "25 Oct 17:38    INFO  valid result: \n",
      "recall@10 : 0.0502    ndcg@10 : 0.0565    hit@10 : 0.2995    precision@10 : 0.0443    map@10 : 0.0246\n",
      "25 Oct 17:38    INFO  Saving current: ./saved/NeuMF-Oct-25-2024_17-35-58.pth\n",
      "25 Oct 17:38    INFO  epoch 2 training [time: 4.50s, train loss: 250.7150]\n",
      "25 Oct 17:39    INFO  epoch 2 evaluating [time: 56.72s, valid_score: 0.054000]\n",
      "25 Oct 17:39    INFO  valid result: \n",
      "recall@10 : 0.054    ndcg@10 : 0.0565    hit@10 : 0.2993    precision@10 : 0.0431    map@10 : 0.0248\n",
      "25 Oct 17:39    INFO  Saving current: ./saved/NeuMF-Oct-25-2024_17-35-58.pth\n",
      "25 Oct 17:39    INFO  epoch 3 training [time: 4.68s, train loss: 238.2575]\n",
      "25 Oct 17:39    INFO  epoch 3 evaluating [time: 51.53s, valid_score: 0.055300]\n",
      "25 Oct 17:39    INFO  valid result: \n",
      "recall@10 : 0.0553    ndcg@10 : 0.0568    hit@10 : 0.2985    precision@10 : 0.0426    map@10 : 0.0252\n",
      "25 Oct 17:39    INFO  Saving current: ./saved/NeuMF-Oct-25-2024_17-35-58.pth\n",
      "25 Oct 17:40    INFO  epoch 4 training [time: 4.39s, train loss: 227.0930]\n",
      "25 Oct 17:40    INFO  epoch 4 evaluating [time: 51.41s, valid_score: 0.058500]\n",
      "25 Oct 17:40    INFO  valid result: \n",
      "recall@10 : 0.0585    ndcg@10 : 0.0589    hit@10 : 0.3103    precision@10 : 0.0439    map@10 : 0.0263\n",
      "25 Oct 17:40    INFO  Saving current: ./saved/NeuMF-Oct-25-2024_17-35-58.pth\n",
      "25 Oct 17:40    INFO  epoch 5 training [time: 4.29s, train loss: 218.4760]\n"
     ]
    },
    {
     "name": "stdout",
     "output_type": "stream",
     "text": [
      "Fail\n",
      "\n",
      "Training LightGCN...\n"
     ]
    },
    {
     "name": "stderr",
     "output_type": "stream",
     "text": [
      "25 Oct 17:41    INFO  movies\n",
      "The number of users: 6041\n",
      "Average actions of users: 148.03791390728477\n",
      "The number of items: 3707\n",
      "Average actions of items: 242.31680216802167\n",
      "The number of inters: 894149\n",
      "The sparsity of the dataset: 96.00719157334512%\n",
      "Remain Fields: ['user_id', 'item_id', 'rating', 'timestamp', 'gender', 'age', 'genre_ids']\n",
      "25 Oct 17:41    INFO  [Training]: train_batch_size = [2048] train_neg_sample_args: [{'distribution': 'uniform', 'sample_num': 1, 'dynamic': False, 'candidate_num': 0, 'alpha': 1.0}]\n",
      "25 Oct 17:41    INFO  [Evaluation]: eval_batch_size = [4096] eval_args: [{'split': {'RS': [0.8, 0.1, 0.1]}, 'order': 'TO', 'group_by': 'user', 'mode': {'valid': 'full', 'test': 'full'}}]\n",
      "25 Oct 17:41    INFO  epoch 0 training [time: 4.66s, train loss: 159.6228]\n",
      "25 Oct 17:42    INFO  epoch 0 evaluating [time: 50.79s, valid_score: 0.036300]\n",
      "25 Oct 17:42    INFO  valid result: \n",
      "recall@10 : 0.0363    ndcg@10 : 0.0475    hit@10 : 0.2565    precision@10 : 0.0397    map@10 : 0.0204\n",
      "25 Oct 17:42    INFO  Saving current: ./saved/LightGCN-Oct-25-2024_17-41-13.pth\n",
      "25 Oct 17:42    INFO  epoch 1 training [time: 4.79s, train loss: 121.0943]\n",
      "25 Oct 17:43    INFO  epoch 1 evaluating [time: 51.12s, valid_score: 0.036700]\n",
      "25 Oct 17:43    INFO  valid result: \n",
      "recall@10 : 0.0367    ndcg@10 : 0.0484    hit@10 : 0.2591    precision@10 : 0.04    map@10 : 0.0208\n",
      "25 Oct 17:43    INFO  Saving current: ./saved/LightGCN-Oct-25-2024_17-41-13.pth\n",
      "25 Oct 17:43    INFO  epoch 2 training [time: 4.54s, train loss: 118.6603]\n",
      "25 Oct 17:43    INFO  epoch 2 evaluating [time: 44.85s, valid_score: 0.036800]\n",
      "25 Oct 17:43    INFO  valid result: \n",
      "recall@10 : 0.0368    ndcg@10 : 0.0482    hit@10 : 0.2594    precision@10 : 0.0403    map@10 : 0.0207\n",
      "25 Oct 17:43    INFO  Saving current: ./saved/LightGCN-Oct-25-2024_17-41-13.pth\n",
      "25 Oct 17:43    INFO  epoch 3 training [time: 4.55s, train loss: 117.5437]\n"
     ]
    },
    {
     "name": "stdout",
     "output_type": "stream",
     "text": [
      "Fail\n",
      "\n",
      "Training SimpleX...\n"
     ]
    },
    {
     "name": "stderr",
     "output_type": "stream",
     "text": [
      "25 Oct 17:44    INFO  movies\n",
      "The number of users: 6041\n",
      "Average actions of users: 148.03791390728477\n",
      "The number of items: 3707\n",
      "Average actions of items: 242.31680216802167\n",
      "The number of inters: 894149\n",
      "The sparsity of the dataset: 96.00719157334512%\n",
      "Remain Fields: ['user_id', 'item_id', 'rating', 'timestamp', 'gender', 'age', 'genre_ids']\n",
      "25 Oct 17:44    INFO  [Training]: train_batch_size = [2048] train_neg_sample_args: [{'distribution': 'uniform', 'sample_num': 1, 'dynamic': False, 'candidate_num': 0, 'alpha': 1.0}]\n",
      "25 Oct 17:44    INFO  [Evaluation]: eval_batch_size = [4096] eval_args: [{'split': {'RS': [0.8, 0.1, 0.1]}, 'order': 'TO', 'group_by': 'user', 'mode': {'valid': 'full', 'test': 'full'}}]\n",
      "25 Oct 17:44    INFO  epoch 0 training [time: 3.96s, train loss: 210.5362]\n",
      "25 Oct 17:45    INFO  epoch 0 evaluating [time: 50.49s, valid_score: 0.040000]\n",
      "25 Oct 17:45    INFO  valid result: \n",
      "recall@10 : 0.04    ndcg@10 : 0.0517    hit@10 : 0.2785    precision@10 : 0.0425    map@10 : 0.0224\n",
      "25 Oct 17:45    INFO  Saving current: ./saved/SimpleX-Oct-25-2024_17-44-29.pth\n",
      "25 Oct 17:45    INFO  epoch 1 training [time: 4.11s, train loss: 181.4156]\n",
      "25 Oct 17:46    INFO  epoch 1 evaluating [time: 49.17s, valid_score: 0.044600]\n",
      "25 Oct 17:46    INFO  valid result: \n",
      "recall@10 : 0.0446    ndcg@10 : 0.0541    hit@10 : 0.2874    precision@10 : 0.0431    map@10 : 0.0235\n",
      "25 Oct 17:46    INFO  Saving current: ./saved/SimpleX-Oct-25-2024_17-44-29.pth\n",
      "25 Oct 17:46    INFO  epoch 2 training [time: 3.81s, train loss: 177.2972]\n",
      "25 Oct 17:47    INFO  epoch 2 evaluating [time: 52.49s, valid_score: 0.047000]\n",
      "25 Oct 17:47    INFO  valid result: \n",
      "recall@10 : 0.047    ndcg@10 : 0.0551    hit@10 : 0.2892    precision@10 : 0.0441    map@10 : 0.0243\n",
      "25 Oct 17:47    INFO  Saving current: ./saved/SimpleX-Oct-25-2024_17-44-29.pth\n",
      "25 Oct 17:47    INFO  epoch 3 training [time: 3.83s, train loss: 174.7653]\n",
      "25 Oct 17:48    INFO  epoch 3 evaluating [time: 51.16s, valid_score: 0.049200]\n",
      "25 Oct 17:48    INFO  valid result: \n",
      "recall@10 : 0.0492    ndcg@10 : 0.0542    hit@10 : 0.3002    precision@10 : 0.0446    map@10 : 0.0228\n",
      "25 Oct 17:48    INFO  Saving current: ./saved/SimpleX-Oct-25-2024_17-44-29.pth\n",
      "25 Oct 17:48    INFO  epoch 4 training [time: 3.91s, train loss: 172.8954]\n"
     ]
    },
    {
     "name": "stdout",
     "output_type": "stream",
     "text": [
      "Fail\n",
      "\n",
      "Training NGCF...\n"
     ]
    },
    {
     "name": "stderr",
     "output_type": "stream",
     "text": [
      "25 Oct 17:48    INFO  movies\n",
      "The number of users: 6041\n",
      "Average actions of users: 148.03791390728477\n",
      "The number of items: 3707\n",
      "Average actions of items: 242.31680216802167\n",
      "The number of inters: 894149\n",
      "The sparsity of the dataset: 96.00719157334512%\n",
      "Remain Fields: ['user_id', 'item_id', 'rating', 'timestamp', 'gender', 'age', 'genre_ids']\n",
      "25 Oct 17:48    INFO  [Training]: train_batch_size = [2048] train_neg_sample_args: [{'distribution': 'uniform', 'sample_num': 1, 'dynamic': False, 'candidate_num': 0, 'alpha': 1.0}]\n",
      "25 Oct 17:48    INFO  [Evaluation]: eval_batch_size = [4096] eval_args: [{'split': {'RS': [0.8, 0.1, 0.1]}, 'order': 'TO', 'group_by': 'user', 'mode': {'valid': 'full', 'test': 'full'}}]\n",
      "25 Oct 17:48    INFO  epoch 0 training [time: 5.99s, train loss: 122.5561]\n",
      "25 Oct 17:49    INFO  epoch 0 evaluating [time: 42.49s, valid_score: 0.024200]\n",
      "25 Oct 17:49    INFO  valid result: \n",
      "recall@10 : 0.0242    ndcg@10 : 0.0309    hit@10 : 0.1902    precision@10 : 0.0256    map@10 : 0.0124\n",
      "25 Oct 17:49    INFO  Saving current: ./saved/NGCF-Oct-25-2024_17-48-53.pth\n",
      "25 Oct 17:49    INFO  epoch 1 training [time: 6.55s, train loss: 100.0126]\n",
      "25 Oct 17:50    INFO  epoch 1 evaluating [time: 49.85s, valid_score: 0.032100]\n",
      "25 Oct 17:50    INFO  valid result: \n",
      "recall@10 : 0.0321    ndcg@10 : 0.0385    hit@10 : 0.2293    precision@10 : 0.0318    map@10 : 0.0156\n",
      "25 Oct 17:50    INFO  Saving current: ./saved/NGCF-Oct-25-2024_17-48-53.pth\n",
      "25 Oct 17:50    INFO  epoch 2 training [time: 5.93s, train loss: 94.8021]\n"
     ]
    },
    {
     "name": "stdout",
     "output_type": "stream",
     "text": [
      "Fail\n",
      "\n",
      "Training SINE...\n"
     ]
    },
    {
     "name": "stderr",
     "output_type": "stream",
     "text": [
      "25 Oct 17:51    INFO  movies\n",
      "The number of users: 6041\n",
      "Average actions of users: 148.03791390728477\n",
      "The number of items: 3707\n",
      "Average actions of items: 242.31680216802167\n",
      "The number of inters: 894149\n",
      "The sparsity of the dataset: 96.00719157334512%\n",
      "Remain Fields: ['user_id', 'item_id', 'rating', 'timestamp', 'gender', 'age', 'genre_ids']\n",
      "25 Oct 17:51    INFO  [Training]: train_batch_size = [2048] train_neg_sample_args: [{'distribution': 'uniform', 'sample_num': 1, 'dynamic': False, 'candidate_num': 0, 'alpha': 1.0}]\n",
      "25 Oct 17:51    INFO  [Evaluation]: eval_batch_size = [4096] eval_args: [{'split': {'RS': [0.8, 0.1, 0.1]}, 'order': 'TO', 'group_by': 'user', 'mode': {'valid': 'full', 'test': 'full'}}]\n",
      "25 Oct 17:51    INFO  epoch 0 training [time: 17.33s, train loss: 2708.5353]\n",
      "25 Oct 17:51    INFO  epoch 0 evaluating [time: 3.39s, valid_score: 0.013800]\n",
      "25 Oct 17:51    INFO  valid result: \n",
      "recall@10 : 0.0138    ndcg@10 : 0.0064    hit@10 : 0.0138    precision@10 : 0.0014    map@10 : 0.0042\n",
      "25 Oct 17:51    INFO  Saving current: ./saved/SINE-Oct-25-2024_17-51-20.pth\n",
      "25 Oct 17:51    INFO  epoch 1 training [time: 17.30s, train loss: 2585.0895]\n",
      "25 Oct 17:52    INFO  epoch 1 evaluating [time: 3.86s, valid_score: 0.017300]\n",
      "25 Oct 17:52    INFO  valid result: \n",
      "recall@10 : 0.0173    ndcg@10 : 0.0075    hit@10 : 0.0173    precision@10 : 0.0017    map@10 : 0.0046\n",
      "25 Oct 17:52    INFO  Saving current: ./saved/SINE-Oct-25-2024_17-51-20.pth\n",
      "Exception ignored in: <function _releaseLock at 0x7f2a63abed40>\n",
      "Traceback (most recent call last):\n",
      "  File \"/opt/conda/lib/python3.11/logging/__init__.py\", line 237, in _releaseLock\n",
      "    def _releaseLock():\n",
      "    \n",
      "KeyboardInterrupt: \n"
     ]
    },
    {
     "name": "stdout",
     "output_type": "stream",
     "text": [
      "Fail\n",
      "\n",
      "Training EulerNet...\n"
     ]
    },
    {
     "name": "stderr",
     "output_type": "stream",
     "text": [
      "25 Oct 17:52    INFO  movies\n",
      "The number of users: 6041\n",
      "Average actions of users: 148.03791390728477\n",
      "The number of items: 3707\n",
      "Average actions of items: 242.31680216802167\n",
      "The number of inters: 894149\n",
      "The sparsity of the dataset: 96.00719157334512%\n",
      "Remain Fields: ['user_id', 'item_id', 'rating', 'timestamp', 'gender', 'age', 'genre_ids']\n",
      "25 Oct 17:52    INFO  [Training]: train_batch_size = [2048] train_neg_sample_args: [{'distribution': 'uniform', 'sample_num': 1, 'dynamic': False, 'candidate_num': 0, 'alpha': 1.0}]\n",
      "25 Oct 17:52    INFO  [Evaluation]: eval_batch_size = [4096] eval_args: [{'split': {'RS': [0.8, 0.1, 0.1]}, 'order': 'TO', 'group_by': 'user', 'mode': {'valid': 'full', 'test': 'full'}}]\n",
      "25 Oct 17:52    INFO  epoch 0 training [time: 26.94s, train loss: 361.0717]\n",
      "25 Oct 17:53    INFO  epoch 0 evaluating [time: 62.93s, valid_score: 0.036000]\n",
      "25 Oct 17:53    INFO  valid result: \n",
      "recall@10 : 0.036    ndcg@10 : 0.0482    hit@10 : 0.2616    precision@10 : 0.0404    map@10 : 0.0204\n",
      "25 Oct 17:53    INFO  Saving current: ./saved/EulerNet-Oct-25-2024_17-52-16.pth\n",
      "25 Oct 17:54    INFO  epoch 1 training [time: 26.53s, train loss: 328.3165]\n",
      "25 Oct 17:55    INFO  epoch 1 evaluating [time: 59.55s, valid_score: 0.040000]\n",
      "25 Oct 17:55    INFO  valid result: \n",
      "recall@10 : 0.04    ndcg@10 : 0.0512    hit@10 : 0.2692    precision@10 : 0.0417    map@10 : 0.0225\n",
      "25 Oct 17:55    INFO  Saving current: ./saved/EulerNet-Oct-25-2024_17-52-16.pth\n",
      "25 Oct 17:55    INFO  epoch 2 training [time: 26.49s, train loss: 317.5848]\n"
     ]
    },
    {
     "name": "stdout",
     "output_type": "stream",
     "text": [
      "Fail\n",
      "\n",
      "Training DCNV2...\n"
     ]
    },
    {
     "name": "stderr",
     "output_type": "stream",
     "text": [
      "25 Oct 17:56    INFO  movies\n",
      "The number of users: 6041\n",
      "Average actions of users: 148.03791390728477\n",
      "The number of items: 3707\n",
      "Average actions of items: 242.31680216802167\n",
      "The number of inters: 894149\n",
      "The sparsity of the dataset: 96.00719157334512%\n",
      "Remain Fields: ['user_id', 'item_id', 'rating', 'timestamp', 'gender', 'age', 'genre_ids']\n",
      "25 Oct 17:56    INFO  [Training]: train_batch_size = [2048] train_neg_sample_args: [{'distribution': 'uniform', 'sample_num': 1, 'dynamic': False, 'candidate_num': 0, 'alpha': 1.0}]\n",
      "25 Oct 17:56    INFO  [Evaluation]: eval_batch_size = [4096] eval_args: [{'split': {'RS': [0.8, 0.1, 0.1]}, 'order': 'TO', 'group_by': 'user', 'mode': {'valid': 'full', 'test': 'full'}}]\n",
      "25 Oct 17:57    INFO  epoch 0 training [time: 19.62s, train loss: 205835.9579]\n",
      "25 Oct 17:57    INFO  epoch 0 evaluating [time: 58.46s, valid_score: 0.041500]\n",
      "25 Oct 17:57    INFO  valid result: \n",
      "recall@10 : 0.0415    ndcg@10 : 0.0488    hit@10 : 0.2712    precision@10 : 0.0399    map@10 : 0.0206\n",
      "25 Oct 17:57    INFO  Saving current: ./saved/DCNV2-Oct-25-2024_17-56-40.pth\n",
      "25 Oct 17:58    INFO  epoch 1 training [time: 19.49s, train loss: 99565.8201]\n",
      "25 Oct 17:59    INFO  epoch 1 evaluating [time: 61.29s, valid_score: 0.043000]\n",
      "25 Oct 17:59    INFO  valid result: \n",
      "recall@10 : 0.043    ndcg@10 : 0.05    hit@10 : 0.2702    precision@10 : 0.0398    map@10 : 0.0217\n",
      "25 Oct 17:59    INFO  Saving current: ./saved/DCNV2-Oct-25-2024_17-56-40.pth\n",
      "25 Oct 17:59    INFO  epoch 2 training [time: 19.39s, train loss: 33218.9892]\n",
      "25 Oct 18:00    INFO  epoch 2 evaluating [time: 59.79s, valid_score: 0.046000]\n",
      "25 Oct 18:00    INFO  valid result: \n",
      "recall@10 : 0.046    ndcg@10 : 0.0514    hit@10 : 0.282    precision@10 : 0.0407    map@10 : 0.0221\n",
      "25 Oct 18:00    INFO  Saving current: ./saved/DCNV2-Oct-25-2024_17-56-40.pth\n",
      "25 Oct 18:00    INFO  epoch 3 training [time: 19.50s, train loss: 4875.2817]\n"
     ]
    },
    {
     "name": "stdout",
     "output_type": "stream",
     "text": [
      "Fail\n",
      "\n",
      "Training xDeepFM...\n"
     ]
    },
    {
     "name": "stderr",
     "output_type": "stream",
     "text": [
      "25 Oct 18:01    INFO  movies\n",
      "The number of users: 6041\n",
      "Average actions of users: 148.03791390728477\n",
      "The number of items: 3707\n",
      "Average actions of items: 242.31680216802167\n",
      "The number of inters: 894149\n",
      "The sparsity of the dataset: 96.00719157334512%\n",
      "Remain Fields: ['user_id', 'item_id', 'rating', 'timestamp', 'gender', 'age', 'genre_ids']\n",
      "25 Oct 18:01    INFO  [Training]: train_batch_size = [2048] train_neg_sample_args: [{'distribution': 'uniform', 'sample_num': 1, 'dynamic': False, 'candidate_num': 0, 'alpha': 1.0}]\n",
      "25 Oct 18:01    INFO  [Evaluation]: eval_batch_size = [4096] eval_args: [{'split': {'RS': [0.8, 0.1, 0.1]}, 'order': 'TO', 'group_by': 'user', 'mode': {'valid': 'full', 'test': 'full'}}]\n",
      "25 Oct 18:01    INFO  epoch 0 training [time: 28.69s, train loss: 340.6880]\n",
      "25 Oct 18:03    INFO  epoch 0 evaluating [time: 71.60s, valid_score: 0.041200]\n",
      "25 Oct 18:03    INFO  valid result: \n",
      "recall@10 : 0.0412    ndcg@10 : 0.048    hit@10 : 0.2623    precision@10 : 0.0379    map@10 : 0.0206\n",
      "25 Oct 18:03    INFO  Saving current: ./saved/xDeepFM-Oct-25-2024_18-01-21.pth\n",
      "25 Oct 18:03    INFO  epoch 1 training [time: 28.88s, train loss: 288.3532]\n",
      "25 Oct 18:04    INFO  epoch 1 evaluating [time: 72.12s, valid_score: 0.044200]\n",
      "25 Oct 18:04    INFO  valid result: \n",
      "recall@10 : 0.0442    ndcg@10 : 0.0513    hit@10 : 0.2765    precision@10 : 0.04    map@10 : 0.0224\n",
      "25 Oct 18:04    INFO  Saving current: ./saved/xDeepFM-Oct-25-2024_18-01-21.pth\n",
      "25 Oct 18:05    INFO  epoch 2 training [time: 28.57s, train loss: 267.5274]\n"
     ]
    },
    {
     "name": "stdout",
     "output_type": "stream",
     "text": [
      "Fail\n",
      "\n",
      "Training SLIMElastic...\n"
     ]
    },
    {
     "name": "stderr",
     "output_type": "stream",
     "text": [
      "25 Oct 18:05    INFO  movies\n",
      "The number of users: 6041\n",
      "Average actions of users: 148.03791390728477\n",
      "The number of items: 3707\n",
      "Average actions of items: 242.31680216802167\n",
      "The number of inters: 894149\n",
      "The sparsity of the dataset: 96.00719157334512%\n",
      "Remain Fields: ['user_id', 'item_id', 'rating', 'timestamp', 'gender', 'age', 'genre_ids']\n",
      "25 Oct 18:06    INFO  [Training]: train_batch_size = [2048] train_neg_sample_args: [{'distribution': 'uniform', 'sample_num': 1, 'dynamic': False, 'candidate_num': 0, 'alpha': 1.0}]\n",
      "25 Oct 18:06    INFO  [Evaluation]: eval_batch_size = [4096] eval_args: [{'split': {'RS': [0.8, 0.1, 0.1]}, 'order': 'TO', 'group_by': 'user', 'mode': {'valid': 'full', 'test': 'full'}}]\n"
     ]
    },
    {
     "name": "stdout",
     "output_type": "stream",
     "text": [
      "Fail\n",
      "\n",
      "Training EASE...\n"
     ]
    },
    {
     "name": "stderr",
     "output_type": "stream",
     "text": [
      "25 Oct 18:09    INFO  movies\n",
      "The number of users: 6041\n",
      "Average actions of users: 148.03791390728477\n",
      "The number of items: 3707\n",
      "Average actions of items: 242.31680216802167\n",
      "The number of inters: 894149\n",
      "The sparsity of the dataset: 96.00719157334512%\n",
      "Remain Fields: ['user_id', 'item_id', 'rating', 'timestamp', 'gender', 'age', 'genre_ids']\n",
      "25 Oct 18:09    INFO  [Training]: train_batch_size = [2048] train_neg_sample_args: [{'distribution': 'uniform', 'sample_num': 1, 'dynamic': False, 'candidate_num': 0, 'alpha': 1.0}]\n",
      "25 Oct 18:09    INFO  [Evaluation]: eval_batch_size = [4096] eval_args: [{'split': {'RS': [0.8, 0.1, 0.1]}, 'order': 'TO', 'group_by': 'user', 'mode': {'valid': 'full', 'test': 'full'}}]\n",
      "25 Oct 18:09    INFO  epoch 0 training [time: 3.45s, train loss: 0.0000]\n",
      "25 Oct 18:10    INFO  epoch 0 evaluating [time: 47.62s, valid_score: 0.078600]\n",
      "25 Oct 18:10    INFO  valid result: \n",
      "recall@10 : 0.0786    ndcg@10 : 0.0645    hit@10 : 0.3283    precision@10 : 0.044    map@10 : 0.0298\n",
      "25 Oct 18:10    INFO  Saving current: ./saved/EASE-Oct-25-2024_18-09-39.pth\n",
      "25 Oct 18:10    INFO  Loading model structure and parameters from ./saved/EASE-Oct-25-2024_18-09-39.pth\n"
     ]
    },
    {
     "name": "stdout",
     "output_type": "stream",
     "text": [
      "\n",
      "Training AutoInt...\n"
     ]
    },
    {
     "name": "stderr",
     "output_type": "stream",
     "text": [
      "25 Oct 18:11    INFO  movies\n",
      "The number of users: 6041\n",
      "Average actions of users: 148.03791390728477\n",
      "The number of items: 3707\n",
      "Average actions of items: 242.31680216802167\n",
      "The number of inters: 894149\n",
      "The sparsity of the dataset: 96.00719157334512%\n",
      "Remain Fields: ['user_id', 'item_id', 'rating', 'timestamp', 'gender', 'age', 'genre_ids']\n",
      "25 Oct 18:11    INFO  [Training]: train_batch_size = [2048] train_neg_sample_args: [{'distribution': 'uniform', 'sample_num': 1, 'dynamic': False, 'candidate_num': 0, 'alpha': 1.0}]\n",
      "25 Oct 18:11    INFO  [Evaluation]: eval_batch_size = [4096] eval_args: [{'split': {'RS': [0.8, 0.1, 0.1]}, 'order': 'TO', 'group_by': 'user', 'mode': {'valid': 'full', 'test': 'full'}}]\n",
      "25 Oct 18:12    INFO  epoch 0 training [time: 38.12s, train loss: 339.7548]\n",
      "25 Oct 18:13    INFO  epoch 0 evaluating [time: 72.85s, valid_score: 0.038000]\n",
      "25 Oct 18:13    INFO  valid result: \n",
      "recall@10 : 0.038    ndcg@10 : 0.0494    hit@10 : 0.2667    precision@10 : 0.041    map@10 : 0.0212\n",
      "25 Oct 18:13    INFO  Saving current: ./saved/AutoInt-Oct-25-2024_18-11-27.pth\n",
      "25 Oct 18:13    INFO  epoch 1 training [time: 37.53s, train loss: 310.0084]\n"
     ]
    }
   ],
   "source": [
    "\n",
    "for model_name in models_to_train:\n",
    "    print(f'\\nTraining {model_name}...')\n",
    "    try:\n",
    "        model, dataset, config, best_valid_result, test_result = train_and_evaluate(model_name, parameter_dict)\n",
    "        results.append({'Model': model_name, 'Best Valid Result': best_valid_result, 'Test Result': test_result})\n",
    "    except:\n",
    "        print('Fail')\n",
    "        continue\n",
    "\n",
    "# Сохранение и вывод результатов\n",
    "results_df = pd.DataFrame(results)\n",
    "results_df.to_csv('./model_comparison_results.csv', index=False)\n",
    "print(\"Final Results:\\n\", results_df)"
   ]
  },
  {
   "cell_type": "code",
   "execution_count": null,
   "metadata": {},
   "outputs": [],
   "source": [
    "25 Oct 18:10    INFO  epoch 0 evaluating [time: 47.62s, valid_score: 0.078600]"
   ]
  },
  {
   "cell_type": "code",
   "execution_count": null,
   "metadata": {},
   "outputs": [],
   "source": [
    "25 Oct 17:36    INFO  epoch 0 training [time: 4.38s, train loss: 335.8789]\n",
    "25 Oct 17:36    INFO  epoch 0 evaluating [time: 56.03s, valid_score: 0.041200]\n",
    "25 Oct 17:36    INFO  valid result: \n",
    "recall@10 : 0.0412    ndcg@10 : 0.0515    hit@10 : 0.2776    precision@10 : 0.0422    map@10 : 0.022\n",
    "25 Oct 17:36    INFO  Saving current: ./saved/NeuMF-Oct-25-2024_17-35-58.pth\n",
    "25 Oct 17:37    INFO  epoch 1 training [time: 4.59s, train loss: 274.5055]\n",
    "25 Oct 17:38    INFO  epoch 1 evaluating [time: 57.42s, valid_score: 0.050200]\n",
    "25 Oct 17:38    INFO  valid result: \n",
    "recall@10 : 0.0502    ndcg@10 : 0.0565    hit@10 : 0.2995    precision@10 : 0.0443    map@10 : 0.0246\n",
    "25 Oct 17:38    INFO  Saving current: ./saved/NeuMF-Oct-25-2024_17-35-58.pth\n",
    "25 Oct 17:38    INFO  epoch 2 training [time: 4.50s, train loss: 250.7150]\n",
    "25 Oct 17:39    INFO  epoch 2 evaluating [time: 56.72s, valid_score: 0.054000]\n",
    "25 Oct 17:39    INFO  valid result: \n",
    "recall@10 : 0.054    ndcg@10 : 0.0565    hit@10 : 0.2993    precision@10 : 0.0431    map@10 : 0.0248\n",
    "25 Oct 17:39    INFO  Saving current: ./saved/NeuMF-Oct-25-2024_17-35-58.pth\n",
    "25 Oct 17:39    INFO  epoch 3 training [time: 4.68s, train loss: 238.2575]\n",
    "25 Oct 17:39    INFO  epoch 3 evaluating [time: 51.53s, valid_score: 0.055300]\n",
    "25 Oct 17:39    INFO  valid result: \n",
    "recall@10 : 0.0553    ndcg@10 : 0.0568    hit@10 : 0.2985    precision@10 : 0.0426    map@10 : 0.0252\n",
    "25 Oct 17:39    INFO  Saving current: ./saved/NeuMF-Oct-25-2024_17-35-58.pth\n",
    "25 Oct 17:40    INFO  epoch 4 training [time: 4.39s, train loss: 227.0930]\n",
    "25 Oct 17:40    INFO  epoch 4 evaluating [time: 51.41s, valid_score: 0.058500]\n",
    "25 Oct 17:40    INFO  valid result: \n",
    "recall@10 : 0.0585    ndcg@10 : 0.0589    hit@10 : 0.3103    precision@10 : 0.0439    map@10 : 0.0263\n",
    "25 Oct 17:40    INFO  Saving current: ./saved/NeuMF-Oct-25-2024_17-35-58.pth\n",
    "25 Oct 17:40    INFO  epoch 5 training [time: 4.29s, train loss: 218.4760]"
   ]
  },
  {
   "cell_type": "code",
   "execution_count": 29,
   "metadata": {},
   "outputs": [
    {
     "name": "stderr",
     "output_type": "stream",
     "text": [
      "25 Oct 17:26    INFO  \n",
      "General Hyper Parameters:\n",
      "gpu_id = 0\n",
      "use_gpu = True\n",
      "seed = 42\n",
      "state = INFO\n",
      "reproducibility = True\n",
      "data_path = ./recbole_data/movies\n",
      "checkpoint_dir = ./saved\n",
      "show_progress = True\n",
      "save_dataset = False\n",
      "dataset_save_path = None\n",
      "save_dataloaders = False\n",
      "dataloaders_save_path = None\n",
      "log_wandb = False\n",
      "\n",
      "Training Hyper Parameters:\n",
      "epochs = 1\n",
      "train_batch_size = 2048\n",
      "learner = adam\n",
      "learning_rate = 0.001\n",
      "train_neg_sample_args = {'distribution': 'uniform', 'sample_num': 1, 'dynamic': False, 'candidate_num': 0, 'alpha': 1.0}\n",
      "eval_step = 1\n",
      "stopping_step = 3\n",
      "clip_grad_norm = None\n",
      "weight_decay = 0.0\n",
      "loss_decimal_place = 4\n",
      "\n",
      "Evaluation Hyper Parameters:\n",
      "eval_args = {'split': {'RS': [0.8, 0.1, 0.1]}, 'order': 'TO', 'group_by': 'user', 'mode': {'valid': 'full', 'test': 'full'}}\n",
      "repeatable = False\n",
      "metrics = ['Recall', 'NDCG', 'Hit', 'Precision', 'MAP']\n",
      "topk = [10]\n",
      "valid_metric = Recall@10\n",
      "valid_metric_bigger = True\n",
      "eval_batch_size = 4096\n",
      "metric_decimal_place = 4\n",
      "\n",
      "Dataset Hyper Parameters:\n",
      "field_separator = \t\n",
      "seq_separator =  \n",
      "USER_ID_FIELD = user_id\n",
      "ITEM_ID_FIELD = item_id\n",
      "RATING_FIELD = rating\n",
      "TIME_FIELD = timestamp\n",
      "seq_len = None\n",
      "LABEL_FIELD = label\n",
      "threshold = None\n",
      "NEG_PREFIX = neg_\n",
      "load_col = {'inter': ['user_id', 'item_id', 'rating', 'timestamp'], 'user': ['user_id', 'gender', 'age'], 'item': ['item_id', 'genre_ids']}\n",
      "unload_col = None\n",
      "unused_col = None\n",
      "additional_feat_suffix = None\n",
      "rm_dup_inter = None\n",
      "val_interval = None\n",
      "filter_inter_by_user_or_item = True\n",
      "user_inter_num_interval = [0,inf)\n",
      "item_inter_num_interval = [0,inf)\n",
      "alias_of_user_id = None\n",
      "alias_of_item_id = None\n",
      "alias_of_entity_id = None\n",
      "alias_of_relation_id = None\n",
      "preload_weight = None\n",
      "normalize_field = None\n",
      "normalize_all = None\n",
      "ITEM_LIST_LENGTH_FIELD = item_length\n",
      "LIST_SUFFIX = _list\n",
      "MAX_ITEM_LIST_LENGTH = 50\n",
      "POSITION_FIELD = position_id\n",
      "HEAD_ENTITY_ID_FIELD = head_id\n",
      "TAIL_ENTITY_ID_FIELD = tail_id\n",
      "RELATION_ID_FIELD = relation_id\n",
      "ENTITY_ID_FIELD = entity_id\n",
      "benchmark_filename = None\n",
      "\n",
      "Other Hyper Parameters: \n",
      "worker = 10\n",
      "wandb_project = recbole\n",
      "shuffle = True\n",
      "require_pow = False\n",
      "enable_amp = False\n",
      "enable_scaler = False\n",
      "transform = None\n",
      "embedding_size = 64\n",
      "n_layers = 2\n",
      "reg_weight = 1e-05\n",
      "numerical_features = []\n",
      "discretization = None\n",
      "kg_reverse_r = False\n",
      "entity_kg_num_interval = [0,inf)\n",
      "relation_kg_num_interval = [0,inf)\n",
      "MODEL_TYPE = ModelType.GENERAL\n",
      "device = cuda\n",
      "checkpoint_save_steps = 1\n",
      "logging_level = INFO\n",
      "MODEL_INPUT_TYPE = InputType.PAIRWISE\n",
      "eval_type = EvaluatorType.RANKING\n",
      "single_spec = True\n",
      "local_rank = 0\n",
      "valid_neg_sample_args = {'distribution': 'uniform', 'sample_num': 'none'}\n",
      "test_neg_sample_args = {'distribution': 'uniform', 'sample_num': 'none'}\n",
      "\n",
      "\n",
      "25 Oct 17:26    INFO  movies\n",
      "The number of users: 6041\n",
      "Average actions of users: 148.03791390728477\n",
      "The number of items: 3707\n",
      "Average actions of items: 242.31680216802167\n",
      "The number of inters: 894149\n",
      "The sparsity of the dataset: 96.00719157334512%\n",
      "Remain Fields: ['user_id', 'item_id', 'rating', 'timestamp', 'gender', 'age', 'genre_ids']\n",
      "25 Oct 17:26    INFO  [Training]: train_batch_size = [2048] train_neg_sample_args: [{'distribution': 'uniform', 'sample_num': 1, 'dynamic': False, 'candidate_num': 0, 'alpha': 1.0}]\n",
      "25 Oct 17:26    INFO  [Evaluation]: eval_batch_size = [4096] eval_args: [{'split': {'RS': [0.8, 0.1, 0.1]}, 'order': 'TO', 'group_by': 'user', 'mode': {'valid': 'full', 'test': 'full'}}]\n"
     ]
    },
    {
     "name": "stdout",
     "output_type": "stream",
     "text": [
      "Количество пользователей с рекомендациями: 6040\n",
      "Рекомендации сохранены в файл 'submission.csv'\n"
     ]
    }
   ],
   "source": [
    "import torch\n",
    "import pandas as pd\n",
    "from recbole.quick_start import load_data_and_model\n",
    "from recbole.utils.case_study import full_sort_topk\n",
    "\n",
    "def generate_recommendations(model_path):\n",
    "    # Загрузка модели и данных\n",
    "    config, model, dataset, train_data, valid_data, test_data = load_data_and_model(model_file=model_path)\n",
    "    \n",
    "    # Перевод модели в режим оценки\n",
    "    model.eval()\n",
    "    model.to(config['device'])\n",
    "    \n",
    "    # Получение идентификаторов пользователей и элементов\n",
    "    user_id_field = config['USER_ID_FIELD']\n",
    "    item_id_field = config['ITEM_ID_FIELD']\n",
    "    \n",
    "    # Получение внешних идентификаторов пользователей (исключая 'PAD' токен)\n",
    "    external_user_ids = dataset.id2token(\n",
    "        dataset.uid_field, list(range(dataset.user_num))\n",
    "    )[1:]  # Удаляем первый элемент 'PAD'\n",
    "    \n",
    "    # Инициализация списка для хранения топ-10 рекомендаций для каждого пользователя\n",
    "    topk_items = []\n",
    "    \n",
    "    # Задаем значение топ-K\n",
    "    k = 100  # Увеличиваем до 100 для последующей фильтрации\n",
    "    \n",
    "    # Получение матрицы взаимодействий пользователей\n",
    "    interaction_matrix = dataset.inter_matrix(form='csr').astype('bool')\n",
    "    \n",
    "    # Итерация по всем пользователям (исключая 'PAD' токен)\n",
    "    for internal_user_id in range(1, dataset.user_num):\n",
    "        # Получение топ-K элементов для пользователя\n",
    "        scores, topk_iid_list = full_sort_topk(\n",
    "            [internal_user_id], model, test_data, k=k, device=config['device']\n",
    "        )\n",
    "        \n",
    "        # Преобразуем внутренние идентификаторы элементов во внешние\n",
    "        last_topk_iid_list = topk_iid_list[0].cpu().numpy()\n",
    "        external_item_list = dataset.id2token(\n",
    "            dataset.iid_field, last_topk_iid_list\n",
    "        ).tolist()\n",
    "        \n",
    "        # Получаем элементы, с которыми пользователь уже взаимодействовал\n",
    "        user_interacted_items = interaction_matrix[internal_user_id].indices\n",
    "        user_interacted_items_external = dataset.id2token(\n",
    "            dataset.iid_field, user_interacted_items\n",
    "        ).tolist()\n",
    "        \n",
    "        # Исключаем взаимодействованные элементы из рекомендаций\n",
    "        filtered_items = [item for item in external_item_list if item not in user_interacted_items_external]\n",
    "        \n",
    "        # Оставляем только топ-10 элементов\n",
    "        top_10_items = filtered_items[:10]\n",
    "        \n",
    "        # Если менее 10 элементов, можно решить, что делать (например, оставить как есть)\n",
    "        if len(top_10_items) < 10:\n",
    "            print(f\"Пользователь {internal_user_id} имеет менее 10 новых рекомендаций.\")\n",
    "        \n",
    "        # Добавляем рекомендации в список\n",
    "        topk_items.append(top_10_items)\n",
    "    \n",
    "    # Проверка длины списка рекомендаций\n",
    "    print(f\"Количество пользователей с рекомендациями: {len(topk_items)}\")\n",
    "    \n",
    "    # Формирование строки с рекомендациями для каждого пользователя\n",
    "    external_item_str = [' '.join(map(str, items)) for items in topk_items]\n",
    "    \n",
    "    # Создание DataFrame с результатами\n",
    "    result = pd.DataFrame({'user_id': external_user_ids, 'item_id': external_item_str})\n",
    "    \n",
    "    # Сохранение результатов в файл\n",
    "    result.to_csv('submission.csv', index=False)\n",
    "    \n",
    "    print(\"Рекомендации сохранены в файл 'submission.csv'\")\n",
    "    return result\n",
    "\n",
    "# Вызов функции с указанием пути к модели\n",
    "result = generate_recommendations('./saved/LightGCN-Oct-25-2024_16-57-01.pth')\n"
   ]
  },
  {
   "cell_type": "code",
   "execution_count": 16,
   "metadata": {},
   "outputs": [],
   "source": [
    "# df = pd.read_csv('recommendations.csv', header=None)"
   ]
  },
  {
   "cell_type": "code",
   "execution_count": 17,
   "metadata": {},
   "outputs": [
    {
     "data": {
      "text/html": [
       "<div>\n",
       "<style scoped>\n",
       "    .dataframe tbody tr th:only-of-type {\n",
       "        vertical-align: middle;\n",
       "    }\n",
       "\n",
       "    .dataframe tbody tr th {\n",
       "        vertical-align: top;\n",
       "    }\n",
       "\n",
       "    .dataframe thead th {\n",
       "        text-align: right;\n",
       "    }\n",
       "</style>\n",
       "<table border=\"1\" class=\"dataframe\">\n",
       "  <thead>\n",
       "    <tr style=\"text-align: right;\">\n",
       "      <th></th>\n",
       "      <th>0</th>\n",
       "      <th>1</th>\n",
       "    </tr>\n",
       "  </thead>\n",
       "  <tbody>\n",
       "    <tr>\n",
       "      <th>0</th>\n",
       "      <td>0</td>\n",
       "      <td>472 2732 2862 1543 2256 1811 2630 2688 2564 2342</td>\n",
       "    </tr>\n",
       "    <tr>\n",
       "      <th>1</th>\n",
       "      <td>1</td>\n",
       "      <td>584 3529 1039 463 3013 1315 36 169 1811 1505</td>\n",
       "    </tr>\n",
       "    <tr>\n",
       "      <th>2</th>\n",
       "      <td>2</td>\n",
       "      <td>640 2732 1039 463 1831 1223 3013 2646 1315 2862</td>\n",
       "    </tr>\n",
       "    <tr>\n",
       "      <th>3</th>\n",
       "      <td>3</td>\n",
       "      <td>3022 3529 1223 3013 1315 36 2862 1560 3409 169</td>\n",
       "    </tr>\n",
       "    <tr>\n",
       "      <th>4</th>\n",
       "      <td>4</td>\n",
       "      <td>2297 3022 1583 2732 1039 2646 1315 2862 1560 3409</td>\n",
       "    </tr>\n",
       "    <tr>\n",
       "      <th>...</th>\n",
       "      <td>...</td>\n",
       "      <td>...</td>\n",
       "    </tr>\n",
       "    <tr>\n",
       "      <th>6035</th>\n",
       "      <td>6035</td>\n",
       "      <td>584 3529 463 3013 2646 1315 36 3409 1956 1615</td>\n",
       "    </tr>\n",
       "    <tr>\n",
       "      <th>6036</th>\n",
       "      <td>6036</td>\n",
       "      <td>2297 1583 584 3529 640 2732 1039 463 1831 3013</td>\n",
       "    </tr>\n",
       "    <tr>\n",
       "      <th>6037</th>\n",
       "      <td>6037</td>\n",
       "      <td>472 2297 3022 1583 584 2732 463 1831 1223 2980</td>\n",
       "    </tr>\n",
       "    <tr>\n",
       "      <th>6038</th>\n",
       "      <td>6038</td>\n",
       "      <td>1583 640 1315 1956 1615 1543 476 1337 2745 3153</td>\n",
       "    </tr>\n",
       "    <tr>\n",
       "      <th>6039</th>\n",
       "      <td>6039</td>\n",
       "      <td>3022 3529 640 1831 1315 1615 1811 476 2664 2630</td>\n",
       "    </tr>\n",
       "  </tbody>\n",
       "</table>\n",
       "<p>6040 rows × 2 columns</p>\n",
       "</div>"
      ],
      "text/plain": [
       "         0                                                  1\n",
       "0        0   472 2732 2862 1543 2256 1811 2630 2688 2564 2342\n",
       "1        1       584 3529 1039 463 3013 1315 36 169 1811 1505\n",
       "2        2    640 2732 1039 463 1831 1223 3013 2646 1315 2862\n",
       "3        3     3022 3529 1223 3013 1315 36 2862 1560 3409 169\n",
       "4        4  2297 3022 1583 2732 1039 2646 1315 2862 1560 3409\n",
       "...    ...                                                ...\n",
       "6035  6035      584 3529 463 3013 2646 1315 36 3409 1956 1615\n",
       "6036  6036     2297 1583 584 3529 640 2732 1039 463 1831 3013\n",
       "6037  6037     472 2297 3022 1583 584 2732 463 1831 1223 2980\n",
       "6038  6038    1583 640 1315 1956 1615 1543 476 1337 2745 3153\n",
       "6039  6039    3022 3529 640 1831 1315 1615 1811 476 2664 2630\n",
       "\n",
       "[6040 rows x 2 columns]"
      ]
     },
     "execution_count": 17,
     "metadata": {},
     "output_type": "execute_result"
    }
   ],
   "source": [
    "df"
   ]
  },
  {
   "cell_type": "code",
   "execution_count": null,
   "metadata": {},
   "outputs": [],
   "source": [
    "# no validation params\n",
    "# parameter_dict = {\n",
    "#     'data_path': recbole_data_path,\n",
    "#     'dataset': dataset_name,\n",
    "#     'USER_ID_FIELD': 'user_id',\n",
    "#     'ITEM_ID_FIELD': 'item_id',\n",
    "#     'RATING_FIELD': 'rating',\n",
    "#     'TIME_FIELD': 'timestamp',\n",
    "#     'load_col': {\n",
    "#         'inter': ['user_id', 'item_id', 'rating', 'timestamp'],\n",
    "#         'user': ['user_id', 'gender', 'age'],\n",
    "#         'item': ['item_id', 'genre_ids'],\n",
    "#     },\n",
    "#     'train_neg_sample_args': {\n",
    "#         'distribution': 'uniform',\n",
    "#         'sample_num': 2,\n",
    "#         'dynamic': True,\n",
    "#         'candidate_num': 0,\n",
    "#         'alpha': 1.0,\n",
    "#     },\n",
    "#     'eval_args': {\n",
    "#         'split': {'RS': [0.8, 0.1, 0.1]},\n",
    "#         'group_by': 'user',\n",
    "#         'order': 'TO',\n",
    "#         'mode': 'full',\n",
    "#         'metrics': ['Recall', 'NDCG', 'Hit', 'Precision', 'MAP'],\n",
    "#         'topk': 10,\n",
    "#     },\n",
    "#     'eval_step': 0,  # Отключаем валидацию во время обучения\n",
    "#     'epochs': 20,    # Увеличиваем количество эпох\n",
    "#     'stopping_step': None,  # Отключаем раннюю остановку\n",
    "#     'valid_metric': None,   # Отключаем метрику валидации\n",
    "#     'checkpoint_save_steps': 0,  # Сохраняем модель только в конце\n",
    "#     'metrics': ['Recall', 'NDCG', 'Hit', 'Precision', 'MAP'],\n",
    "#     'topk': 10,\n",
    "#     'seed': 42,\n",
    "#     'device': 'cuda' if torch.cuda.is_available() else 'cpu',\n",
    "#     'show_progress': True,\n",
    "#     'checkpoint_dir': './saved',\n",
    "#     'logging_level': 'ERROR',\n",
    "#     'worker': 10,\n",
    "#     'reproducibility': True,\n",
    "#     'state': 'INFO',\n",
    "# }\n"
   ]
  }
 ],
 "metadata": {
  "kernelspec": {
   "display_name": "Python 3 (ipykernel)",
   "language": "python",
   "name": "python3"
  },
  "language_info": {
   "codemirror_mode": {
    "name": "ipython",
    "version": 3
   },
   "file_extension": ".py",
   "mimetype": "text/x-python",
   "name": "python",
   "nbconvert_exporter": "python",
   "pygments_lexer": "ipython3",
   "version": "3.11.9"
  }
 },
 "nbformat": 4,
 "nbformat_minor": 4
}
