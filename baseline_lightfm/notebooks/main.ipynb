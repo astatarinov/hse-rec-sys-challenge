{
 "cells": [
  {
   "cell_type": "code",
   "execution_count": 1,
   "id": "f75cb871e1ea136c",
   "metadata": {
    "ExecuteTime": {
     "end_time": "2024-10-25T12:01:16.648559Z",
     "start_time": "2024-10-25T12:01:16.260050Z"
    }
   },
   "outputs": [],
   "source": [
    "import pandas as pd"
   ]
  },
  {
   "cell_type": "code",
   "execution_count": 2,
   "id": "initial_id",
   "metadata": {
    "ExecuteTime": {
     "end_time": "2024-10-25T12:01:16.742163Z",
     "start_time": "2024-10-25T12:01:16.657792Z"
    }
   },
   "outputs": [
    {
     "data": {
      "text/html": [
       "<div>\n",
       "<style scoped>\n",
       "    .dataframe tbody tr th:only-of-type {\n",
       "        vertical-align: middle;\n",
       "    }\n",
       "\n",
       "    .dataframe tbody tr th {\n",
       "        vertical-align: top;\n",
       "    }\n",
       "\n",
       "    .dataframe thead th {\n",
       "        text-align: right;\n",
       "    }\n",
       "</style>\n",
       "<table border=\"1\" class=\"dataframe\">\n",
       "  <thead>\n",
       "    <tr style=\"text-align: right;\">\n",
       "      <th></th>\n",
       "      <th>user_id</th>\n",
       "      <th>item_id</th>\n",
       "      <th>rating</th>\n",
       "      <th>timestamp</th>\n",
       "    </tr>\n",
       "  </thead>\n",
       "  <tbody>\n",
       "    <tr>\n",
       "      <th>0</th>\n",
       "      <td>0</td>\n",
       "      <td>1505</td>\n",
       "      <td>4</td>\n",
       "      <td>0</td>\n",
       "    </tr>\n",
       "    <tr>\n",
       "      <th>1</th>\n",
       "      <td>0</td>\n",
       "      <td>3669</td>\n",
       "      <td>3</td>\n",
       "      <td>1</td>\n",
       "    </tr>\n",
       "    <tr>\n",
       "      <th>2</th>\n",
       "      <td>0</td>\n",
       "      <td>584</td>\n",
       "      <td>4</td>\n",
       "      <td>2</td>\n",
       "    </tr>\n",
       "    <tr>\n",
       "      <th>3</th>\n",
       "      <td>0</td>\n",
       "      <td>3390</td>\n",
       "      <td>3</td>\n",
       "      <td>3</td>\n",
       "    </tr>\n",
       "    <tr>\n",
       "      <th>4</th>\n",
       "      <td>0</td>\n",
       "      <td>2885</td>\n",
       "      <td>4</td>\n",
       "      <td>4</td>\n",
       "    </tr>\n",
       "  </tbody>\n",
       "</table>\n",
       "</div>"
      ],
      "text/plain": [
       "   user_id  item_id  rating  timestamp\n",
       "0        0     1505       4          0\n",
       "1        0     3669       3          1\n",
       "2        0      584       4          2\n",
       "3        0     3390       3          3\n",
       "4        0     2885       4          4"
      ]
     },
     "execution_count": 2,
     "metadata": {},
     "output_type": "execute_result"
    }
   ],
   "source": [
    "events_data = pd.read_csv(\"data/events.csv\")\n",
    "events_data.head()"
   ]
  },
  {
   "cell_type": "markdown",
   "id": "39a0faeb-85e0-4863-be9e-f740b9314700",
   "metadata": {},
   "source": [
    "Все просмотры фильмов у юзера уникальны, это удобно"
   ]
  },
  {
   "cell_type": "code",
   "execution_count": 3,
   "id": "a9ee6ce8-76f5-41a0-81a4-b7aa8a9fc2db",
   "metadata": {},
   "outputs": [
    {
     "data": {
      "text/plain": [
       "True"
      ]
     },
     "execution_count": 3,
     "metadata": {},
     "output_type": "execute_result"
    }
   ],
   "source": [
    "events_data.groupby('user_id').item_id.value_counts().max() == 1"
   ]
  },
  {
   "cell_type": "markdown",
   "id": "8f85a58a-e686-4383-b6cd-259a9863eb7c",
   "metadata": {},
   "source": [
    "Тестировать будем следующим образом: \n",
    "\n",
    "1) по timestamp отбираем в `top_10_per_user` последние 10 фильмов, которые каждый юзер смотрел - это будет наша тестовая выборка (логично, что оценивать рекомендации надо по фильмам, которые юзеры еще не смотрели)\n",
    "2) эти же данные мы из `events_data` уберем, и таким образом сформируем нашу выборку для обучения\n",
    "\n"
   ]
  },
  {
   "cell_type": "code",
   "execution_count": 4,
   "id": "bd07c7f3ef0354e1",
   "metadata": {
    "ExecuteTime": {
     "end_time": "2024-10-25T12:01:16.895205Z",
     "start_time": "2024-10-25T12:01:16.893622Z"
    }
   },
   "outputs": [],
   "source": [
    "# REMOVE LAST 10 FOR VALIDATION IF NEEDED\n",
    "\n",
    "# Sort by 'userid' and 'timestamp' in descending order\n",
    "df = events_data.sort_values(['user_id', 'timestamp'], ascending=[True, False])\n",
    "\n",
    "# Select the last 10 items for each user\n",
    "top_10_per_user = df.groupby('user_id').head(10)\n",
    "events_data = df[~df.index.isin(top_10_per_user.index)].reset_index(drop=True)"
   ]
  },
  {
   "cell_type": "code",
   "execution_count": 5,
   "id": "2988a152a72c2b31",
   "metadata": {
    "ExecuteTime": {
     "end_time": "2024-10-25T12:01:16.942575Z",
     "start_time": "2024-10-25T12:01:16.934721Z"
    }
   },
   "outputs": [
    {
     "data": {
      "text/html": [
       "<div>\n",
       "<style scoped>\n",
       "    .dataframe tbody tr th:only-of-type {\n",
       "        vertical-align: middle;\n",
       "    }\n",
       "\n",
       "    .dataframe tbody tr th {\n",
       "        vertical-align: top;\n",
       "    }\n",
       "\n",
       "    .dataframe thead th {\n",
       "        text-align: right;\n",
       "    }\n",
       "</style>\n",
       "<table border=\"1\" class=\"dataframe\">\n",
       "  <thead>\n",
       "    <tr style=\"text-align: right;\">\n",
       "      <th></th>\n",
       "      <th>item_id</th>\n",
       "      <th>genre_0</th>\n",
       "      <th>genre_1</th>\n",
       "      <th>genre_2</th>\n",
       "      <th>genre_3</th>\n",
       "      <th>genre_4</th>\n",
       "      <th>genre_5</th>\n",
       "      <th>genre_6</th>\n",
       "      <th>genre_7</th>\n",
       "      <th>genre_8</th>\n",
       "      <th>genre_9</th>\n",
       "      <th>genre_10</th>\n",
       "      <th>genre_11</th>\n",
       "      <th>genre_12</th>\n",
       "      <th>genre_13</th>\n",
       "      <th>genre_14</th>\n",
       "      <th>genre_15</th>\n",
       "      <th>genre_16</th>\n",
       "      <th>genre_17</th>\n",
       "    </tr>\n",
       "  </thead>\n",
       "  <tbody>\n",
       "    <tr>\n",
       "      <th>0</th>\n",
       "      <td>0</td>\n",
       "      <td>0</td>\n",
       "      <td>1</td>\n",
       "      <td>0</td>\n",
       "      <td>1</td>\n",
       "      <td>1</td>\n",
       "      <td>0</td>\n",
       "      <td>0</td>\n",
       "      <td>0</td>\n",
       "      <td>1</td>\n",
       "      <td>0</td>\n",
       "      <td>0</td>\n",
       "      <td>0</td>\n",
       "      <td>0</td>\n",
       "      <td>1</td>\n",
       "      <td>0</td>\n",
       "      <td>0</td>\n",
       "      <td>0</td>\n",
       "      <td>0</td>\n",
       "    </tr>\n",
       "    <tr>\n",
       "      <th>1</th>\n",
       "      <td>1</td>\n",
       "      <td>0</td>\n",
       "      <td>0</td>\n",
       "      <td>0</td>\n",
       "      <td>0</td>\n",
       "      <td>0</td>\n",
       "      <td>0</td>\n",
       "      <td>0</td>\n",
       "      <td>1</td>\n",
       "      <td>0</td>\n",
       "      <td>0</td>\n",
       "      <td>0</td>\n",
       "      <td>0</td>\n",
       "      <td>0</td>\n",
       "      <td>0</td>\n",
       "      <td>0</td>\n",
       "      <td>0</td>\n",
       "      <td>0</td>\n",
       "      <td>0</td>\n",
       "    </tr>\n",
       "    <tr>\n",
       "      <th>2</th>\n",
       "      <td>2</td>\n",
       "      <td>0</td>\n",
       "      <td>0</td>\n",
       "      <td>0</td>\n",
       "      <td>0</td>\n",
       "      <td>0</td>\n",
       "      <td>0</td>\n",
       "      <td>0</td>\n",
       "      <td>1</td>\n",
       "      <td>0</td>\n",
       "      <td>0</td>\n",
       "      <td>0</td>\n",
       "      <td>0</td>\n",
       "      <td>0</td>\n",
       "      <td>0</td>\n",
       "      <td>0</td>\n",
       "      <td>0</td>\n",
       "      <td>0</td>\n",
       "      <td>0</td>\n",
       "    </tr>\n",
       "    <tr>\n",
       "      <th>3</th>\n",
       "      <td>3</td>\n",
       "      <td>0</td>\n",
       "      <td>0</td>\n",
       "      <td>0</td>\n",
       "      <td>0</td>\n",
       "      <td>0</td>\n",
       "      <td>0</td>\n",
       "      <td>0</td>\n",
       "      <td>1</td>\n",
       "      <td>0</td>\n",
       "      <td>0</td>\n",
       "      <td>0</td>\n",
       "      <td>0</td>\n",
       "      <td>0</td>\n",
       "      <td>1</td>\n",
       "      <td>0</td>\n",
       "      <td>0</td>\n",
       "      <td>0</td>\n",
       "      <td>0</td>\n",
       "    </tr>\n",
       "    <tr>\n",
       "      <th>4</th>\n",
       "      <td>4</td>\n",
       "      <td>0</td>\n",
       "      <td>0</td>\n",
       "      <td>0</td>\n",
       "      <td>0</td>\n",
       "      <td>0</td>\n",
       "      <td>0</td>\n",
       "      <td>0</td>\n",
       "      <td>1</td>\n",
       "      <td>0</td>\n",
       "      <td>0</td>\n",
       "      <td>0</td>\n",
       "      <td>0</td>\n",
       "      <td>0</td>\n",
       "      <td>0</td>\n",
       "      <td>0</td>\n",
       "      <td>0</td>\n",
       "      <td>0</td>\n",
       "      <td>0</td>\n",
       "    </tr>\n",
       "  </tbody>\n",
       "</table>\n",
       "</div>"
      ],
      "text/plain": [
       "   item_id  genre_0  genre_1  genre_2  genre_3  genre_4  genre_5  genre_6  \\\n",
       "0        0        0        1        0        1        1        0        0   \n",
       "1        1        0        0        0        0        0        0        0   \n",
       "2        2        0        0        0        0        0        0        0   \n",
       "3        3        0        0        0        0        0        0        0   \n",
       "4        4        0        0        0        0        0        0        0   \n",
       "\n",
       "   genre_7  genre_8  genre_9  genre_10  genre_11  genre_12  genre_13  \\\n",
       "0        0        1        0         0         0         0         1   \n",
       "1        1        0        0         0         0         0         0   \n",
       "2        1        0        0         0         0         0         0   \n",
       "3        1        0        0         0         0         0         1   \n",
       "4        1        0        0         0         0         0         0   \n",
       "\n",
       "   genre_14  genre_15  genre_16  genre_17  \n",
       "0         0         0         0         0  \n",
       "1         0         0         0         0  \n",
       "2         0         0         0         0  \n",
       "3         0         0         0         0  \n",
       "4         0         0         0         0  "
      ]
     },
     "execution_count": 5,
     "metadata": {},
     "output_type": "execute_result"
    }
   ],
   "source": [
    "items_features_data = pd.read_csv(\"data/item_features.csv\")\n",
    "items_features_data.head()"
   ]
  },
  {
   "cell_type": "code",
   "execution_count": 6,
   "id": "8b953907a3b2be4c",
   "metadata": {
    "ExecuteTime": {
     "end_time": "2024-10-25T12:01:16.999875Z",
     "start_time": "2024-10-25T12:01:16.992269Z"
    }
   },
   "outputs": [
    {
     "data": {
      "text/html": [
       "<div>\n",
       "<style scoped>\n",
       "    .dataframe tbody tr th:only-of-type {\n",
       "        vertical-align: middle;\n",
       "    }\n",
       "\n",
       "    .dataframe tbody tr th {\n",
       "        vertical-align: top;\n",
       "    }\n",
       "\n",
       "    .dataframe thead th {\n",
       "        text-align: right;\n",
       "    }\n",
       "</style>\n",
       "<table border=\"1\" class=\"dataframe\">\n",
       "  <thead>\n",
       "    <tr style=\"text-align: right;\">\n",
       "      <th></th>\n",
       "      <th>user_id</th>\n",
       "      <th>gender</th>\n",
       "      <th>age</th>\n",
       "    </tr>\n",
       "  </thead>\n",
       "  <tbody>\n",
       "    <tr>\n",
       "      <th>0</th>\n",
       "      <td>0</td>\n",
       "      <td>M</td>\n",
       "      <td>35</td>\n",
       "    </tr>\n",
       "    <tr>\n",
       "      <th>1</th>\n",
       "      <td>1</td>\n",
       "      <td>M</td>\n",
       "      <td>18</td>\n",
       "    </tr>\n",
       "    <tr>\n",
       "      <th>2</th>\n",
       "      <td>2</td>\n",
       "      <td>M</td>\n",
       "      <td>25</td>\n",
       "    </tr>\n",
       "    <tr>\n",
       "      <th>3</th>\n",
       "      <td>3</td>\n",
       "      <td>M</td>\n",
       "      <td>18</td>\n",
       "    </tr>\n",
       "    <tr>\n",
       "      <th>4</th>\n",
       "      <td>4</td>\n",
       "      <td>M</td>\n",
       "      <td>18</td>\n",
       "    </tr>\n",
       "  </tbody>\n",
       "</table>\n",
       "</div>"
      ],
      "text/plain": [
       "   user_id gender  age\n",
       "0        0      M   35\n",
       "1        1      M   18\n",
       "2        2      M   25\n",
       "3        3      M   18\n",
       "4        4      M   18"
      ]
     },
     "execution_count": 6,
     "metadata": {},
     "output_type": "execute_result"
    }
   ],
   "source": [
    "user_features_data = pd.read_csv(\"data/user_features.csv\").sort_values(by=\"user_id\", axis=0).reset_index(drop=True)\n",
    "user_features_data.head()"
   ]
  },
  {
   "cell_type": "code",
   "execution_count": 7,
   "id": "df5e5ead82f59b9a",
   "metadata": {
    "ExecuteTime": {
     "end_time": "2024-10-25T12:01:17.033989Z",
     "start_time": "2024-10-25T12:01:17.031089Z"
    }
   },
   "outputs": [
    {
     "data": {
      "text/plain": [
       "True"
      ]
     },
     "execution_count": 7,
     "metadata": {},
     "output_type": "execute_result"
    }
   ],
   "source": [
    "user_features_data['user_id'].nunique() == len(user_features_data)"
   ]
  },
  {
   "cell_type": "code",
   "execution_count": 8,
   "id": "3909ab15acad5d5a",
   "metadata": {
    "ExecuteTime": {
     "end_time": "2024-10-25T12:01:17.122082Z",
     "start_time": "2024-10-25T12:01:17.116926Z"
    }
   },
   "outputs": [
    {
     "data": {
      "text/html": [
       "<div>\n",
       "<style scoped>\n",
       "    .dataframe tbody tr th:only-of-type {\n",
       "        vertical-align: middle;\n",
       "    }\n",
       "\n",
       "    .dataframe tbody tr th {\n",
       "        vertical-align: top;\n",
       "    }\n",
       "\n",
       "    .dataframe thead th {\n",
       "        text-align: right;\n",
       "    }\n",
       "</style>\n",
       "<table border=\"1\" class=\"dataframe\">\n",
       "  <thead>\n",
       "    <tr style=\"text-align: right;\">\n",
       "      <th></th>\n",
       "      <th>user_id</th>\n",
       "      <th>gender</th>\n",
       "      <th>age</th>\n",
       "    </tr>\n",
       "  </thead>\n",
       "  <tbody>\n",
       "    <tr>\n",
       "      <th>0</th>\n",
       "      <td>0</td>\n",
       "      <td>M</td>\n",
       "      <td>senior</td>\n",
       "    </tr>\n",
       "    <tr>\n",
       "      <th>1</th>\n",
       "      <td>1</td>\n",
       "      <td>M</td>\n",
       "      <td>middle</td>\n",
       "    </tr>\n",
       "    <tr>\n",
       "      <th>2</th>\n",
       "      <td>2</td>\n",
       "      <td>M</td>\n",
       "      <td>senior</td>\n",
       "    </tr>\n",
       "    <tr>\n",
       "      <th>3</th>\n",
       "      <td>3</td>\n",
       "      <td>M</td>\n",
       "      <td>middle</td>\n",
       "    </tr>\n",
       "    <tr>\n",
       "      <th>4</th>\n",
       "      <td>4</td>\n",
       "      <td>M</td>\n",
       "      <td>middle</td>\n",
       "    </tr>\n",
       "  </tbody>\n",
       "</table>\n",
       "</div>"
      ],
      "text/plain": [
       "   user_id gender     age\n",
       "0        0      M  senior\n",
       "1        1      M  middle\n",
       "2        2      M  senior\n",
       "3        3      M  middle\n",
       "4        4      M  middle"
      ]
     },
     "execution_count": 8,
     "metadata": {},
     "output_type": "execute_result"
    }
   ],
   "source": [
    "def cast_age_to_bin(x: int):\n",
    "    if 0 <= x < 12:\n",
    "        return \"young\"\n",
    "    elif 12 <= x < 25:\n",
    "        return \"middle\"\n",
    "    elif 25 <= x < 40:\n",
    "        return \"senior\"\n",
    "    elif 40 <= x:\n",
    "        return \"old\"\n",
    "    else:\n",
    "        return \"other\"\n",
    "\n",
    "user_features_data[\"age\"] = user_features_data['age'].apply(cast_age_to_bin)\n",
    "user_features_data.head()"
   ]
  },
  {
   "cell_type": "code",
   "execution_count": 9,
   "id": "52e531469baee061",
   "metadata": {
    "ExecuteTime": {
     "end_time": "2024-10-25T12:01:17.185768Z",
     "start_time": "2024-10-25T12:01:17.181977Z"
    }
   },
   "outputs": [],
   "source": [
    "def _collect_features_with_feature_names(\n",
    "    df: pd.DataFrame,\n",
    "    columns: list[str],\n",
    ") -> pd.Series:\n",
    "    features = df[columns].apply(\n",
    "        lambda row: \",\".join(\n",
    "            [\",\".join(f\"{col}_{value.strip()}\" \n",
    "                      for value in str(row[col]).split(\",\")) for col in columns],\n",
    "        ),\n",
    "        axis=1,\n",
    "    )\n",
    "    return features\n",
    "\n",
    "def _generate_feature_list(\n",
    "    df: pd.DataFrame,\n",
    "    columns = None,\n",
    ") -> list[str]:\n",
    "    \"\"\"Generate the list of features of corresponding columns to list\n",
    "    in order to fit the lightfm Dataset\n",
    "    \"\"\"\n",
    "    if columns is None:\n",
    "        columns = df.columns\n",
    "\n",
    "    features = _collect_features_with_feature_names(df, columns)\n",
    "    features = features.str.split(\",\")\n",
    "    features = features.apply(pd.Series).stack().reset_index(drop=True).to_list()\n",
    "    return features\n",
    "\n",
    "def _prepare_user_features(\n",
    "    df: pd.DataFrame,\n",
    "    columns = None,\n",
    ") -> list[tuple[str, list[str]]]:\n",
    "    \"\"\"Prepare the corresponding feature formats for\n",
    "    the lightfm.dataset's build_item_features function\n",
    "    \"\"\"\n",
    "    if columns is None:\n",
    "        columns = df.columns\n",
    "\n",
    "    features = _collect_features_with_feature_names(df, columns)\n",
    "    features = features.str.split(\",\")\n",
    "    features = list(zip(df.index.to_list(), features))\n",
    "    return features"
   ]
  },
  {
   "cell_type": "code",
   "execution_count": 10,
   "id": "41708807eab9274d",
   "metadata": {
    "ExecuteTime": {
     "end_time": "2024-10-25T12:01:17.460666Z",
     "start_time": "2024-10-25T12:01:17.217660Z"
    }
   },
   "outputs": [
    {
     "data": {
      "text/plain": [
       "6"
      ]
     },
     "execution_count": 10,
     "metadata": {},
     "output_type": "execute_result"
    }
   ],
   "source": [
    "all_user_features = _generate_feature_list(user_features_data, [\"gender\", \"age\"])\n",
    "len(set(all_user_features))"
   ]
  },
  {
   "cell_type": "code",
   "execution_count": 11,
   "id": "9fef1b95-8ab6-42c0-88c4-9470f0ad29d7",
   "metadata": {},
   "outputs": [],
   "source": [
    "# all_user_features"
   ]
  },
  {
   "cell_type": "code",
   "execution_count": 12,
   "id": "a0d7af9b4b1ef02a",
   "metadata": {
    "ExecuteTime": {
     "end_time": "2024-10-25T12:01:18.317646Z",
     "start_time": "2024-10-25T12:01:17.481362Z"
    }
   },
   "outputs": [],
   "source": [
    "import lightfm\n",
    "from lightfm.data import Dataset"
   ]
  },
  {
   "cell_type": "code",
   "execution_count": 13,
   "id": "259cc4bbfdf6e139",
   "metadata": {
    "ExecuteTime": {
     "end_time": "2024-10-25T12:01:18.323103Z",
     "start_time": "2024-10-25T12:01:18.320987Z"
    }
   },
   "outputs": [],
   "source": [
    "dataset = Dataset()"
   ]
  },
  {
   "cell_type": "code",
   "execution_count": 14,
   "id": "e00fe89339a06a09",
   "metadata": {
    "ExecuteTime": {
     "end_time": "2024-10-25T12:01:18.334873Z",
     "start_time": "2024-10-25T12:01:18.330456Z"
    }
   },
   "outputs": [],
   "source": [
    "dataset.fit(\n",
    "    users=user_features_data[\"user_id\"].to_list(),\n",
    "    items=items_features_data[\"item_id\"].to_list(),\n",
    "    user_features=list(set(all_user_features)),\n",
    "    item_features=items_features_data.columns[1:]\n",
    ")"
   ]
  },
  {
   "cell_type": "code",
   "execution_count": 15,
   "id": "bf16dabaa5161794",
   "metadata": {
    "ExecuteTime": {
     "end_time": "2024-10-25T12:01:18.375488Z",
     "start_time": "2024-10-25T12:01:18.341700Z"
    }
   },
   "outputs": [
    {
     "data": {
      "text/plain": [
       "[(0, ['gender_M', 'age_senior']),\n",
       " (1, ['gender_M', 'age_middle']),\n",
       " (2, ['gender_M', 'age_senior']),\n",
       " (3, ['gender_M', 'age_middle']),\n",
       " (4, ['gender_M', 'age_middle']),\n",
       " (5, ['gender_F', 'age_senior']),\n",
       " (6, ['gender_F', 'age_young']),\n",
       " (7, ['gender_M', 'age_senior']),\n",
       " (8, ['gender_F', 'age_middle']),\n",
       " (9, ['gender_M', 'age_senior'])]"
      ]
     },
     "execution_count": 15,
     "metadata": {},
     "output_type": "execute_result"
    }
   ],
   "source": [
    "lightfm_user_features = _prepare_user_features(user_features_data, [\"gender\", \"age\"])\n",
    "lightfm_user_features[:10]"
   ]
  },
  {
   "cell_type": "code",
   "execution_count": 16,
   "id": "3b76c18691b8691e",
   "metadata": {
    "ExecuteTime": {
     "end_time": "2024-10-25T12:01:18.399535Z",
     "start_time": "2024-10-25T12:01:18.385987Z"
    }
   },
   "outputs": [
    {
     "data": {
      "text/plain": [
       "<6040x6046 sparse matrix of type '<class 'numpy.float32'>'\n",
       "\twith 18120 stored elements in Compressed Sparse Row format>"
      ]
     },
     "execution_count": 16,
     "metadata": {},
     "output_type": "execute_result"
    }
   ],
   "source": [
    "lightfm_user_features = dataset.build_user_features(lightfm_user_features)\n",
    "lightfm_user_features"
   ]
  },
  {
   "cell_type": "code",
   "execution_count": 17,
   "id": "59180b9877c826f6",
   "metadata": {
    "ExecuteTime": {
     "end_time": "2024-10-25T12:01:18.504410Z",
     "start_time": "2024-10-25T12:01:18.412622Z"
    }
   },
   "outputs": [
    {
     "data": {
      "text/plain": [
       "[[0, ['genre_1', 'genre_3', 'genre_4', 'genre_8', 'genre_13']],\n",
       " [1, ['genre_7']],\n",
       " [2, ['genre_7']],\n",
       " [3, ['genre_7', 'genre_13']],\n",
       " [4, ['genre_7']],\n",
       " [5, ['genre_14']],\n",
       " [6, ['genre_7']],\n",
       " [7, ['genre_0', 'genre_5', 'genre_7']],\n",
       " [8, ['genre_4']],\n",
       " [9, ['genre_7']]]"
      ]
     },
     "execution_count": 17,
     "metadata": {},
     "output_type": "execute_result"
    }
   ],
   "source": [
    "item_features = []\n",
    "for x in items_features_data.iloc:\n",
    "    temp_res = []\n",
    "    for i, value in enumerate(x[1:]):\n",
    "        if value != 0:\n",
    "            temp_res.append(f\"genre_{i}\")\n",
    "    item_features.append([x.to_list()[0], temp_res])\n",
    "item_features[:10]"
   ]
  },
  {
   "cell_type": "code",
   "execution_count": 18,
   "id": "52d70e37f1b9b2a9",
   "metadata": {
    "ExecuteTime": {
     "end_time": "2024-10-25T12:01:18.530584Z",
     "start_time": "2024-10-25T12:01:18.521241Z"
    }
   },
   "outputs": [
    {
     "data": {
      "text/plain": [
       "<3706x3724 sparse matrix of type '<class 'numpy.float32'>'\n",
       "\twith 9898 stored elements in Compressed Sparse Row format>"
      ]
     },
     "execution_count": 18,
     "metadata": {},
     "output_type": "execute_result"
    }
   ],
   "source": [
    "lightfm_item_features = dataset.build_item_features(item_features)\n",
    "lightfm_item_features"
   ]
  },
  {
   "cell_type": "code",
   "execution_count": 19,
   "id": "f77b88ce6ba4dbef",
   "metadata": {
    "ExecuteTime": {
     "end_time": "2024-10-25T12:01:30.645912Z",
     "start_time": "2024-10-25T12:01:18.559466Z"
    }
   },
   "outputs": [
    {
     "name": "stdout",
     "output_type": "stream",
     "text": [
      "CPU times: user 11.2 s, sys: 2.54 ms, total: 11.2 s\n",
      "Wall time: 11.2 s\n"
     ]
    }
   ],
   "source": [
    "%%time\n",
    "\n",
    "(interactions, weights) = dataset.build_interactions(\n",
    "    [x['user_id'], x['item_id'], x['rating']] for x in events_data.iloc\n",
    ")"
   ]
  },
  {
   "cell_type": "code",
   "execution_count": 20,
   "id": "24c76474712ae8c2",
   "metadata": {
    "ExecuteTime": {
     "end_time": "2024-10-25T12:01:30.673957Z",
     "start_time": "2024-10-25T12:01:30.655592Z"
    }
   },
   "outputs": [
    {
     "data": {
      "text/plain": [
       "833749"
      ]
     },
     "execution_count": 20,
     "metadata": {},
     "output_type": "execute_result"
    }
   ],
   "source": [
    "interactions.toarray().sum()"
   ]
  },
  {
   "cell_type": "code",
   "execution_count": 21,
   "id": "51c86d3b273cb8ab",
   "metadata": {
    "ExecuteTime": {
     "end_time": "2024-10-25T12:02:49.337725Z",
     "start_time": "2024-10-25T12:01:30.684106Z"
    }
   },
   "outputs": [
    {
     "name": "stderr",
     "output_type": "stream",
     "text": [
      "Epoch: 100%|██████████| 100/100 [02:30<00:00,  1.51s/it]\n"
     ]
    },
    {
     "data": {
      "text/plain": [
       "<lightfm.lightfm.LightFM at 0xffff1ee7a4f0>"
      ]
     },
     "execution_count": 21,
     "metadata": {},
     "output_type": "execute_result"
    }
   ],
   "source": [
    "from lightfm import LightFM\n",
    "\n",
    "model = LightFM(\n",
    "    no_components=20,\n",
    "    loss=\"warp\",\n",
    "    learning_rate=2e-2,\n",
    "    learning_schedule='adagrad',\n",
    "    random_state=42,\n",
    "    # k=15\n",
    ")\n",
    "model.fit(\n",
    "    interactions=interactions,\n",
    "    sample_weight=weights,\n",
    "    item_features=lightfm_item_features,\n",
    "    user_features=lightfm_user_features,\n",
    "    verbose=True,\n",
    "    epochs=100, # ? хз\n",
    "    num_threads=20,\n",
    ")"
   ]
  },
  {
   "cell_type": "code",
   "execution_count": 22,
   "id": "48328d0d04cbc3cc",
   "metadata": {
    "ExecuteTime": {
     "end_time": "2024-10-25T12:02:49.349691Z",
     "start_time": "2024-10-25T12:02:49.347227Z"
    }
   },
   "outputs": [],
   "source": [
    "def _prepare_user_item_pairs(\n",
    "    cnum_ids: list[int],\n",
    "    product_ids: list[int],\n",
    ") -> (list[int], list[int]):\n",
    "    num_products = len(product_ids)\n",
    "\n",
    "    users, items = [], []\n",
    "    for cnum_id in cnum_ids:\n",
    "        users.extend([cnum_id] * num_products)\n",
    "        items.extend(product_ids)\n",
    "\n",
    "    return users, items"
   ]
  },
  {
   "cell_type": "code",
   "execution_count": 23,
   "id": "a35a87e8c7db128b",
   "metadata": {
    "ExecuteTime": {
     "end_time": "2024-10-25T12:02:49.519358Z",
     "start_time": "2024-10-25T12:02:49.357946Z"
    }
   },
   "outputs": [],
   "source": [
    "client_ids, item_ids = _prepare_user_item_pairs(user_features_data['user_id'].to_list(), items_features_data['item_id'].to_list())"
   ]
  },
  {
   "cell_type": "code",
   "execution_count": 24,
   "id": "5f1510bf5235fbf8",
   "metadata": {
    "ExecuteTime": {
     "end_time": "2024-10-25T12:02:51.303231Z",
     "start_time": "2024-10-25T12:02:49.528928Z"
    }
   },
   "outputs": [],
   "source": [
    "raw_model_predictions = model.predict(\n",
    "    client_ids,\n",
    "    item_ids,\n",
    "    user_features=lightfm_user_features,\n",
    "    item_features=lightfm_item_features,\n",
    ").reshape(len(user_features_data), len(items_features_data))"
   ]
  },
  {
   "cell_type": "code",
   "execution_count": 25,
   "id": "73acfb00246dc59a",
   "metadata": {
    "ExecuteTime": {
     "end_time": "2024-10-25T12:02:51.314998Z",
     "start_time": "2024-10-25T12:02:51.312141Z"
    }
   },
   "outputs": [],
   "source": [
    "import numpy as np\n",
    "\n",
    "def _mask_and_order_predictions(\n",
    "    raw_model_predictions: np.ndarray,\n",
    "    existing_interactions: np.ndarray,\n",
    ") -> np.ndarray:\n",
    "\n",
    "    filtered_predictions = np.where(~existing_interactions, raw_model_predictions, -np.inf)\n",
    "    product_id_predictions = np.argsort(-filtered_predictions, axis=1)\n",
    "    # Filter out those who were -np.inf to -1\n",
    "    n_relevant_per_cnum = (filtered_predictions != -np.inf).sum(axis=1)\n",
    "    column_indices = np.arange(product_id_predictions.shape[1])\n",
    "    mask = column_indices >= n_relevant_per_cnum[:, np.newaxis]\n",
    "    product_id_predictions[mask] = -1\n",
    "    # print(product_id_predictions)\n",
    "\n",
    "    return product_id_predictions"
   ]
  },
  {
   "cell_type": "code",
   "execution_count": 26,
   "id": "636e7853e246eeec",
   "metadata": {
    "ExecuteTime": {
     "end_time": "2024-10-25T12:02:52.426346Z",
     "start_time": "2024-10-25T12:02:51.322996Z"
    }
   },
   "outputs": [
    {
     "data": {
      "text/plain": [
       "array([[2732, 1811,  472, 2256, 2342, 1001,  331, 2688, 2630, 3298],\n",
       "       [3529, 3013,  463,  584, 1699, 1039,  208, 2908,  106,   36],\n",
       "       [ 640, 1831, 2210, 1956, 1039, 2603, 2342, 2630, 3694, 2331],\n",
       "       [3022, 2194, 2342, 1617, 3327, 3435, 3529,  802, 3005, 2603],\n",
       "       [1583, 1337, 2297, 2646, 2402, 1039, 3022, 1030, 1560, 2732],\n",
       "       [ 472, 1315, 2054,  883,  530, 3013, 1223, 3350, 3367,  406],\n",
       "       [ 472, 2528, 3677, 2732, 2402, 2636, 2646,  467, 2281, 2256],\n",
       "       [2210,  584,  476, 2630,  463, 2646, 1956, 3238, 1746,  331],\n",
       "       [1240, 2587, 2119, 2335,  663, 1070, 1848, 3227, 3338,   59],\n",
       "       [3013,   36, 1560, 2297, 1505,  989, 1592, 2664, 2054,  124]])"
      ]
     },
     "execution_count": 26,
     "metadata": {},
     "output_type": "execute_result"
    }
   ],
   "source": [
    "matrix_to_exclude = interactions.toarray().astype(bool)\n",
    "res = _mask_and_order_predictions(raw_model_predictions, matrix_to_exclude)[:, :10]\n",
    "res[:10]"
   ]
  },
  {
   "cell_type": "code",
   "execution_count": 27,
   "id": "8b27fff37b14505d",
   "metadata": {
    "ExecuteTime": {
     "end_time": "2024-10-25T12:02:52.689676Z",
     "start_time": "2024-10-25T12:02:52.687843Z"
    }
   },
   "outputs": [
    {
     "name": "stderr",
     "output_type": "stream",
     "text": [
      "100%|██████████| 6040/6040 [00:00<00:00, 10904.88it/s]"
     ]
    },
    {
     "name": "stdout",
     "output_type": "stream",
     "text": [
      "0.04874172185430463\n"
     ]
    },
    {
     "name": "stderr",
     "output_type": "stream",
     "text": [
      "\n"
     ]
    }
   ],
   "source": [
    "# VALIDATION\n",
    "\n",
    "from tqdm import tqdm\n",
    "\n",
    "total = 0\n",
    "for i, predictions in enumerate(tqdm(res)):\n",
    "    relevant = top_10_per_user[top_10_per_user['user_id'] == i]['item_id'].to_list()\n",
    "    for item in predictions:\n",
    "        if item in relevant:\n",
    "            total += 1\n",
    "\n",
    "print(total / 10 / len(res))"
   ]
  },
  {
   "cell_type": "code",
   "execution_count": 28,
   "id": "df15ba8106a64437",
   "metadata": {
    "ExecuteTime": {
     "end_time": "2024-10-25T12:02:52.887721Z",
     "start_time": "2024-10-25T12:02:52.872380Z"
    }
   },
   "outputs": [],
   "source": [
    "predictions = [\" \".join([str(y) for y in x]) for x in res]"
   ]
  },
  {
   "cell_type": "code",
   "execution_count": 29,
   "id": "b7ed2a532c2a2a5e",
   "metadata": {
    "ExecuteTime": {
     "end_time": "2024-10-25T12:02:52.931644Z",
     "start_time": "2024-10-25T12:02:52.926076Z"
    }
   },
   "outputs": [
    {
     "data": {
      "text/html": [
       "<div>\n",
       "<style scoped>\n",
       "    .dataframe tbody tr th:only-of-type {\n",
       "        vertical-align: middle;\n",
       "    }\n",
       "\n",
       "    .dataframe tbody tr th {\n",
       "        vertical-align: top;\n",
       "    }\n",
       "\n",
       "    .dataframe thead th {\n",
       "        text-align: right;\n",
       "    }\n",
       "</style>\n",
       "<table border=\"1\" class=\"dataframe\">\n",
       "  <thead>\n",
       "    <tr style=\"text-align: right;\">\n",
       "      <th></th>\n",
       "      <th>user_id</th>\n",
       "      <th>item_id</th>\n",
       "    </tr>\n",
       "  </thead>\n",
       "  <tbody>\n",
       "    <tr>\n",
       "      <th>0</th>\n",
       "      <td>0</td>\n",
       "      <td>2732 1811 472 2256 2342 1001 331 2688 2630 3298</td>\n",
       "    </tr>\n",
       "    <tr>\n",
       "      <th>1</th>\n",
       "      <td>1</td>\n",
       "      <td>3529 3013 463 584 1699 1039 208 2908 106 36</td>\n",
       "    </tr>\n",
       "    <tr>\n",
       "      <th>2</th>\n",
       "      <td>2</td>\n",
       "      <td>640 1831 2210 1956 1039 2603 2342 2630 3694 2331</td>\n",
       "    </tr>\n",
       "    <tr>\n",
       "      <th>3</th>\n",
       "      <td>3</td>\n",
       "      <td>3022 2194 2342 1617 3327 3435 3529 802 3005 2603</td>\n",
       "    </tr>\n",
       "    <tr>\n",
       "      <th>4</th>\n",
       "      <td>4</td>\n",
       "      <td>1583 1337 2297 2646 2402 1039 3022 1030 1560 2732</td>\n",
       "    </tr>\n",
       "  </tbody>\n",
       "</table>\n",
       "</div>"
      ],
      "text/plain": [
       "   user_id                                            item_id\n",
       "0        0    2732 1811 472 2256 2342 1001 331 2688 2630 3298\n",
       "1        1        3529 3013 463 584 1699 1039 208 2908 106 36\n",
       "2        2   640 1831 2210 1956 1039 2603 2342 2630 3694 2331\n",
       "3        3   3022 2194 2342 1617 3327 3435 3529 802 3005 2603\n",
       "4        4  1583 1337 2297 2646 2402 1039 3022 1030 1560 2732"
      ]
     },
     "execution_count": 29,
     "metadata": {},
     "output_type": "execute_result"
    }
   ],
   "source": [
    "output = pd.DataFrame(\n",
    "    {\n",
    "        'user_id': user_features_data['user_id'].to_list(),\n",
    "        \"item_id\": predictions\n",
    "    }\n",
    ")\n",
    "output.head()"
   ]
  },
  {
   "cell_type": "code",
   "execution_count": 30,
   "id": "880df342a1e7ab55",
   "metadata": {
    "ExecuteTime": {
     "end_time": "2024-10-25T12:02:52.980837Z",
     "start_time": "2024-10-25T12:02:52.978114Z"
    }
   },
   "outputs": [
    {
     "data": {
      "text/plain": [
       "user_id                                               6039\n",
       "item_id    3022 640 1831 3529 2630 2067 2510 2342 2784 476\n",
       "Name: 6039, dtype: object"
      ]
     },
     "execution_count": 30,
     "metadata": {},
     "output_type": "execute_result"
    }
   ],
   "source": [
    "output.iloc[-1]"
   ]
  },
  {
   "cell_type": "code",
   "execution_count": 31,
   "id": "77460bfa70d1845a",
   "metadata": {
    "ExecuteTime": {
     "end_time": "2024-10-25T12:02:53.026204Z",
     "start_time": "2024-10-25T12:02:53.012236Z"
    }
   },
   "outputs": [],
   "source": [
    "output.to_csv(\"result.csv\", index=None)"
   ]
  },
  {
   "cell_type": "code",
   "execution_count": null,
   "id": "433d838726087a64",
   "metadata": {
    "ExecuteTime": {
     "end_time": "2024-10-25T12:02:53.049180Z",
     "start_time": "2024-10-25T12:02:53.047594Z"
    }
   },
   "outputs": [],
   "source": []
  }
 ],
 "metadata": {
  "kernelspec": {
   "display_name": "Python 3 (ipykernel)",
   "language": "python",
   "name": "python3"
  },
  "language_info": {
   "codemirror_mode": {
    "name": "ipython",
    "version": 3
   },
   "file_extension": ".py",
   "mimetype": "text/x-python",
   "name": "python",
   "nbconvert_exporter": "python",
   "pygments_lexer": "ipython3",
   "version": "3.9.20"
  }
 },
 "nbformat": 4,
 "nbformat_minor": 5
}
